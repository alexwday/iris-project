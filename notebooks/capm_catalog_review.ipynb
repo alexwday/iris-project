{
 "cells": [
  {
   "cell_type": "markdown",
   "metadata": {},
   "source": [
    "# CAPM Catalog and Content Summary Review\n",
    "\n",
    "This notebook fetches and displays the catalog descriptions and content summaries for documents sourced from 'internal_capm'."
   ]
  },
  {
   "cell_type": "code",
   "execution_count": null,
   "metadata": {},
   "outputs": [],
   "source": [
    "import sys\n",
    "import os\n",
    "import pandas as pd\n",
    "import psycopg2\n",
    "\n",
    "# Add project root to path to import db_config\n",
    "project_root = os.path.abspath(os.path.join(os.getcwd(), '..'))\n",
    "if project_root not in sys.path:\n",
    "    sys.path.insert(0, project_root)\n",
    "\n",
    "try:\n",
    "    from iris.src.initial_setup.db_config import connect_to_db, LOCAL_DB_PARAMS\n",
    "except ImportError as e:\n",
    "    print(f\"Error importing db_config: {e}\")\n",
    "    print(\"Ensure the notebook is run from the 'notebooks' directory or adjust the path.\")\n",
    "    LOCAL_DB_PARAMS = None # Set to None to indicate failure\n",
    "    connect_to_db = None\n",
    "\n",
    "pd.set_option('display.max_rows', 200)\n",
    "pd.set_option('display.max_colwidth', 500)"
   ]
  },
  {
   "cell_type": "code",
   "execution_count": null,
   "metadata": {},
   "outputs": [],
   "source": [
    "conn = None\n",
    "catalog_df = pd.DataFrame()\n",
    "content_summary_df = pd.DataFrame()\n",
    "\n",
    "if connect_to_db:\n",
    "    try:\n",
    "        print(f\"Connecting to database: {LOCAL_DB_PARAMS['dbname']} on {LOCAL_DB_PARAMS['host']}:{LOCAL_DB_PARAMS['port']} as {LOCAL_DB_PARAMS['user']}\")\n",
    "        conn = connect_to_db(env='local') # Assuming local environment for notebook\n",
    "        \n",
    "        if conn:\n",
    "            print(\"Connection successful.\")\n",
    "            \n",
    "            # Fetch Catalog Data\n",
    "            print(\"Fetching CAPM catalog data...\")\n",
    "            catalog_query = \"\"\"\n",
    "                SELECT id, document_name, document_description \n",
    "                FROM apg_catalog \n",
    "                WHERE document_source = 'internal_capm' \n",
    "                ORDER BY document_name;\n",
    "            \"\"\"\n",
    "            catalog_df = pd.read_sql(catalog_query, conn)\n",
    "            print(f\"Fetched {len(catalog_df)} catalog entries.\")\n",
    "\n",
    "            # Fetch Content Summaries\n",
    "            print(\"Fetching CAPM content summaries...\")\n",
    "            content_summary_query = \"\"\"\n",
    "                SELECT document_name, section_id, section_name, section_summary \n",
    "                FROM apg_content \n",
    "                WHERE document_source = 'internal_capm' \n",
    "                ORDER BY document_name, section_id;\n",
    "            \"\"\"\n",
    "            content_summary_df = pd.read_sql(content_summary_query, conn)\n",
    "            print(f\"Fetched {len(content_summary_df)} content summary entries.\")\n",
    "\n",
    "        else:\n",
    "            print(\"Database connection failed.\")\n",
    "\n",
    "    except (Exception, psycopg2.Error) as error:\n",
    "        print(f\"Error while connecting to or querying PostgreSQL: {error}\")\n",
    "\n",
    "    finally:\n",
    "        # Closing database connection.\n",
    "        if conn:\n",
    "            conn.close()\n",
    "            print(\"Database connection closed.\")\n",
    "else:\n",
    "    print(\"Database configuration not loaded. Cannot connect to DB.\")"
   ]
  },
  {
   "cell_type": "markdown",
   "metadata": {},
   "source": [
    "## CAPM Catalog (`apg_catalog`)"
   ]
  },
  {
   "cell_type": "code",
   "execution_count": null,
   "metadata": {},
   "outputs": [],
   "source": [
    "if not catalog_df.empty:\n",
    "    display(catalog_df)\n",
    "else:\n",
    "    print(\"No catalog data loaded.\")"
   ]
  },
  {
   "cell_type": "markdown",
   "metadata": {},
   "source": [
    "## CAPM Content Summaries (`apg_content`)"
   ]
  },
  {
   "cell_type": "code",
   "execution_count": null,
   "metadata": {},
   "outputs": [],
   "source": [
    "if not content_summary_df.empty:\n",
    "    display(content_summary_df)\n",
    "else:\n",
    "    print(\"No content summary data loaded.\")"
   ]
  }
 ],
 "metadata": {
  "kernelspec": {
   "display_name": "Python 3",
   "language": "python",
   "name": "python3"
  },
  "language_info": {
   "codemirror_mode": {
    "name": "ipython",
    "version": 3
   },
   "file_extension": ".py",
   "mimetype": "text/x-python",
   "name": "python",
   "nbconvert_exporter": "python",
   "pygments_lexer": "ipython3",
   "version": "3.9.7"
  }
 },
 "nbformat": 4,
 "nbformat_minor": 5
}
