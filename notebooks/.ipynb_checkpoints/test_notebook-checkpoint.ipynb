{
 "cells": [
  {
   "cell_type": "code",
   "execution_count": 1,
   "id": "1169096d",
   "metadata": {},
   "outputs": [
    {
     "name": "stderr",
     "output_type": "stream",
     "text": [
      "INFO:iris.src.chat_model.model_settings:Using environment: local\n",
      "INFO:iris.src.chat_model.model_settings:Using API base URL: https://api.openai.com/v1\n"
     ]
    }
   ],
   "source": [
    "# This enables auto-reloading of modules\n",
    "%load_ext autoreload\n",
    "%autoreload 2\n",
    "\n",
    "# Import the model\n",
    "from iris.src.chat_model.model import model"
   ]
  },
  {
   "cell_type": "code",
   "execution_count": 2,
   "id": "f8e42f72-04cf-4a2c-88cf-c774934d1167",
   "metadata": {},
   "outputs": [],
   "source": [
    "# Define conversation for testing\n",
    "conversation = {\n",
    "    \"messages\": [\n",
    "        {\"role\": \"system\", \"content\": \"You are a helpful assistant specialized in accounting.\"},\n",
    "        {\"role\": \"user\", \"content\": \"Research the par process\"}\n",
    "    ]\n",
    "}\n",
    "\n",
    "# You can modify the conversation above to test different scenarios"
   ]
  },
  {
   "cell_type": "code",
   "execution_count": 3,
   "id": "8fa7cccd",
   "metadata": {},
   "outputs": [
    {
     "name": "stderr",
     "output_type": "stream",
     "text": [
      "INFO:iris.src.chat_model.model_settings:Using small model: gpt-4o-mini-2024-07-18 in local environment\n",
      "INFO:iris.src.chat_model.model_settings:Using large model: gpt-4o-2024-08-06 in local environment\n",
      "INFO:iris.src.chat_model.model_settings:Using small model: gpt-4o-mini-2024-07-18 in local environment\n",
      "INFO:iris.src.chat_model.model_settings:Using small model: gpt-4o-mini-2024-07-18 in local environment\n",
      "2025-04-06 22:24:14,574 - root - INFO - Logging system initialized\n",
      "2025-04-06 22:24:14,574 - root - INFO - Initializing model setup (sync core)...\n",
      "2025-04-06 22:24:14,574 - iris.src.initial_setup.ssl.ssl - INFO - SSL certificate setup skipped in local environment\n",
      "2025-04-06 22:24:14,574 - iris.src.initial_setup.oauth.oauth - INFO - Using API key authentication from local settings\n",
      "2025-04-06 22:24:14,574 - iris.src.initial_setup.oauth.oauth - INFO - Using OpenAI API key from settings: sk-proj...\n",
      "2025-04-06 22:24:14,574 - root - INFO - Processing input conversation...\n",
      "2025-04-06 22:24:14,574 - iris.src.conversation_setup.conversation - INFO - Processed conversation: 2 messages filtered to 1 messages\n",
      "2025-04-06 22:24:14,575 - root - INFO - Conversation processed: 1 messages\n",
      "2025-04-06 22:24:14,575 - root - INFO - Getting routing decision...\n",
      "2025-04-06 22:24:14,575 - iris.src.agents.agent_router.router - INFO - Getting routing decision using model: gpt-4o-mini-2024-07-18\n",
      "2025-04-06 22:24:14,575 - iris.src.agents.agent_router.router - INFO - Initiating Router API call\n",
      "2025-04-06 22:24:14,607 - iris.src.llm_connectors.rbc_openai - INFO - Using API key: sk-proj...\n",
      "2025-04-06 22:24:14,607 - iris.src.llm_connectors.rbc_openai - INFO - Using API base URL: https://api.openai.com/v1\n",
      "2025-04-06 22:24:14,607 - iris.src.llm_connectors.rbc_openai - INFO - Making non-streaming call to model: gpt-4o-mini-2024-07-18 with tools in local environment\n",
      "2025-04-06 22:24:14,607 - iris.src.llm_connectors.rbc_openai - INFO - Attempt 1/3: Sending request to OpenAI API\n",
      "2025-04-06 22:24:14,607 - iris.src.llm_connectors.rbc_openai - INFO - API call parameters (excluding message content): {'model': 'gpt-4o-mini-2024-07-18', 'max_tokens': 4096, 'temperature': 0.0, 'stream': False, 'timeout': 30}\n",
      "2025-04-06 22:24:15,331 - httpx - INFO - HTTP Request: POST https://api.openai.com/v1/chat/completions \"HTTP/1.1 200 OK\"\n",
      "2025-04-06 22:24:15,340 - iris.src.llm_connectors.rbc_openai - INFO - Received response in 0.73 seconds\n",
      "2025-04-06 22:24:15,340 - iris.src.llm_connectors.rbc_openai - INFO - Token usage - Completion: 9 ($0.0000), Prompt: 3138 ($0.0000), Total: 3147 tokens, Total Cost: $0.0000\n",
      "2025-04-06 22:24:15,341 - iris.src.agents.agent_router.router - INFO - Routing decision: research_from_database\n",
      "2025-04-06 22:24:15,341 - root - INFO - Using research path based on routing decision\n",
      "2025-04-06 22:24:15,342 - root - INFO - Clarifying research needs...\n",
      "2025-04-06 22:24:15,342 - iris.src.agents.agent_clarifier.clarifier - INFO - Clarifying research needs using model: gpt-4o-mini-2024-07-18\n",
      "2025-04-06 22:24:15,342 - iris.src.agents.agent_clarifier.clarifier - INFO - Initiating Clarifier API call\n",
      "2025-04-06 22:24:15,353 - iris.src.llm_connectors.rbc_openai - INFO - Using API key: sk-proj...\n",
      "2025-04-06 22:24:15,354 - iris.src.llm_connectors.rbc_openai - INFO - Using API base URL: https://api.openai.com/v1\n",
      "2025-04-06 22:24:15,354 - iris.src.llm_connectors.rbc_openai - INFO - Making non-streaming call to model: gpt-4o-mini-2024-07-18 with tools in local environment\n",
      "2025-04-06 22:24:15,354 - iris.src.llm_connectors.rbc_openai - INFO - Attempt 1/3: Sending request to OpenAI API\n",
      "2025-04-06 22:24:15,355 - iris.src.llm_connectors.rbc_openai - INFO - API call parameters (excluding message content): {'model': 'gpt-4o-mini-2024-07-18', 'max_tokens': 4096, 'temperature': 0.0, 'stream': False, 'timeout': 30}\n",
      "2025-04-06 22:24:17,397 - httpx - INFO - HTTP Request: POST https://api.openai.com/v1/chat/completions \"HTTP/1.1 200 OK\"\n",
      "2025-04-06 22:24:17,400 - iris.src.llm_connectors.rbc_openai - INFO - Received response in 2.05 seconds\n",
      "2025-04-06 22:24:17,400 - iris.src.llm_connectors.rbc_openai - INFO - Token usage - Completion: 78 ($0.0000), Prompt: 4238 ($0.0000), Total: 4316 tokens, Total Cost: $0.0000\n",
      "2025-04-06 22:24:17,401 - iris.src.agents.agent_clarifier.clarifier - INFO - Clarifier decision: create_research_statement\n",
      "2025-04-06 22:24:17,402 - iris.src.agents.agent_clarifier.clarifier - INFO - Determined scope: research\n",
      "2025-04-06 22:24:17,402 - iris.src.agents.agent_clarifier.clarifier - INFO - Is continuation: False\n",
      "2025-04-06 22:24:17,403 - root - INFO - Creating research statement, proceeding with research\n",
      "2025-04-06 22:24:17,403 - root - INFO - Research scope determined: research\n",
      "2025-04-06 22:24:17,404 - root - INFO - Creating database query plan...\n",
      "2025-04-06 22:24:17,404 - iris.src.agents.agent_planner.planner - INFO - Creating query plan using model: gpt-4o-mini-2024-07-18\n",
      "2025-04-06 22:24:17,404 - iris.src.agents.agent_planner.planner - INFO - Is continuation: False\n",
      "2025-04-06 22:24:17,405 - iris.src.agents.agent_planner.planner - INFO - Initiating Planner API call\n",
      "2025-04-06 22:24:17,415 - iris.src.llm_connectors.rbc_openai - INFO - Using API key: sk-proj...\n",
      "2025-04-06 22:24:17,415 - iris.src.llm_connectors.rbc_openai - INFO - Using API base URL: https://api.openai.com/v1\n",
      "2025-04-06 22:24:17,416 - iris.src.llm_connectors.rbc_openai - INFO - Making non-streaming call to model: gpt-4o-mini-2024-07-18 with tools in local environment\n",
      "2025-04-06 22:24:17,416 - iris.src.llm_connectors.rbc_openai - INFO - Attempt 1/3: Sending request to OpenAI API\n",
      "2025-04-06 22:24:17,416 - iris.src.llm_connectors.rbc_openai - INFO - API call parameters (excluding message content): {'model': 'gpt-4o-mini-2024-07-18', 'max_tokens': 4096, 'temperature': 0.0, 'stream': False, 'timeout': 30}\n",
      "2025-04-06 22:24:18,477 - httpx - INFO - HTTP Request: POST https://api.openai.com/v1/chat/completions \"HTTP/1.1 200 OK\"\n",
      "2025-04-06 22:24:18,481 - iris.src.llm_connectors.rbc_openai - INFO - Received response in 1.06 seconds\n",
      "2025-04-06 22:24:18,482 - iris.src.llm_connectors.rbc_openai - INFO - Token usage - Completion: 38 ($0.0000), Prompt: 2438 ($0.0000), Total: 2476 tokens, Total Cost: $0.0000\n",
      "2025-04-06 22:24:18,482 - iris.src.agents.agent_planner.planner - INFO - Query plan created with 2 queries\n",
      "2025-04-06 22:24:18,483 - root - INFO - Query plan created with 2 queries\n"
     ]
    },
    {
     "name": "stdout",
     "output_type": "stream",
     "text": [
      "---\n",
      "# 📋 Research Plan\n",
      "\n",
      "## Research Statement\n",
      "Research the Project Approval Request (PAR) process, focusing on internal RBC policy guidance and interpretations. This includes understanding the steps involved, documentation requirements, and any specific criteria that must be met according to RBC's internal policies. The research will primarily utilize the Project Approval Request Guidance database.\n",
      "\n",
      "Searching the following databases: Project Approval Request Guidance and Project Approval Request Guidance.\n",
      "\n",
      "---\n"
     ]
    },
    {
     "name": "stderr",
     "output_type": "stream",
     "text": [
      "2025-04-06 22:24:18,485 - root - INFO - Displayed simplified research plan.\n",
      "2025-04-06 22:24:18,485 - root - INFO - Starting 2 database queries concurrently...\n",
      "2025-04-06 22:24:18,486 - iris.src.chat_model.model - INFO - Thread executing query 1/2 for database: internal_par\n",
      "2025-04-06 22:24:18,487 - iris.src.chat_model.model - INFO - Thread executing query 2/2 for database: internal_par\n",
      "2025-04-06 22:24:18,487 - root - INFO - Submitted 2 queries to thread pool.\n",
      "2025-04-06 22:24:18,487 - iris.src.agents.database_subagents.database_router - INFO - Routing query (sync) to database: internal_par with scope: research\n",
      "2025-04-06 22:24:18,488 - iris.src.agents.database_subagents.database_router - INFO - Routing query (sync) to database: internal_par with scope: research\n",
      "2025-04-06 22:24:18,495 - iris.src.agents.database_subagents.internal_par.subagent - INFO - Querying Internal PAR database (sync): 'Project Approval Request process steps and documentation requirements' with scope: research\n",
      "2025-04-06 22:24:18,495 - iris.src.agents.database_subagents.internal_par.subagent - INFO - Querying Internal PAR database (sync): 'specific criteria for Project Approval Requests at RBC' with scope: research\n",
      "2025-04-06 22:24:18,496 - iris.src.agents.database_subagents.internal_par.subagent - INFO - Fetching full PAR catalog (environment: local)\n",
      "2025-04-06 22:24:18,497 - iris.src.agents.database_subagents.internal_par.subagent - INFO - Fetching full PAR catalog (environment: local)\n",
      "2025-04-06 22:24:18,519 - iris.src.agents.database_subagents.internal_par.subagent - INFO - Retrieved 3 PAR catalog entries from database\n",
      "2025-04-06 22:24:18,520 - iris.src.agents.database_subagents.internal_par.subagent - INFO - Retrieved 3 PAR catalog entries from database\n",
      "2025-04-06 22:24:18,520 - iris.src.agents.database_subagents.internal_par.subagent - INFO - Retrieved 3 total PAR catalog entries\n",
      "2025-04-06 22:24:18,520 - iris.src.agents.database_subagents.internal_par.subagent - INFO - Retrieved 3 total PAR catalog entries\n",
      "2025-04-06 22:24:18,521 - iris.src.agents.database_subagents.internal_par.subagent - INFO - Selecting relevant PAR documents from catalog\n",
      "2025-04-06 22:24:18,521 - iris.src.agents.database_subagents.internal_par.subagent - INFO - Selecting relevant PAR documents from catalog\n",
      "2025-04-06 22:24:18,521 - iris.src.agents.database_subagents.internal_par.subagent - INFO - Initiating PAR Document Selection API call (DB: internal_par)\n",
      "2025-04-06 22:24:18,522 - iris.src.agents.database_subagents.internal_par.subagent - INFO - Initiating PAR Document Selection API call (DB: internal_par)\n",
      "2025-04-06 22:24:18,523 - iris.src.chat_model.model_settings - INFO - Using small model: gpt-4o-mini-2024-07-18 in local environment\n",
      "2025-04-06 22:24:18,523 - iris.src.chat_model.model_settings - INFO - Using small model: gpt-4o-mini-2024-07-18 in local environment\n",
      "2025-04-06 22:24:18,532 - iris.src.llm_connectors.rbc_openai - INFO - Using API key: sk-proj...\n",
      "2025-04-06 22:24:18,533 - iris.src.llm_connectors.rbc_openai - INFO - Using API key: sk-proj...\n",
      "2025-04-06 22:24:18,533 - iris.src.llm_connectors.rbc_openai - INFO - Using API base URL: https://api.openai.com/v1\n",
      "2025-04-06 22:24:18,533 - iris.src.llm_connectors.rbc_openai - INFO - Using API base URL: https://api.openai.com/v1\n",
      "2025-04-06 22:24:18,534 - iris.src.llm_connectors.rbc_openai - INFO - Making non-streaming call to model: gpt-4o-mini-2024-07-18 in local environment\n",
      "2025-04-06 22:24:18,534 - iris.src.llm_connectors.rbc_openai - INFO - Making non-streaming call to model: gpt-4o-mini-2024-07-18 in local environment\n",
      "2025-04-06 22:24:18,534 - iris.src.llm_connectors.rbc_openai - INFO - Attempt 1/3: Sending request to OpenAI API\n",
      "2025-04-06 22:24:18,534 - iris.src.llm_connectors.rbc_openai - INFO - Attempt 1/3: Sending request to OpenAI API\n",
      "2025-04-06 22:24:18,535 - iris.src.llm_connectors.rbc_openai - INFO - API call parameters (excluding message content): {'model': 'gpt-4o-mini-2024-07-18', 'max_tokens': 200, 'temperature': 0.7, 'stream': False, 'timeout': 30}\n",
      "2025-04-06 22:24:18,535 - iris.src.llm_connectors.rbc_openai - INFO - API call parameters (excluding message content): {'model': 'gpt-4o-mini-2024-07-18', 'max_tokens': 200, 'temperature': 0.7, 'stream': False, 'timeout': 30}\n",
      "2025-04-06 22:24:19,050 - httpx - INFO - HTTP Request: POST https://api.openai.com/v1/chat/completions \"HTTP/1.1 200 OK\"\n",
      "2025-04-06 22:24:19,053 - iris.src.llm_connectors.rbc_openai - INFO - Received response in 0.52 seconds\n",
      "2025-04-06 22:24:19,054 - iris.src.llm_connectors.rbc_openai - INFO - Token usage - Completion: 7 ($0.0000), Prompt: 360 ($0.0000), Total: 367 tokens, Total Cost: $0.0000 (Database: internal_par)\n",
      "2025-04-06 22:24:19,055 - iris.src.agents.database_subagents.internal_par.subagent - INFO - LLM selected PAR document IDs: ['5', '4']\n",
      "2025-04-06 22:24:19,055 - iris.src.agents.database_subagents.internal_par.subagent - INFO - LLM selected 2 relevant PAR document IDs: ['5', '4']\n",
      "2025-04-06 22:24:19,056 - iris.src.agents.database_subagents.internal_par.subagent - INFO - Fetching PAR content for documents: ['5', '4']\n",
      "2025-04-06 22:24:19,064 - iris.src.agents.database_subagents.internal_par.subagent - INFO - Found 2 PAR documents for IDs: ['5', '4']\n",
      "2025-04-06 22:24:19,066 - iris.src.agents.database_subagents.internal_par.subagent - INFO - Retrieved PAR content for 2 documents from database\n",
      "2025-04-06 22:24:19,067 - iris.src.agents.database_subagents.internal_par.subagent - INFO - Retrieved content for 2 PAR documents for research.\n",
      "2025-04-06 22:24:19,067 - iris.src.agents.database_subagents.internal_par.subagent - INFO - Synthesizing response and status for internal_par using tool call.\n",
      "2025-04-06 22:24:19,068 - iris.src.agents.database_subagents.internal_par.subagent - INFO - Initiating PAR Synthesis API call (DB: internal_par)\n",
      "2025-04-06 22:24:19,068 - iris.src.chat_model.model_settings - INFO - Using large model: gpt-4o-2024-08-06 in local environment\n",
      "2025-04-06 22:24:19,068 - iris.src.agents.database_subagents.internal_par.subagent - INFO - Forcing non-streaming mode for tool call.\n",
      "2025-04-06 22:24:19,079 - iris.src.llm_connectors.rbc_openai - INFO - Using API key: sk-proj...\n",
      "2025-04-06 22:24:19,080 - iris.src.llm_connectors.rbc_openai - INFO - Using API base URL: https://api.openai.com/v1\n",
      "2025-04-06 22:24:19,080 - iris.src.llm_connectors.rbc_openai - INFO - Making non-streaming call to model: gpt-4o-2024-08-06 with tools in local environment\n",
      "2025-04-06 22:24:19,081 - iris.src.llm_connectors.rbc_openai - INFO - Attempt 1/3: Sending request to OpenAI API\n",
      "2025-04-06 22:24:19,081 - iris.src.llm_connectors.rbc_openai - INFO - API call parameters (excluding message content): {'model': 'gpt-4o-2024-08-06', 'max_tokens': 2500, 'temperature': 0.2, 'stream': False, 'timeout': 30}\n",
      "2025-04-06 22:24:19,101 - httpx - INFO - HTTP Request: POST https://api.openai.com/v1/chat/completions \"HTTP/1.1 200 OK\"\n",
      "2025-04-06 22:24:19,103 - iris.src.llm_connectors.rbc_openai - INFO - Received response in 0.57 seconds\n",
      "2025-04-06 22:24:19,103 - iris.src.llm_connectors.rbc_openai - INFO - Token usage - Completion: 7 ($0.0000), Prompt: 360 ($0.0000), Total: 367 tokens, Total Cost: $0.0000 (Database: internal_par)\n",
      "2025-04-06 22:24:19,103 - iris.src.agents.database_subagents.internal_par.subagent - INFO - LLM selected PAR document IDs: ['4', '6']\n",
      "2025-04-06 22:24:19,104 - iris.src.agents.database_subagents.internal_par.subagent - INFO - LLM selected 2 relevant PAR document IDs: ['4', '6']\n",
      "2025-04-06 22:24:19,104 - iris.src.agents.database_subagents.internal_par.subagent - INFO - Fetching PAR content for documents: ['4', '6']\n",
      "2025-04-06 22:24:19,110 - iris.src.agents.database_subagents.internal_par.subagent - INFO - Found 2 PAR documents for IDs: ['4', '6']\n",
      "2025-04-06 22:24:19,112 - iris.src.agents.database_subagents.internal_par.subagent - INFO - Retrieved PAR content for 2 documents from database\n",
      "2025-04-06 22:24:19,112 - iris.src.agents.database_subagents.internal_par.subagent - INFO - Retrieved content for 2 PAR documents for research.\n",
      "2025-04-06 22:24:19,113 - iris.src.agents.database_subagents.internal_par.subagent - INFO - Synthesizing response and status for internal_par using tool call.\n",
      "2025-04-06 22:24:19,113 - iris.src.agents.database_subagents.internal_par.subagent - INFO - Initiating PAR Synthesis API call (DB: internal_par)\n",
      "2025-04-06 22:24:19,113 - iris.src.chat_model.model_settings - INFO - Using large model: gpt-4o-2024-08-06 in local environment\n",
      "2025-04-06 22:24:19,114 - iris.src.agents.database_subagents.internal_par.subagent - INFO - Forcing non-streaming mode for tool call.\n",
      "2025-04-06 22:24:19,123 - iris.src.llm_connectors.rbc_openai - INFO - Using API key: sk-proj...\n",
      "2025-04-06 22:24:19,123 - iris.src.llm_connectors.rbc_openai - INFO - Using API base URL: https://api.openai.com/v1\n",
      "2025-04-06 22:24:19,124 - iris.src.llm_connectors.rbc_openai - INFO - Making non-streaming call to model: gpt-4o-2024-08-06 with tools in local environment\n",
      "2025-04-06 22:24:19,124 - iris.src.llm_connectors.rbc_openai - INFO - Attempt 1/3: Sending request to OpenAI API\n",
      "2025-04-06 22:24:19,124 - iris.src.llm_connectors.rbc_openai - INFO - API call parameters (excluding message content): {'model': 'gpt-4o-2024-08-06', 'max_tokens': 2500, 'temperature': 0.2, 'stream': False, 'timeout': 30}\n",
      "2025-04-06 22:24:25,671 - httpx - INFO - HTTP Request: POST https://api.openai.com/v1/chat/completions \"HTTP/1.1 200 OK\"\n",
      "2025-04-06 22:24:25,675 - iris.src.llm_connectors.rbc_openai - INFO - Received response in 6.59 seconds\n",
      "2025-04-06 22:24:25,676 - iris.src.llm_connectors.rbc_openai - INFO - Token usage - Completion: 522 ($0.0000), Prompt: 1187 ($0.0000), Total: 1709 tokens, Total Cost: $0.0000 (Database: internal_par)\n",
      "2025-04-06 22:24:25,677 - iris.src.agents.database_subagents.internal_par.subagent - INFO - Successfully parsed synthesis tool call for internal_par.\n",
      "2025-04-06 22:24:25,678 - iris.src.chat_model.model - INFO - Thread completed query for database: internal_par in 7.19s\n"
     ]
    },
    {
     "name": "stdout",
     "output_type": "stream",
     "text": [
      "\n",
      "\n",
      "---\n",
      "**Database:** Project Approval Request Guidance\n",
      "**Query:** `specific criteria for Project Approval Requests at RBC`\n",
      "**Status:** ✅ Found information directly addressing the query.\n",
      "---"
     ]
    },
    {
     "name": "stderr",
     "output_type": "stream",
     "text": [
      "2025-04-06 22:24:30,529 - httpx - INFO - HTTP Request: POST https://api.openai.com/v1/chat/completions \"HTTP/1.1 200 OK\"\n",
      "2025-04-06 22:24:30,533 - iris.src.llm_connectors.rbc_openai - INFO - Received response in 11.41 seconds\n",
      "2025-04-06 22:24:30,534 - iris.src.llm_connectors.rbc_openai - INFO - Token usage - Completion: 717 ($0.0000), Prompt: 1236 ($0.0000), Total: 1953 tokens, Total Cost: $0.0000 (Database: internal_par)\n",
      "2025-04-06 22:24:30,534 - iris.src.agents.database_subagents.internal_par.subagent - INFO - Successfully parsed synthesis tool call for internal_par.\n",
      "2025-04-06 22:24:30,535 - iris.src.chat_model.model - INFO - Thread completed query for database: internal_par in 12.05s\n"
     ]
    },
    {
     "name": "stdout",
     "output_type": "stream",
     "text": [
      "\n",
      "\n",
      "---\n",
      "**Database:** Project Approval Request Guidance\n",
      "**Query:** `Project Approval Request process steps and documentation requirements`\n",
      "**Status:** ✅ Found information directly addressing the query.\n",
      "---"
     ]
    },
    {
     "name": "stderr",
     "output_type": "stream",
     "text": [
      "2025-04-06 22:24:30,538 - root - INFO - All concurrent database queries completed processing.\n"
     ]
    },
    {
     "name": "stdout",
     "output_type": "stream",
     "text": [
      "\n",
      "\n",
      "## 📊 Research Summary\n"
     ]
    },
    {
     "name": "stderr",
     "output_type": "stream",
     "text": [
      "2025-04-06 22:24:30,539 - root - INFO - Calling generate_streaming_summary (assuming sync generator)\n",
      "2025-04-06 22:24:30,539 - iris.src.agents.agent_summarizer.summarizer - INFO - Generating final summary for scope: research\n",
      "2025-04-06 22:24:30,539 - iris.src.chat_model.model_settings - INFO - Using large model: gpt-4o-2024-08-06 in local environment\n",
      "2025-04-06 22:24:30,540 - iris.src.agents.agent_summarizer.summarizer - INFO - Generating streaming research summary using model: gpt-4o-2024-08-06\n",
      "2025-04-06 22:24:30,540 - iris.src.agents.agent_summarizer.summarizer - INFO - Summarizing detailed research from 1 databases.\n",
      "2025-04-06 22:24:30,541 - iris.src.agents.agent_summarizer.summarizer - INFO - Initiating Summarizer stream API call\n",
      "2025-04-06 22:24:30,551 - iris.src.llm_connectors.rbc_openai - INFO - Using API key: sk-proj...\n",
      "2025-04-06 22:24:30,552 - iris.src.llm_connectors.rbc_openai - INFO - Using API base URL: https://api.openai.com/v1\n",
      "2025-04-06 22:24:30,552 - iris.src.llm_connectors.rbc_openai - INFO - Making streaming call to model: gpt-4o-2024-08-06 in local environment\n",
      "2025-04-06 22:24:30,553 - iris.src.llm_connectors.rbc_openai - INFO - Attempt 1/3: Sending request to OpenAI API\n",
      "2025-04-06 22:24:30,553 - iris.src.llm_connectors.rbc_openai - INFO - API call parameters (excluding message content): {'model': 'gpt-4o-2024-08-06', 'max_tokens': 4096, 'temperature': 0.1, 'stream': True, 'timeout': 30, 'stream_options': {'include_usage': True}}\n",
      "2025-04-06 22:24:31,481 - httpx - INFO - HTTP Request: POST https://api.openai.com/v1/chat/completions \"HTTP/1.1 200 OK\"\n",
      "2025-04-06 22:24:31,483 - iris.src.llm_connectors.rbc_openai - INFO - Received initial stream chunk in 0.93 seconds\n"
     ]
    },
    {
     "name": "stdout",
     "output_type": "stream",
     "text": [
      "## Key Findings\n",
      "\n",
      "The research focused on understanding the Project Approval Request (PAR) process at RBC, specifically the steps involved and the documentation requirements. The findings are derived from the Project Approval Request Guidance documents, which provide a detailed framework for managing project approvals within the organization.\n",
      "\n",
      "### PAR Process Steps\n",
      "\n",
      "The PAR process at RBC is meticulously structured to ensure thorough evaluation and alignment with strategic goals. It involves several key stages:\n",
      "\n",
      "1. **Initial Proposal**: This stage involves the preparation of an initial project concept by the business unit. It includes a high-level scope, objectives, a preliminary business case, an initial cost estimate, a timeline, and a preliminary risk assessment. This step sets the foundation for further detailed analysis.\n",
      "\n",
      "2. **Detailed PAR Development**: At this stage, a comprehensive business case is developed, including financial analysis, a detailed project plan, resource allocation, risk assessment, and technical feasibility evaluation. This ensures that all aspects of the project are thoroughly considered before proceeding.\n",
      "\n",
      "3. **Review and Recommendation**: The proposal undergoes a rigorous review process involving business unit sign-off, financial validation, risk and compliance assessment, and, if applicable, a technology and operations review. This step is crucial for ensuring that all potential issues are addressed before final approval.\n",
      "\n",
      "4. **Final Approval**: The proposal is submitted to the appropriate approval authority based on predefined thresholds. It is then presented to an approval committee, which decides whether to approve, reject, or return the proposal for revision.\n",
      "\n",
      "5. **Post-Approval**: Once approved, the project moves into the initiation phase, with funding released and regular status reporting required. A change management process is in place for any scope or budget changes, and a post-implementation review is conducted to assess project success.\n",
      "\n",
      "### Documentation Requirements\n",
      "\n",
      "The PAR Template Guide outlines the necessary documentation for a PAR submission, emphasizing clarity and strategic alignment:\n",
      "\n",
      "- **Executive Summary**: This section should succinctly state the project's purpose, strategic alignment, financial summary, timeline, and key benefits. It is recommended to keep this summary to one page, using bullet points for clarity and focusing on business outcomes rather than technical details.\n",
      "\n",
      "- **Best Practices**: The guide advises focusing on key metrics and measures of success, highlighting critical dependencies or risks, and ensuring that the executive summary is concise and impactful.\n",
      "\n",
      "## Important Considerations\n",
      "\n",
      "- **Strategic Alignment**: Ensuring that the project aligns with RBC's strategic priorities is a critical component of the PAR process. This alignment is assessed at multiple stages to ensure that the project contributes to the organization's overall goals.\n",
      "\n",
      "- **Financial Validation**: The finance department plays a key role in validating the financial projections of the project, ensuring that the proposed costs and benefits are realistic and achievable.\n",
      "\n",
      "- **Risk Management**: A thorough risk assessment and mitigation strategy are essential components of the PAR process, ensuring that potential risks are identified and managed effectively.\n",
      "\n",
      "## Conclusion\n",
      "\n",
      "The PAR process at RBC is designed to ensure that projects are thoroughly evaluated and aligned with strategic goals before approval. The detailed steps and documentation requirements outlined in the guidance documents provide a comprehensive framework for managing project approvals. This structured approach helps mitigate risks and ensures that projects deliver the intended business outcomes."
     ]
    },
    {
     "name": "stderr",
     "output_type": "stream",
     "text": [
      "2025-04-06 22:24:45,215 - iris.src.llm_connectors.rbc_openai - INFO - Stream finished. Logging usage from final chunk.\n",
      "2025-04-06 22:24:45,216 - iris.src.llm_connectors.rbc_openai - INFO - Token usage - Completion: 643 ($0.0000), Prompt: 3332 ($0.0000), Total: 3975 tokens, Total Cost: $0.0001\n"
     ]
    },
    {
     "name": "stdout",
     "output_type": "stream",
     "text": [
      "\n",
      "\n",
      "---\n",
      "Completed processing 2 database queries for scope 'research'.\n"
     ]
    },
    {
     "name": "stderr",
     "output_type": "stream",
     "text": [
      "2025-04-06 22:24:45,217 - root - INFO - Completed process for scope 'research'\n"
     ]
    },
    {
     "name": "stdout",
     "output_type": "stream",
     "text": [
      "\n",
      "\n",
      "---\n",
      "## Agent Usage Statistics\n",
      "\n",
      "- Overall Input tokens: 6475\n",
      "- Overall Output tokens: 1896\n",
      "- Overall Total tokens: 8371\n",
      "- Overall Cost: $0.000115\n"
     ]
    }
   ],
   "source": [
    "# Call the model function with our conversation\n",
    "result_generator = model(conversation)\n",
    "\n",
    "# Stream the response chunks directly\n",
    "for chunk in result_generator:\n",
    "    print(chunk, end=\"\", flush=True)"
   ]
  },
  {
   "cell_type": "code",
   "execution_count": null,
   "id": "23b8191d-2940-454c-8f77-2768a015a9d4",
   "metadata": {},
   "outputs": [],
   "source": []
  }
 ],
 "metadata": {
  "kernelspec": {
   "display_name": "Python 3 (ipykernel)",
   "language": "python",
   "name": "python3"
  },
  "language_info": {
   "codemirror_mode": {
    "name": "ipython",
    "version": 3
   },
   "file_extension": ".py",
   "mimetype": "text/x-python",
   "name": "python",
   "nbconvert_exporter": "python",
   "pygments_lexer": "ipython3",
   "version": "3.13.2"
  }
 },
 "nbformat": 4,
 "nbformat_minor": 5
}
