{
 "cells": [
  {
   "cell_type": "markdown",
   "metadata": {},
   "source": [
    "# IRIS Agent Workflow Visualization\n",
    "\n",
    "This notebook helps visualize the flow of information through the IRIS agent system. You can use it to inspect and debug the behavior of each agent and see exactly what's happening behind the scenes."
   ]
  },
  {
   "cell_type": "code",
   "execution_count": 16,
   "metadata": {},
   "outputs": [
    {
     "name": "stderr",
     "output_type": "stream",
     "text": [
      "2025-04-01 14:25:02,383 - root - INFO - Logging system initialized\n",
      "2025-04-01 14:25:02,384 - iris.src.initial_setup.oauth.oauth - INFO - Using API key authentication from local settings\n",
      "2025-04-01 14:25:02,384 - iris.src.initial_setup.oauth.oauth - INFO - Using OpenAI API key from settings: sk-proj...\n"
     ]
    },
    {
     "name": "stdout",
     "output_type": "stream",
     "text": [
      "The history saving thread hit an unexpected error (OperationalError('attempt to write a readonly database')).History will not be written to the database.\n",
      "The autoreload extension is already loaded. To reload it, use:\n",
      "  %reload_ext autoreload\n"
     ]
    }
   ],
   "source": [
    "# Enable auto-reloading of modules\n",
    "%load_ext autoreload\n",
    "%autoreload 2\n",
    "\n",
    "# Import necessary modules\n",
    "import json\n",
    "import logging\n",
    "from IPython.display import display, HTML\n",
    "from iris.src.agents.agent_router.router import get_routing_decision\n",
    "from iris.src.agents.agent_clarifier.clarifier import clarify_research_needs\n",
    "from iris.src.agents.agent_planner.planner import create_query_plan\n",
    "from iris.src.initial_setup.logging_config import configure_logging\n",
    "\n",
    "# Import our testing utilities\n",
    "import sys\n",
    "sys.path.append('/Users/alexwday/Projects/iris-project/notebooks')\n",
    "from test_utils import get_test_token, create_conversation, display_conversation, display_agent_result\n",
    "\n",
    "# Configure logging\n",
    "configure_logging()\n",
    "\n",
    "# Get authentication token\n",
    "token = get_test_token()"
   ]
  },
  {
   "cell_type": "markdown",
   "metadata": {},
   "source": [
    "## Create Test Conversations\n",
    "\n",
    "We'll create several test conversations to see how different agents respond:"
   ]
  },
  {
   "cell_type": "code",
   "execution_count": 17,
   "metadata": {},
   "outputs": [],
   "source": [
    "# Create a system message\n",
    "system_message = {\"role\": \"system\", \"content\": \"You are a helpful assistant specialized in accounting and finance.\"}\n",
    "\n",
    "# Direct response conversation (simple question with all context available)\n",
    "direct_conversation = create_conversation([\n",
    "    system_message,\n",
    "    {\"role\": \"user\", \"content\": \"What's the difference between FIFO and LIFO inventory methods?\"}\n",
    "])\n",
    "\n",
    "# Research conversation (question requiring database research)\n",
    "research_conversation = create_conversation([\n",
    "    system_message,\n",
    "    {\"role\": \"user\", \"content\": \"How should I account for revenue recognition for a software subscription service under IFRS 15?\"}\n",
    "])\n",
    "\n",
    "# Needs clarification conversation (missing essential context)\n",
    "clarification_conversation = create_conversation([\n",
    "    system_message,\n",
    "    {\"role\": \"user\", \"content\": \"I need help with accounting for intangible assets.\"}\n",
    "])"
   ]
  },
  {
   "cell_type": "markdown",
   "metadata": {},
   "source": [
    "## Test Router Agent\n",
    "\n",
    "The router agent determines which path the conversation should take:  \n",
    "- `response_from_conversation`: Direct response using conversation history\n",
    "- `research_from_database`: Research using database queries"
   ]
  },
  {
   "cell_type": "code",
   "execution_count": 18,
   "metadata": {},
   "outputs": [
    {
     "name": "stdout",
     "output_type": "stream",
     "text": [
      "DIRECT CONVERSATION:\n",
      "\n",
      "🔀 Testing Router Agent\n",
      "============================\n"
     ]
    },
    {
     "data": {
      "text/html": [
       "<div style='background-color: #f0f0f0; padding: 10px; border-radius: 5px;'><h3>Conversation</h3><div style='margin-bottom: 10px; padding: 8px; border-radius: 3px; background-color: #e0e0e0;'><strong style='color: #4a4a4a;'>SYSTEM</strong>: You are a helpful assistant specialized in accounting and finance.</div><div style='margin-bottom: 10px; padding: 8px; border-radius: 3px; background-color: #d9e5ff;'><strong style='color: #001f3f;'>USER</strong>: What's the difference between FIFO and LIFO inventory methods?</div></div>"
      ],
      "text/plain": [
       "<IPython.core.display.HTML object>"
      ]
     },
     "metadata": {},
     "output_type": "display_data"
    },
    {
     "name": "stderr",
     "output_type": "stream",
     "text": [
      "2025-04-01 14:25:05,365 - iris.src.agents.agent_router.router - INFO - Getting routing decision using model: gpt-4o-mini-2024-07-18\n",
      "2025-04-01 14:25:05,372 - iris.src.llm_connectors.rbc_openai - INFO - Using API key: sk-proj...\n",
      "2025-04-01 14:25:05,373 - iris.src.llm_connectors.rbc_openai - INFO - Making non-streaming call to model: gpt-4o-mini-2024-07-18 with tools in local environment\n",
      "2025-04-01 14:25:05,373 - iris.src.llm_connectors.rbc_openai - INFO - Attempt 1/3: Sending request to OpenAI API\n",
      "2025-04-01 14:25:06,185 - httpx - INFO - HTTP Request: POST https://api.openai.com/v1/chat/completions \"HTTP/1.1 200 OK\"\n",
      "2025-04-01 14:25:06,189 - iris.src.llm_connectors.rbc_openai - INFO - Received response in 0.82 seconds\n",
      "2025-04-01 14:25:06,190 - iris.src.llm_connectors.rbc_openai - INFO - Token usage - Completion: 9 ($0.0000), Prompt: 676 ($0.0000), Total: 685 tokens, Total Cost: $0.0000\n",
      "2025-04-01 14:25:06,190 - iris.src.agents.agent_router.router - INFO - Routing decision: research_from_database\n"
     ]
    },
    {
     "data": {
      "text/html": [
       "<div style='background-color: #f9f9f9; padding: 10px; border-radius: 5px; margin: 10px 0; border-left: 5px solid #007acc;'><h3>Router Decision</h3><p><strong>function_name:</strong> research_from_database</p></div>"
      ],
      "text/plain": [
       "<IPython.core.display.HTML object>"
      ]
     },
     "metadata": {},
     "output_type": "display_data"
    },
    {
     "name": "stdout",
     "output_type": "stream",
     "text": [
      "\n",
      "RESEARCH CONVERSATION:\n",
      "\n",
      "🔀 Testing Router Agent\n",
      "============================\n"
     ]
    },
    {
     "data": {
      "text/html": [
       "<div style='background-color: #f0f0f0; padding: 10px; border-radius: 5px;'><h3>Conversation</h3><div style='margin-bottom: 10px; padding: 8px; border-radius: 3px; background-color: #e0e0e0;'><strong style='color: #4a4a4a;'>SYSTEM</strong>: You are a helpful assistant specialized in accounting and finance.</div><div style='margin-bottom: 10px; padding: 8px; border-radius: 3px; background-color: #d9e5ff;'><strong style='color: #001f3f;'>USER</strong>: How should I account for revenue recognition for a software subscription service under IFRS 15?</div></div>"
      ],
      "text/plain": [
       "<IPython.core.display.HTML object>"
      ]
     },
     "metadata": {},
     "output_type": "display_data"
    },
    {
     "name": "stderr",
     "output_type": "stream",
     "text": [
      "2025-04-01 14:25:06,194 - iris.src.agents.agent_router.router - INFO - Getting routing decision using model: gpt-4o-mini-2024-07-18\n",
      "2025-04-01 14:25:06,204 - iris.src.llm_connectors.rbc_openai - INFO - Using API key: sk-proj...\n",
      "2025-04-01 14:25:06,205 - iris.src.llm_connectors.rbc_openai - INFO - Making non-streaming call to model: gpt-4o-mini-2024-07-18 with tools in local environment\n",
      "2025-04-01 14:25:06,205 - iris.src.llm_connectors.rbc_openai - INFO - Attempt 1/3: Sending request to OpenAI API\n",
      "2025-04-01 14:25:06,928 - httpx - INFO - HTTP Request: POST https://api.openai.com/v1/chat/completions \"HTTP/1.1 200 OK\"\n",
      "2025-04-01 14:25:06,933 - iris.src.llm_connectors.rbc_openai - INFO - Received response in 0.73 seconds\n",
      "2025-04-01 14:25:06,934 - iris.src.llm_connectors.rbc_openai - INFO - Token usage - Completion: 9 ($0.0000), Prompt: 683 ($0.0000), Total: 692 tokens, Total Cost: $0.0000\n",
      "2025-04-01 14:25:06,934 - iris.src.agents.agent_router.router - INFO - Routing decision: research_from_database\n"
     ]
    },
    {
     "data": {
      "text/html": [
       "<div style='background-color: #f9f9f9; padding: 10px; border-radius: 5px; margin: 10px 0; border-left: 5px solid #007acc;'><h3>Router Decision</h3><p><strong>function_name:</strong> research_from_database</p></div>"
      ],
      "text/plain": [
       "<IPython.core.display.HTML object>"
      ]
     },
     "metadata": {},
     "output_type": "display_data"
    },
    {
     "name": "stdout",
     "output_type": "stream",
     "text": [
      "\n",
      "CLARIFICATION CONVERSATION:\n",
      "\n",
      "🔀 Testing Router Agent\n",
      "============================\n"
     ]
    },
    {
     "data": {
      "text/html": [
       "<div style='background-color: #f0f0f0; padding: 10px; border-radius: 5px;'><h3>Conversation</h3><div style='margin-bottom: 10px; padding: 8px; border-radius: 3px; background-color: #e0e0e0;'><strong style='color: #4a4a4a;'>SYSTEM</strong>: You are a helpful assistant specialized in accounting and finance.</div><div style='margin-bottom: 10px; padding: 8px; border-radius: 3px; background-color: #d9e5ff;'><strong style='color: #001f3f;'>USER</strong>: I need help with accounting for intangible assets.</div></div>"
      ],
      "text/plain": [
       "<IPython.core.display.HTML object>"
      ]
     },
     "metadata": {},
     "output_type": "display_data"
    },
    {
     "name": "stderr",
     "output_type": "stream",
     "text": [
      "2025-04-01 14:25:06,938 - iris.src.agents.agent_router.router - INFO - Getting routing decision using model: gpt-4o-mini-2024-07-18\n",
      "2025-04-01 14:25:06,949 - iris.src.llm_connectors.rbc_openai - INFO - Using API key: sk-proj...\n",
      "2025-04-01 14:25:06,950 - iris.src.llm_connectors.rbc_openai - INFO - Making non-streaming call to model: gpt-4o-mini-2024-07-18 with tools in local environment\n",
      "2025-04-01 14:25:06,951 - iris.src.llm_connectors.rbc_openai - INFO - Attempt 1/3: Sending request to OpenAI API\n",
      "2025-04-01 14:25:07,720 - httpx - INFO - HTTP Request: POST https://api.openai.com/v1/chat/completions \"HTTP/1.1 200 OK\"\n",
      "2025-04-01 14:25:07,723 - iris.src.llm_connectors.rbc_openai - INFO - Received response in 0.77 seconds\n",
      "2025-04-01 14:25:07,723 - iris.src.llm_connectors.rbc_openai - INFO - Token usage - Completion: 9 ($0.0000), Prompt: 674 ($0.0000), Total: 683 tokens, Total Cost: $0.0000\n",
      "2025-04-01 14:25:07,724 - iris.src.agents.agent_router.router - INFO - Routing decision: research_from_database\n"
     ]
    },
    {
     "data": {
      "text/html": [
       "<div style='background-color: #f9f9f9; padding: 10px; border-radius: 5px; margin: 10px 0; border-left: 5px solid #007acc;'><h3>Router Decision</h3><p><strong>function_name:</strong> research_from_database</p></div>"
      ],
      "text/plain": [
       "<IPython.core.display.HTML object>"
      ]
     },
     "metadata": {},
     "output_type": "display_data"
    }
   ],
   "source": [
    "def test_router(conversation):\n",
    "    \"\"\"Test the router agent with the given conversation.\"\"\"\n",
    "    print(\"\\n🔀 Testing Router Agent\")\n",
    "    print(\"============================\")\n",
    "    \n",
    "    # Display conversation first\n",
    "    display_conversation(conversation)\n",
    "    \n",
    "    # Get routing decision\n",
    "    routing_result = get_routing_decision(conversation, token)\n",
    "    \n",
    "    # Display results with visualization\n",
    "    display_agent_result(\"Router Decision\", routing_result)\n",
    "    \n",
    "    return routing_result\n",
    "\n",
    "# Test router with different conversations\n",
    "print(\"DIRECT CONVERSATION:\")\n",
    "direct_result = test_router(direct_conversation)\n",
    "\n",
    "print(\"\\nRESEARCH CONVERSATION:\")\n",
    "research_result = test_router(research_conversation)\n",
    "\n",
    "print(\"\\nCLARIFICATION CONVERSATION:\")\n",
    "clarification_result = test_router(clarification_conversation)"
   ]
  },
  {
   "cell_type": "markdown",
   "metadata": {},
   "source": [
    "## Test Clarifier Agent\n",
    "\n",
    "The clarifier agent determines if more context is needed from the user or if research can proceed."
   ]
  },
  {
   "cell_type": "code",
   "execution_count": 19,
   "metadata": {},
   "outputs": [
    {
     "name": "stdout",
     "output_type": "stream",
     "text": [
      "RESEARCH CONVERSATION:\n",
      "\n",
      "🧐 Testing Clarifier Agent\n",
      "============================\n"
     ]
    },
    {
     "data": {
      "text/html": [
       "<div style='background-color: #f0f0f0; padding: 10px; border-radius: 5px;'><h3>Conversation</h3><div style='margin-bottom: 10px; padding: 8px; border-radius: 3px; background-color: #e0e0e0;'><strong style='color: #4a4a4a;'>SYSTEM</strong>: You are a helpful assistant specialized in accounting and finance.</div><div style='margin-bottom: 10px; padding: 8px; border-radius: 3px; background-color: #d9e5ff;'><strong style='color: #001f3f;'>USER</strong>: How should I account for revenue recognition for a software subscription service under IFRS 15?</div></div>"
      ],
      "text/plain": [
       "<IPython.core.display.HTML object>"
      ]
     },
     "metadata": {},
     "output_type": "display_data"
    },
    {
     "name": "stderr",
     "output_type": "stream",
     "text": [
      "2025-04-01 14:25:16,749 - iris.src.agents.agent_clarifier.clarifier - INFO - Clarifying research needs using model: gpt-4o-mini-2024-07-18\n",
      "2025-04-01 14:25:16,757 - iris.src.llm_connectors.rbc_openai - INFO - Using API key: sk-proj...\n",
      "2025-04-01 14:25:16,757 - iris.src.llm_connectors.rbc_openai - INFO - Making non-streaming call to model: gpt-4o-mini-2024-07-18 with tools in local environment\n",
      "2025-04-01 14:25:16,757 - iris.src.llm_connectors.rbc_openai - INFO - Attempt 1/3: Sending request to OpenAI API\n",
      "2025-04-01 14:25:18,575 - httpx - INFO - HTTP Request: POST https://api.openai.com/v1/chat/completions \"HTTP/1.1 200 OK\"\n",
      "2025-04-01 14:25:18,578 - iris.src.llm_connectors.rbc_openai - INFO - Received response in 1.82 seconds\n",
      "2025-04-01 14:25:18,579 - iris.src.llm_connectors.rbc_openai - INFO - Token usage - Completion: 79 ($0.0000), Prompt: 940 ($0.0000), Total: 1019 tokens, Total Cost: $0.0000\n",
      "2025-04-01 14:25:18,580 - iris.src.agents.agent_clarifier.clarifier - INFO - Clarifier decision: create_research_statement\n",
      "2025-04-01 14:25:18,581 - iris.src.agents.agent_clarifier.clarifier - INFO - Is continuation: False\n"
     ]
    },
    {
     "data": {
      "text/html": [
       "<div style='background-color: #f9f9f9; padding: 10px; border-radius: 5px; margin: 10px 0; border-left: 5px solid #007acc;'><h3>Clarifier Decision</h3><p><strong>action:</strong> create_research_statement</p><p><strong>output:</strong> Research the accounting treatment for revenue recognition for a software subscription service under IFRS 15. Focus on the identification of performance obligations, the timing of revenue recognition, and any specific considerations related to subscription services. Prioritize guidance from the IASB Accounting Standards and Interpretations and relevant Big 4 technical guidance.</p><p><strong>is_continuation:</strong> False</p></div>"
      ],
      "text/plain": [
       "<IPython.core.display.HTML object>"
      ]
     },
     "metadata": {},
     "output_type": "display_data"
    },
    {
     "name": "stdout",
     "output_type": "stream",
     "text": [
      "\n",
      "CLARIFICATION CONVERSATION:\n",
      "\n",
      "🧐 Testing Clarifier Agent\n",
      "============================\n"
     ]
    },
    {
     "data": {
      "text/html": [
       "<div style='background-color: #f0f0f0; padding: 10px; border-radius: 5px;'><h3>Conversation</h3><div style='margin-bottom: 10px; padding: 8px; border-radius: 3px; background-color: #e0e0e0;'><strong style='color: #4a4a4a;'>SYSTEM</strong>: You are a helpful assistant specialized in accounting and finance.</div><div style='margin-bottom: 10px; padding: 8px; border-radius: 3px; background-color: #d9e5ff;'><strong style='color: #001f3f;'>USER</strong>: I need help with accounting for intangible assets.</div></div>"
      ],
      "text/plain": [
       "<IPython.core.display.HTML object>"
      ]
     },
     "metadata": {},
     "output_type": "display_data"
    },
    {
     "name": "stderr",
     "output_type": "stream",
     "text": [
      "2025-04-01 14:25:18,584 - iris.src.agents.agent_clarifier.clarifier - INFO - Clarifying research needs using model: gpt-4o-mini-2024-07-18\n",
      "2025-04-01 14:25:18,595 - iris.src.llm_connectors.rbc_openai - INFO - Using API key: sk-proj...\n",
      "2025-04-01 14:25:18,595 - iris.src.llm_connectors.rbc_openai - INFO - Making non-streaming call to model: gpt-4o-mini-2024-07-18 with tools in local environment\n",
      "2025-04-01 14:25:18,596 - iris.src.llm_connectors.rbc_openai - INFO - Attempt 1/3: Sending request to OpenAI API\n",
      "2025-04-01 14:25:20,521 - httpx - INFO - HTTP Request: POST https://api.openai.com/v1/chat/completions \"HTTP/1.1 200 OK\"\n",
      "2025-04-01 14:25:20,525 - iris.src.llm_connectors.rbc_openai - INFO - Received response in 1.93 seconds\n",
      "2025-04-01 14:25:20,525 - iris.src.llm_connectors.rbc_openai - INFO - Token usage - Completion: 91 ($0.0000), Prompt: 931 ($0.0000), Total: 1022 tokens, Total Cost: $0.0000\n",
      "2025-04-01 14:25:20,526 - iris.src.agents.agent_clarifier.clarifier - INFO - Clarifier decision: request_essential_context\n",
      "2025-04-01 14:25:20,527 - iris.src.agents.agent_clarifier.clarifier - INFO - Is continuation: False\n"
     ]
    },
    {
     "data": {
      "text/html": [
       "<div style='background-color: #f9f9f9; padding: 10px; border-radius: 5px; margin: 10px 0; border-left: 5px solid #007acc;'><h3>Clarifier Decision</h3><p><strong>action:</strong> request_essential_context</p><p><strong>output:</strong> Please provide more specific information regarding your inquiry about intangible assets. Are you looking for guidance on a particular accounting standard (e.g., IFRS, US GAAP), a specific type of intangible asset (e.g., goodwill, patents, trademarks), or any particular transactions or scenarios? Additionally, is there a specific time period or industry context that should be considered?</p><p><strong>is_continuation:</strong> False</p></div>"
      ],
      "text/plain": [
       "<IPython.core.display.HTML object>"
      ]
     },
     "metadata": {},
     "output_type": "display_data"
    }
   ],
   "source": [
    "def test_clarifier(conversation):\n",
    "    \"\"\"Test the clarifier agent with the given conversation.\"\"\"\n",
    "    print(\"\\n🧐 Testing Clarifier Agent\")\n",
    "    print(\"============================\")\n",
    "    \n",
    "    # Display conversation first\n",
    "    display_conversation(conversation)\n",
    "    \n",
    "    # Get clarifier decision\n",
    "    clarifier_result = clarify_research_needs(conversation, token)\n",
    "    \n",
    "    # Display results with visualization\n",
    "    display_agent_result(\"Clarifier Decision\", clarifier_result)\n",
    "    \n",
    "    return clarifier_result\n",
    "\n",
    "# Test clarifier with research and clarification conversations\n",
    "print(\"RESEARCH CONVERSATION:\")\n",
    "research_clarifier_result = test_clarifier(research_conversation)\n",
    "\n",
    "print(\"\\nCLARIFICATION CONVERSATION:\")\n",
    "clarification_clarifier_result = test_clarifier(clarification_conversation)"
   ]
  },
  {
   "cell_type": "markdown",
   "metadata": {},
   "source": [
    "## Test Planner Agent\n",
    "\n",
    "The planner agent creates database queries based on the research statement."
   ]
  },
  {
   "cell_type": "code",
   "execution_count": 20,
   "metadata": {},
   "outputs": [
    {
     "name": "stdout",
     "output_type": "stream",
     "text": [
      "\n",
      "📝 Testing Planner Agent\n",
      "============================\n"
     ]
    },
    {
     "data": {
      "text/html": [
       "<div style='background-color: #f0f5ff; padding: 10px; border-radius: 5px;'><h3>Research Statement</h3><p>Research the accounting treatment for revenue recognition for a software subscription service under IFRS 15. Focus on the identification of performance obligations, the timing of revenue recognition, and any specific considerations related to subscription services. Prioritize guidance from the IASB Accounting Standards and Interpretations and relevant Big 4 technical guidance.</p></div>"
      ],
      "text/plain": [
       "<IPython.core.display.HTML object>"
      ]
     },
     "metadata": {},
     "output_type": "display_data"
    },
    {
     "name": "stdout",
     "output_type": "stream",
     "text": [
      "Using mock planner result for testing (no database connection)\n"
     ]
    },
    {
     "data": {
      "text/html": [
       "<div style='background-color: #f9f9f9; padding: 10px; border-radius: 5px; margin: 10px 0; border-left: 5px solid #007acc;'><h3>Planner Query Plan</h3><p><strong>queries:</strong></p><pre style='background-color: #f0f0f0; padding: 10px; border-radius: 3px;'>[\n",
       "  {\n",
       "    \"database\": \"internal_capm\",\n",
       "    \"query\": \"IFRS 15 revenue recognition software subscription service performance obligations contract modifications recognition timing\"\n",
       "  },\n",
       "  {\n",
       "    \"database\": \"internal_wiki\",\n",
       "    \"query\": \"practical examples IFRS 15 software subscription services revenue recognition implementation\"\n",
       "  },\n",
       "  {\n",
       "    \"database\": \"internal_infographic\",\n",
       "    \"query\": \"IFRS 15 revenue recognition model five steps software subscription visual\"\n",
       "  }\n",
       "]</pre></div>"
      ],
      "text/plain": [
       "<IPython.core.display.HTML object>"
      ]
     },
     "metadata": {},
     "output_type": "display_data"
    }
   ],
   "source": [
    "def test_planner(research_statement):\n",
    "    \"\"\"Test the planner agent with a research statement.\"\"\"\n",
    "    print(\"\\n📝 Testing Planner Agent\")\n",
    "    print(\"============================\")\n",
    "    \n",
    "    # Display research statement\n",
    "    html = \"<div style='background-color: #f0f5ff; padding: 10px; border-radius: 5px;'>\"\n",
    "    html += \"<h3>Research Statement</h3>\"\n",
    "    html += f\"<p>{research_statement}</p>\"\n",
    "    html += \"</div>\"\n",
    "    display(HTML(html))\n",
    "    \n",
    "    try:\n",
    "        # Mock the planner for testing\n",
    "        # We need to create a custom implementation that doesn't validate against AVAILABLE_DATABASES\n",
    "        # since we don't have actual database connections in the test environment\n",
    "        mock_queries = [\n",
    "            {\n",
    "                \"database\": \"internal_capm\",\n",
    "                \"query\": f\"IFRS 15 revenue recognition software subscription service performance obligations contract modifications recognition timing\"\n",
    "            },\n",
    "            {\n",
    "                \"database\": \"internal_wiki\",\n",
    "                \"query\": f\"practical examples IFRS 15 software subscription services revenue recognition implementation\"\n",
    "            },\n",
    "            {\n",
    "                \"database\": \"internal_infographic\",\n",
    "                \"query\": f\"IFRS 15 revenue recognition model five steps software subscription visual\"\n",
    "            }\n",
    "        ]\n",
    "        \n",
    "        # Create a mock result\n",
    "        planner_result = {\n",
    "            \"queries\": mock_queries\n",
    "        }\n",
    "        \n",
    "        # Display the mock result\n",
    "        print(\"Using mock planner result for testing (no database connection)\")\n",
    "        display_agent_result(\"Planner Query Plan\", planner_result)\n",
    "        \n",
    "        return planner_result\n",
    "        \n",
    "    except Exception as e:\n",
    "        print(f\"Error in test_planner: {str(e)}\")\n",
    "        return {\"queries\": []}\n",
    "\n",
    "# Create a sample research statement for testing\n",
    "research_statement = \"Research IFRS 15 revenue recognition principles for software subscription services, focusing on performance obligations, contract modifications, and recognition timing.\"\n",
    "\n",
    "# Or use a research statement from the clarifier if it generated one\n",
    "if research_clarifier_result.get(\"action\") == \"create_research_statement\":\n",
    "    research_statement = research_clarifier_result[\"output\"]\n",
    "    \n",
    "planner_result = test_planner(research_statement)"
   ]
  },
  {
   "cell_type": "markdown",
   "metadata": {},
   "source": [
    "## Full Workflow Visualization\n",
    "\n",
    "Now let's visualize the complete workflow with a single example:"
   ]
  },
  {
   "cell_type": "code",
   "execution_count": 21,
   "metadata": {},
   "outputs": [
    {
     "name": "stdout",
     "output_type": "stream",
     "text": [
      "\n",
      "⚙️ Complete Workflow Visualization\n",
      "====================================\n"
     ]
    },
    {
     "data": {
      "text/html": [
       "<div style='background-color: #f0f0f0; padding: 10px; border-radius: 5px;'><h3>Conversation</h3><div style='margin-bottom: 10px; padding: 8px; border-radius: 3px; background-color: #e0e0e0;'><strong style='color: #4a4a4a;'>SYSTEM</strong>: You are a helpful assistant specialized in accounting and finance.</div><div style='margin-bottom: 10px; padding: 8px; border-radius: 3px; background-color: #d9e5ff;'><strong style='color: #001f3f;'>USER</strong>: How do I account for leasehold improvements under IFRS 16?</div></div>"
      ],
      "text/plain": [
       "<IPython.core.display.HTML object>"
      ]
     },
     "metadata": {},
     "output_type": "display_data"
    },
    {
     "name": "stderr",
     "output_type": "stream",
     "text": [
      "2025-04-01 14:25:20,577 - iris.src.agents.agent_router.router - INFO - Getting routing decision using model: gpt-4o-mini-2024-07-18\n",
      "2025-04-01 14:25:20,582 - iris.src.llm_connectors.rbc_openai - INFO - Using API key: sk-proj...\n",
      "2025-04-01 14:25:20,582 - iris.src.llm_connectors.rbc_openai - INFO - Making non-streaming call to model: gpt-4o-mini-2024-07-18 with tools in local environment\n",
      "2025-04-01 14:25:20,582 - iris.src.llm_connectors.rbc_openai - INFO - Attempt 1/3: Sending request to OpenAI API\n",
      "2025-04-01 14:25:21,339 - httpx - INFO - HTTP Request: POST https://api.openai.com/v1/chat/completions \"HTTP/1.1 200 OK\"\n",
      "2025-04-01 14:25:21,343 - iris.src.llm_connectors.rbc_openai - INFO - Received response in 0.76 seconds\n",
      "2025-04-01 14:25:21,343 - iris.src.llm_connectors.rbc_openai - INFO - Token usage - Completion: 9 ($0.0000), Prompt: 679 ($0.0000), Total: 688 tokens, Total Cost: $0.0000\n",
      "2025-04-01 14:25:21,344 - iris.src.agents.agent_router.router - INFO - Routing decision: research_from_database\n"
     ]
    },
    {
     "data": {
      "text/html": [
       "<div style='background-color: #f9f9f9; padding: 10px; border-radius: 5px; margin: 10px 0; border-left: 5px solid #007acc;'><h3>1. Router Decision</h3><p><strong>function_name:</strong> research_from_database</p></div>"
      ],
      "text/plain": [
       "<IPython.core.display.HTML object>"
      ]
     },
     "metadata": {},
     "output_type": "display_data"
    },
    {
     "name": "stderr",
     "output_type": "stream",
     "text": [
      "2025-04-01 14:25:21,346 - iris.src.agents.agent_clarifier.clarifier - INFO - Clarifying research needs using model: gpt-4o-mini-2024-07-18\n",
      "2025-04-01 14:25:21,361 - iris.src.llm_connectors.rbc_openai - INFO - Using API key: sk-proj...\n",
      "2025-04-01 14:25:21,361 - iris.src.llm_connectors.rbc_openai - INFO - Making non-streaming call to model: gpt-4o-mini-2024-07-18 with tools in local environment\n",
      "2025-04-01 14:25:21,362 - iris.src.llm_connectors.rbc_openai - INFO - Attempt 1/3: Sending request to OpenAI API\n",
      "2025-04-01 14:25:23,595 - httpx - INFO - HTTP Request: POST https://api.openai.com/v1/chat/completions \"HTTP/1.1 200 OK\"\n",
      "2025-04-01 14:25:23,598 - iris.src.llm_connectors.rbc_openai - INFO - Received response in 2.24 seconds\n",
      "2025-04-01 14:25:23,599 - iris.src.llm_connectors.rbc_openai - INFO - Token usage - Completion: 116 ($0.0000), Prompt: 936 ($0.0000), Total: 1052 tokens, Total Cost: $0.0000\n",
      "2025-04-01 14:25:23,599 - iris.src.agents.agent_clarifier.clarifier - INFO - Clarifier decision: request_essential_context\n",
      "2025-04-01 14:25:23,600 - iris.src.agents.agent_clarifier.clarifier - INFO - Is continuation: False\n"
     ]
    },
    {
     "data": {
      "text/html": [
       "<div style='background-color: #f9f9f9; padding: 10px; border-radius: 5px; margin: 10px 0; border-left: 5px solid #007acc;'><h3>2. Clarifier Decision</h3><p><strong>action:</strong> request_essential_context</p><p><strong>output:</strong> To provide accurate guidance on accounting for leasehold improvements under IFRS 16, I need to know the following: 1. Are you referring to a specific type of lease (e.g., operating lease, finance lease)? 2. What is the nature of the leasehold improvements (e.g., renovations, installations)? 3. Is there a specific industry context that should be considered? 4. Are there any particular time periods or financial reporting requirements relevant to your inquiry?</p><p><strong>is_continuation:</strong> False</p></div>"
      ],
      "text/plain": [
       "<IPython.core.display.HTML object>"
      ]
     },
     "metadata": {},
     "output_type": "display_data"
    },
    {
     "data": {
      "text/html": [
       "<div style='background-color: #fff0f0; padding: 10px; border-radius: 5px; margin-top: 20px; border-left: 5px solid #cc0000;'><h3>Final Decision</h3><p>The system would request more information from the user:</p><p><em>To provide accurate guidance on accounting for leasehold improvements under IFRS 16, I need to know the following: 1. Are you referring to a specific type of lease (e.g., operating lease, finance lease)? 2. What is the nature of the leasehold improvements (e.g., renovations, installations)? 3. Is there a specific industry context that should be considered? 4. Are there any particular time periods or financial reporting requirements relevant to your inquiry?</em></p></div>"
      ],
      "text/plain": [
       "<IPython.core.display.HTML object>"
      ]
     },
     "metadata": {},
     "output_type": "display_data"
    }
   ],
   "source": [
    "def visualize_workflow(conversation):\n",
    "    \"\"\"Visualize the complete workflow for a conversation.\"\"\"\n",
    "    print(\"\\n⚙️ Complete Workflow Visualization\")\n",
    "    print(\"====================================\")\n",
    "    \n",
    "    # Display the conversation\n",
    "    display_conversation(conversation)\n",
    "    \n",
    "    # Step 1: Router\n",
    "    routing_result = get_routing_decision(conversation, token)\n",
    "    display_agent_result(\"1. Router Decision\", routing_result)\n",
    "    \n",
    "    # Check routing decision\n",
    "    if routing_result[\"function_name\"] == \"response_from_conversation\":\n",
    "        html = \"<div style='background-color: #e6ffe6; padding: 10px; border-radius: 5px; margin-top: 20px; border-left: 5px solid #006400;'>\"\n",
    "        html += \"<h3>Final Decision</h3>\"\n",
    "        html += \"<p>The system would respond directly using the conversation history without further research.</p>\"\n",
    "        html += \"</div>\"\n",
    "        display(HTML(html))\n",
    "        return\n",
    "    \n",
    "    # Step 2: Clarifier (if research is needed)\n",
    "    clarifier_result = clarify_research_needs(conversation, token)\n",
    "    display_agent_result(\"2. Clarifier Decision\", clarifier_result)\n",
    "    \n",
    "    # Check clarifier decision\n",
    "    if clarifier_result[\"action\"] == \"request_essential_context\":\n",
    "        html = \"<div style='background-color: #fff0f0; padding: 10px; border-radius: 5px; margin-top: 20px; border-left: 5px solid #cc0000;'>\"\n",
    "        html += \"<h3>Final Decision</h3>\"\n",
    "        html += \"<p>The system would request more information from the user:</p>\"\n",
    "        html += f\"<p><em>{clarifier_result['output']}</em></p>\"\n",
    "        html += \"</div>\"\n",
    "        display(HTML(html))\n",
    "        return\n",
    "    \n",
    "    # Step 3: Planner (if research statement is created)\n",
    "    research_statement = clarifier_result[\"output\"]\n",
    "    \n",
    "    # Use our mock planner function instead of the real one\n",
    "    mock_queries = [\n",
    "        {\n",
    "            \"database\": \"internal_capm\",\n",
    "            \"query\": f\"IFRS 16 leasehold improvements lessee accounting treatment\"\n",
    "        },\n",
    "        {\n",
    "            \"database\": \"internal_wiki\",\n",
    "            \"query\": f\"practical examples IFRS 16 leasehold improvements capitalization depreciation\"\n",
    "        },\n",
    "        {\n",
    "            \"database\": \"internal_infographic\",\n",
    "            \"query\": f\"IFRS 16 leasehold improvements visual flowchart decision tree\"\n",
    "        }\n",
    "    ]\n",
    "    planner_result = {\n",
    "        \"queries\": mock_queries\n",
    "    }\n",
    "    print(\"Using mock planner result for testing (no database connection)\")\n",
    "    display_agent_result(\"3. Planner Query Plan\", planner_result)\n",
    "    \n",
    "    # Show final decision\n",
    "    html = \"<div style='background-color: #f0f0ff; padding: 10px; border-radius: 5px; margin-top: 20px; border-left: 5px solid #4b0082;'>\"\n",
    "    html += \"<h3>Final Decision</h3>\"\n",
    "    html += \"<p>The system would execute these database queries to gather information for a response:</p>\"\n",
    "    \n",
    "    # Display query details\n",
    "    for i, query in enumerate(planner_result[\"queries\"]):\n",
    "        html += f\"<div style='margin: 10px 0; padding: 8px; background-color: #f5f5ff; border-radius: 3px;'>\"\n",
    "        html += f\"<p><strong>Query {i+1}:</strong> {query['database']}</p>\"\n",
    "        html += f\"<p><em>{query['query']}</em></p>\"\n",
    "        html += \"</div>\"\n",
    "    \n",
    "    html += \"</div>\"\n",
    "    display(HTML(html))\n",
    "\n",
    "# Test a specific conversation\n",
    "# Create a new test conversation\n",
    "test_conversation = create_conversation([\n",
    "    system_message,\n",
    "    {\"role\": \"user\", \"content\": \"How do I account for leasehold improvements under IFRS 16?\"}\n",
    "])\n",
    "\n",
    "visualize_workflow(test_conversation)"
   ]
  },
  {
   "cell_type": "markdown",
   "metadata": {},
   "source": [
    "## Processing Time Analysis \n",
    "\n",
    "Let's measure the time each agent takes to process:"
   ]
  },
  {
   "cell_type": "code",
   "execution_count": 22,
   "metadata": {},
   "outputs": [
    {
     "name": "stderr",
     "output_type": "stream",
     "text": [
      "2025-04-01 14:25:23,634 - iris.src.agents.agent_router.router - INFO - Getting routing decision using model: gpt-4o-mini-2024-07-18\n",
      "2025-04-01 14:25:23,641 - iris.src.llm_connectors.rbc_openai - INFO - Using API key: sk-proj...\n",
      "2025-04-01 14:25:23,642 - iris.src.llm_connectors.rbc_openai - INFO - Making non-streaming call to model: gpt-4o-mini-2024-07-18 with tools in local environment\n",
      "2025-04-01 14:25:23,642 - iris.src.llm_connectors.rbc_openai - INFO - Attempt 1/3: Sending request to OpenAI API\n",
      "2025-04-01 14:25:24,497 - httpx - INFO - HTTP Request: POST https://api.openai.com/v1/chat/completions \"HTTP/1.1 200 OK\"\n",
      "2025-04-01 14:25:24,505 - iris.src.llm_connectors.rbc_openai - INFO - Received response in 0.86 seconds\n",
      "2025-04-01 14:25:24,505 - iris.src.llm_connectors.rbc_openai - INFO - Token usage - Completion: 9 ($0.0000), Prompt: 679 ($0.0000), Total: 688 tokens, Total Cost: $0.0000\n",
      "2025-04-01 14:25:24,506 - iris.src.agents.agent_router.router - INFO - Routing decision: research_from_database\n",
      "2025-04-01 14:25:24,506 - iris.src.agents.agent_clarifier.clarifier - INFO - Clarifying research needs using model: gpt-4o-mini-2024-07-18\n",
      "2025-04-01 14:25:24,518 - iris.src.llm_connectors.rbc_openai - INFO - Using API key: sk-proj...\n",
      "2025-04-01 14:25:24,519 - iris.src.llm_connectors.rbc_openai - INFO - Making non-streaming call to model: gpt-4o-mini-2024-07-18 with tools in local environment\n",
      "2025-04-01 14:25:24,519 - iris.src.llm_connectors.rbc_openai - INFO - Attempt 1/3: Sending request to OpenAI API\n",
      "2025-04-01 14:25:26,151 - httpx - INFO - HTTP Request: POST https://api.openai.com/v1/chat/completions \"HTTP/1.1 200 OK\"\n",
      "2025-04-01 14:25:26,154 - iris.src.llm_connectors.rbc_openai - INFO - Received response in 1.64 seconds\n",
      "2025-04-01 14:25:26,155 - iris.src.llm_connectors.rbc_openai - INFO - Token usage - Completion: 64 ($0.0000), Prompt: 936 ($0.0000), Total: 1000 tokens, Total Cost: $0.0000\n",
      "2025-04-01 14:25:26,156 - iris.src.agents.agent_clarifier.clarifier - INFO - Clarifier decision: request_essential_context\n",
      "2025-04-01 14:25:26,156 - iris.src.agents.agent_clarifier.clarifier - INFO - Is continuation: False\n"
     ]
    },
    {
     "data": {
      "image/png": "[encoded data removed]",
      "text/plain": [
       "<Figure size 1000x600 with 1 Axes>"
      ]
     },
     "metadata": {},
     "output_type": "display_data"
    }
   ],
   "source": [
    "import time\n",
    "import matplotlib.pyplot as plt\n",
    "import numpy as np\n",
    "\n",
    "def measure_agent_times(conversation):\n",
    "    \"\"\"Measure processing time for each agent.\"\"\"\n",
    "    times = {}\n",
    "    \n",
    "    # Measure router time\n",
    "    start = time.time()\n",
    "    routing_result = get_routing_decision(conversation, token)\n",
    "    times[\"Router\"] = time.time() - start\n",
    "    \n",
    "    # Measure clarifier time\n",
    "    start = time.time()\n",
    "    clarifier_result = clarify_research_needs(conversation, token)\n",
    "    times[\"Clarifier\"] = time.time() - start\n",
    "    \n",
    "    # Measure planner time - using mock planner\n",
    "    start = time.time()\n",
    "    # Create a sample research statement\n",
    "    research_statement = \"Research IFRS 16 accounting treatment for leasehold improvements.\"\n",
    "    \n",
    "    # Create mock queries instead of calling the real function\n",
    "    mock_queries = [\n",
    "        {\n",
    "            \"database\": \"internal_capm\",\n",
    "            \"query\": f\"IFRS 16 leasehold improvements lessee accounting treatment\"\n",
    "        },\n",
    "        {\n",
    "            \"database\": \"internal_wiki\",\n",
    "            \"query\": f\"practical examples IFRS 16 leasehold improvements capitalization depreciation\"\n",
    "        },\n",
    "        {\n",
    "            \"database\": \"internal_infographic\",\n",
    "            \"query\": f\"IFRS 16 leasehold improvements visual flowchart decision tree\"\n",
    "        }\n",
    "    ]\n",
    "    planner_result = {\n",
    "        \"queries\": mock_queries\n",
    "    }\n",
    "    \n",
    "    # Add a small delay to simulate processing time\n",
    "    time.sleep(1.5)  # 1.5 seconds simulated processing time\n",
    "    times[\"Planner\"] = time.time() - start\n",
    "    \n",
    "    return times\n",
    "\n",
    "# Measure times for one example\n",
    "processing_times = measure_agent_times(test_conversation)\n",
    "\n",
    "# Plot the results\n",
    "agents = list(processing_times.keys())\n",
    "times = list(processing_times.values())\n",
    "\n",
    "fig, ax = plt.subplots(figsize=(10, 6))\n",
    "bars = ax.bar(agents, times, color=['#4285F4', '#EA4335', '#FBBC05'])\n",
    "\n",
    "# Add times as text labels on top of bars\n",
    "for bar, time_val in zip(bars, times):\n",
    "    height = bar.get_height()\n",
    "    ax.text(bar.get_x() + bar.get_width()/2., height + 0.1,\n",
    "            f'{time_val:.2f}s', ha='center', va='bottom')\n",
    "\n",
    "ax.set_ylabel('Processing Time (seconds)')\n",
    "ax.set_title('Agent Processing Times')\n",
    "ax.grid(axis='y', linestyle='--', alpha=0.7)\n",
    "\n",
    "# Calculate total processing time\n",
    "total_time = sum(times)\n",
    "plt.figtext(0.5, 0.01, f'Total Processing Time: {total_time:.2f} seconds', \n",
    "            ha='center', fontsize=12, bbox={\"facecolor\":\"#f0f0f0\", \"alpha\":0.5, \"pad\":5})\n",
    "\n",
    "plt.tight_layout(pad=3)\n",
    "plt.show()"
   ]
  },
  {
   "cell_type": "code",
   "execution_count": null,
   "metadata": {},
   "outputs": [],
   "source": []
  }
 ],
 "metadata": {
  "kernelspec": {
   "display_name": "Python 3 (ipykernel)",
   "language": "python",
   "name": "python3"
  },
  "language_info": {
   "codemirror_mode": {
    "name": "ipython",
    "version": 3
   },
   "file_extension": ".py",
   "mimetype": "text/x-python",
   "name": "python",
   "nbconvert_exporter": "python",
   "pygments_lexer": "ipython3",
   "version": "3.13.2"
  }
 },
 "nbformat": 4,
 "nbformat_minor": 4
}
