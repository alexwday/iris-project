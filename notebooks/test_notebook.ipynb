{
 "cells": [
  {
   "cell_type": "code",
   "execution_count": 1,
   "id": "1169096d",
   "metadata": {},
   "outputs": [
    {
     "name": "stderr",
     "output_type": "stream",
     "text": [
      "INFO:iris.src.chat_model.model_settings:Using environment: local\n",
      "INFO:iris.src.chat_model.model_settings:Using API base URL: https://api.openai.com/v1\n"
     ]
    }
   ],
   "source": [
    "# This enables auto-reloading of modules\n",
    "%load_ext autoreload\n",
    "%autoreload 2\n",
    "\n",
    "# Import the model\n",
    "from iris.src.chat_model.model import model"
   ]
  },
  {
   "cell_type": "code",
   "execution_count": 2,
   "id": "f8e42f72-04cf-4a2c-88cf-c774934d1167",
   "metadata": {},
   "outputs": [],
   "source": [
    "# Define conversation for testing\n",
    "conversation = {\n",
    "    \"messages\": [\n",
    "        {\"role\": \"system\", \"content\": \"You are a helpful assistant specialized in accounting.\"},\n",
    "        {\"role\": \"user\", \"content\": \"What is the definition of a business combination under IFRS, search internal wiki only\"}\n",
    "    ]\n",
    "}\n",
    "\n",
    "# You can modify the conversation above to test different scenarios"
   ]
  },
  {
   "cell_type": "code",
   "execution_count": 3,
   "id": "8fa7cccd",
   "metadata": {},
   "outputs": [
    {
     "name": "stderr",
     "output_type": "stream",
     "text": [
      "INFO:iris.src.chat_model.model_settings:Using small model: gpt-4o-mini-2024-07-18 in local environment\n",
      "INFO:iris.src.chat_model.model_settings:Using large model: gpt-4o-2024-08-06 in local environment\n",
      "INFO:iris.src.chat_model.model_settings:Using small model: gpt-4o-mini-2024-07-18 in local environment\n",
      "INFO:iris.src.chat_model.model_settings:Using small model: gpt-4o-mini-2024-07-18 in local environment\n",
      "INFO:iris.src.chat_model.model_settings:Using small model: gpt-4o-mini-2024-07-18 in local environment\n",
      "INFO:iris.src.chat_model.model_settings:Using large model: gpt-4o-2024-08-06 in local environment\n",
      "2025-04-04 10:19:33,063 - root - INFO - Logging system initialized\n",
      "2025-04-04 10:19:33,063 - root - INFO - Initializing model setup...\n",
      "2025-04-04 10:19:33,063 - iris.src.initial_setup.ssl.ssl - INFO - SSL certificate setup skipped in local environment\n",
      "2025-04-04 10:19:33,063 - iris.src.initial_setup.oauth.oauth - INFO - Using API key authentication from local settings\n",
      "2025-04-04 10:19:33,063 - iris.src.initial_setup.oauth.oauth - INFO - Using OpenAI API key from settings: sk-proj...\n",
      "2025-04-04 10:19:33,063 - root - INFO - Processing input conversation...\n",
      "2025-04-04 10:19:33,063 - iris.src.conversation_setup.conversation - INFO - Processed conversation: 2 messages filtered to 1 messages\n",
      "2025-04-04 10:19:33,064 - root - INFO - Conversation processed: 1 messages\n",
      "2025-04-04 10:19:33,064 - root - INFO - Getting routing decision...\n",
      "2025-04-04 10:19:33,064 - iris.src.agents.agent_router.router - INFO - Getting routing decision using model: gpt-4o-mini-2024-07-18\n",
      "2025-04-04 10:19:33,080 - iris.src.llm_connectors.rbc_openai - INFO - Using API key: sk-proj...\n",
      "2025-04-04 10:19:33,080 - iris.src.llm_connectors.rbc_openai - INFO - Using API base URL: https://api.openai.com/v1\n",
      "2025-04-04 10:19:33,081 - iris.src.llm_connectors.rbc_openai - INFO - Making non-streaming call to model: gpt-4o-mini-2024-07-18 with tools in local environment\n",
      "2025-04-04 10:19:33,081 - iris.src.llm_connectors.rbc_openai - INFO - Attempt 1/3: Sending request to OpenAI API\n",
      "2025-04-04 10:19:33,081 - iris.src.llm_connectors.rbc_openai - INFO - API call parameters (excluding message content): {'model': 'gpt-4o-mini-2024-07-18', 'max_tokens': 4096, 'temperature': 0.0, 'stream': False, 'timeout': 30}\n",
      "2025-04-04 10:19:34,147 - httpx - INFO - HTTP Request: POST https://api.openai.com/v1/chat/completions \"HTTP/1.1 200 OK\"\n",
      "2025-04-04 10:19:34,154 - iris.src.llm_connectors.rbc_openai - INFO - Received response in 1.07 seconds\n",
      "2025-04-04 10:19:34,155 - iris.src.llm_connectors.rbc_openai - INFO - Token usage - Completion: 9 ($0.0000), Prompt: 2362 ($0.0000), Total: 2371 tokens, Total Cost: $0.0000\n",
      "2025-04-04 10:19:34,155 - iris.src.agents.agent_router.router - INFO - Routing decision: research_from_database\n",
      "2025-04-04 10:19:34,155 - root - INFO - Using research path based on routing decision\n",
      "2025-04-04 10:19:34,156 - root - INFO - Clarifying research needs...\n",
      "2025-04-04 10:19:34,156 - iris.src.agents.agent_clarifier.clarifier - INFO - Clarifying research needs using model: gpt-4o-mini-2024-07-18\n",
      "2025-04-04 10:19:34,165 - iris.src.llm_connectors.rbc_openai - INFO - Using API key: sk-proj...\n",
      "2025-04-04 10:19:34,166 - iris.src.llm_connectors.rbc_openai - INFO - Using API base URL: https://api.openai.com/v1\n",
      "2025-04-04 10:19:34,166 - iris.src.llm_connectors.rbc_openai - INFO - Making non-streaming call to model: gpt-4o-mini-2024-07-18 with tools in local environment\n",
      "2025-04-04 10:19:34,166 - iris.src.llm_connectors.rbc_openai - INFO - Attempt 1/3: Sending request to OpenAI API\n",
      "2025-04-04 10:19:34,167 - iris.src.llm_connectors.rbc_openai - INFO - API call parameters (excluding message content): {'model': 'gpt-4o-mini-2024-07-18', 'max_tokens': 4096, 'temperature': 0.0, 'stream': False, 'timeout': 30}\n",
      "2025-04-04 10:19:35,656 - httpx - INFO - HTTP Request: POST https://api.openai.com/v1/chat/completions \"HTTP/1.1 200 OK\"\n",
      "2025-04-04 10:19:35,659 - iris.src.llm_connectors.rbc_openai - INFO - Received response in 1.49 seconds\n",
      "2025-04-04 10:19:35,660 - iris.src.llm_connectors.rbc_openai - INFO - Token usage - Completion: 49 ($0.0000), Prompt: 2909 ($0.0000), Total: 2958 tokens, Total Cost: $0.0000\n",
      "2025-04-04 10:19:35,661 - iris.src.agents.agent_clarifier.clarifier - INFO - Clarifier decision: create_research_statement\n",
      "2025-04-04 10:19:35,661 - iris.src.agents.agent_clarifier.clarifier - INFO - Is continuation: False\n",
      "2025-04-04 10:19:35,662 - root - INFO - Creating research statement, proceeding with research\n",
      "2025-04-04 10:19:35,663 - root - INFO - Creating database query plan...\n",
      "2025-04-04 10:19:35,663 - iris.src.agents.agent_planner.planner - INFO - Creating query plan using model: gpt-4o-mini-2024-07-18\n",
      "2025-04-04 10:19:35,664 - iris.src.agents.agent_planner.planner - INFO - Is continuation: False\n",
      "2025-04-04 10:19:35,674 - iris.src.llm_connectors.rbc_openai - INFO - Using API key: sk-proj...\n",
      "2025-04-04 10:19:35,675 - iris.src.llm_connectors.rbc_openai - INFO - Using API base URL: https://api.openai.com/v1\n",
      "2025-04-04 10:19:35,675 - iris.src.llm_connectors.rbc_openai - INFO - Making non-streaming call to model: gpt-4o-mini-2024-07-18 with tools in local environment\n",
      "2025-04-04 10:19:35,676 - iris.src.llm_connectors.rbc_openai - INFO - Attempt 1/3: Sending request to OpenAI API\n",
      "2025-04-04 10:19:35,676 - iris.src.llm_connectors.rbc_openai - INFO - API call parameters (excluding message content): {'model': 'gpt-4o-mini-2024-07-18', 'max_tokens': 4096, 'temperature': 0.0, 'stream': False, 'timeout': 30}\n",
      "2025-04-04 10:19:39,955 - httpx - INFO - HTTP Request: POST https://api.openai.com/v1/chat/completions \"HTTP/1.1 200 OK\"\n",
      "2025-04-04 10:19:39,958 - iris.src.llm_connectors.rbc_openai - INFO - Received response in 4.28 seconds\n",
      "2025-04-04 10:19:39,959 - iris.src.llm_connectors.rbc_openai - INFO - Token usage - Completion: 105 ($0.0000), Prompt: 3366 ($0.0000), Total: 3471 tokens, Total Cost: $0.0000\n",
      "2025-04-04 10:19:39,959 - iris.src.agents.agent_planner.planner - INFO - Query plan created with 2 queries\n",
      "2025-04-04 10:19:39,960 - root - INFO - Query plan created with 2 queries\n"
     ]
    },
    {
     "name": "stdout",
     "output_type": "stream",
     "text": [
      "---\n",
      "# 📋 Research Plan\n",
      "\n",
      "## Research Statement\n",
      "Search the internal wiki for the definition of a business combination under IFRS, focusing on the relevant accounting treatment and any specific criteria outlined in the internal documentation.\n",
      "\n",
      "## Database Queries\n",
      "1. APG Wiki Entries: definition of business combination under IFRS and accounting treatment\n",
      "2. Corporate Accounting Policy Manuals: business combination accounting treatment and criteria\n",
      "---\n",
      "\n",
      "\n",
      "## 🔍 Query 1: APG Wiki Entries - definition of business combination under IFRS and accounting treatment\n",
      "\n"
     ]
    },
    {
     "name": "stderr",
     "output_type": "stream",
     "text": [
      "2025-04-04 10:19:39,962 - iris.src.agents.database_subagents.database_router - INFO - Routing query to database: internal_wiki\n",
      "2025-04-04 10:19:39,967 - iris.src.agents.database_subagents.internal_wiki.subagent - INFO - Querying Internal Wiki database: definition of business combination under IFRS and accounting treatment\n",
      "2025-04-04 10:19:39,967 - iris.src.chat_model.model_settings - INFO - Using large model: gpt-4o-2024-08-06 in local environment\n",
      "2025-04-04 10:19:39,968 - iris.src.agents.database_subagents.internal_wiki.subagent - INFO - Fetching wiki catalog with query: definition of business combination under IFRS and accounting treatment (environment: local)\n",
      "2025-04-04 10:19:40,042 - iris.src.agents.database_subagents.internal_wiki.subagent - INFO - Retrieved 3 catalog entries from database\n",
      "2025-04-04 10:19:40,043 - iris.src.agents.database_subagents.internal_wiki.subagent - INFO - Retrieved 3 catalog entries\n",
      "2025-04-04 10:19:40,044 - iris.src.agents.database_subagents.internal_wiki.subagent - INFO - Selecting relevant documents from catalog\n",
      "2025-04-04 10:19:40,044 - iris.src.chat_model.model_settings - INFO - Using small model: gpt-4o-mini-2024-07-18 in local environment\n",
      "2025-04-04 10:19:40,056 - iris.src.llm_connectors.rbc_openai - INFO - Using API key: sk-proj...\n",
      "2025-04-04 10:19:40,057 - iris.src.llm_connectors.rbc_openai - INFO - Using API base URL: https://api.openai.com/v1\n",
      "2025-04-04 10:19:40,057 - iris.src.llm_connectors.rbc_openai - INFO - Making non-streaming call to model: gpt-4o-mini-2024-07-18 in local environment\n",
      "2025-04-04 10:19:40,058 - iris.src.llm_connectors.rbc_openai - INFO - Attempt 1/3: Sending request to OpenAI API\n",
      "2025-04-04 10:19:40,058 - iris.src.llm_connectors.rbc_openai - INFO - API call parameters (excluding message content): {'model': 'gpt-4o-mini-2024-07-18', 'max_tokens': 200, 'temperature': 0.7, 'stream': False, 'timeout': 30}\n",
      "2025-04-04 10:19:40,774 - httpx - INFO - HTTP Request: POST https://api.openai.com/v1/chat/completions \"HTTP/1.1 200 OK\"\n",
      "2025-04-04 10:19:40,777 - iris.src.llm_connectors.rbc_openai - INFO - Received response in 0.72 seconds\n",
      "2025-04-04 10:19:40,777 - iris.src.llm_connectors.rbc_openai - INFO - Token usage - Completion: 2 ($0.0000), Prompt: 371 ($0.0000), Total: 373 tokens, Total Cost: $0.0000 (Database: internal_wiki)\n",
      "2025-04-04 10:19:40,777 - iris.src.llm_connectors.rbc_openai - INFO - Updated token usage for database 'internal_wiki': 373 tokens\n",
      "2025-04-04 10:19:40,778 - iris.src.agents.database_subagents.internal_wiki.subagent - INFO - Selected document IDs: []\n",
      "2025-04-04 10:19:40,778 - iris.src.agents.database_subagents.internal_wiki.subagent - INFO - Selected 0 relevant documents\n"
     ]
    },
    {
     "name": "stdout",
     "output_type": "stream",
     "text": [
      "No relevant documents found in the Internal Wiki database. Please try refining your query or check other databases.\n",
      "\n",
      "---"
     ]
    },
    {
     "name": "stderr",
     "output_type": "stream",
     "text": [
      "2025-04-04 10:19:40,779 - root - INFO - Completed database query 1/2: internal_wiki\n",
      "2025-04-04 10:19:40,780 - iris.src.agents.agent_judge.judge - INFO - Evaluating research progress using model: gpt-4o-mini-2024-07-18\n",
      "2025-04-04 10:19:40,781 - iris.src.agents.agent_judge.judge - INFO - Completed queries: 1, Remaining queries: 1\n",
      "2025-04-04 10:19:40,791 - iris.src.llm_connectors.rbc_openai - INFO - Using API key: sk-proj...\n",
      "2025-04-04 10:19:40,792 - iris.src.llm_connectors.rbc_openai - INFO - Using API base URL: https://api.openai.com/v1\n",
      "2025-04-04 10:19:40,792 - iris.src.llm_connectors.rbc_openai - INFO - Making non-streaming call to model: gpt-4o-mini-2024-07-18 with tools in local environment\n",
      "2025-04-04 10:19:40,792 - iris.src.llm_connectors.rbc_openai - INFO - Attempt 1/3: Sending request to OpenAI API\n",
      "2025-04-04 10:19:40,793 - iris.src.llm_connectors.rbc_openai - INFO - API call parameters (excluding message content): {'model': 'gpt-4o-mini-2024-07-18', 'max_tokens': 4096, 'temperature': 0.0, 'stream': False, 'timeout': 30}\n",
      "2025-04-04 10:19:42,138 - httpx - INFO - HTTP Request: POST https://api.openai.com/v1/chat/completions \"HTTP/1.1 200 OK\"\n",
      "2025-04-04 10:19:42,142 - iris.src.llm_connectors.rbc_openai - INFO - Received response in 1.35 seconds\n",
      "2025-04-04 10:19:42,143 - iris.src.llm_connectors.rbc_openai - INFO - Token usage - Completion: 69 ($0.0000), Prompt: 3356 ($0.0000), Total: 3425 tokens, Total Cost: $0.0000\n",
      "2025-04-04 10:19:42,143 - iris.src.agents.agent_judge.judge - INFO - Research decision: continue_research\n",
      "2025-04-04 10:19:42,144 - iris.src.agents.agent_judge.judge - INFO - Reason: The initial query results from the internal wiki did not provide specific information on the definition of a business combination under IFRS or the relevant accounting treatment. The remaining query in the internal_capm database is expected to yield authoritative policy statements and criteria that are essential for a comprehensive understanding of the topic....\n"
     ]
    },
    {
     "name": "stdout",
     "output_type": "stream",
     "text": [
      "\n",
      "## 🔍 Query 2: Corporate Accounting Policy Manuals - business combination accounting treatment and criteria\n",
      "\n"
     ]
    },
    {
     "name": "stderr",
     "output_type": "stream",
     "text": [
      "2025-04-04 10:19:42,146 - iris.src.agents.database_subagents.database_router - INFO - Routing query to database: internal_capm\n",
      "2025-04-04 10:19:42,150 - iris.src.agents.database_subagents.internal_capm.subagent - INFO - Querying CAPM database: business combination accounting treatment and criteria\n",
      "2025-04-04 10:19:42,652 - iris.src.agents.database_subagents.internal_capm.subagent - INFO - CAPM database query completed\n"
     ]
    },
    {
     "name": "stdout",
     "output_type": "stream",
     "text": [
      "\n",
      "    CENTRAL ACCOUNTING POLICY MANUAL RESULTS\n",
      "    \n",
      "    Query: business combination accounting treatment and criteria\n",
      "    \n",
      "    The following policy guidelines were found:\n",
      "    \n",
      "    1. Policy Section PR-23.4: Accounting for Financial Instruments\n",
      "       - Classification and measurement requirements\n",
      "       - Recognition criteria for derivatives and embedded derivatives\n",
      "       - De-recognition principles for financial assets and liabilities\n",
      "    \n",
      "    2. Policy Section PR-14.7: Revenue Recognition Standards\n",
      "       - Five-step revenue recognition model\n",
      "       - Contract identification and modification guidance\n",
      "       - Performance obligation identification and fulfillment criteria\n",
      "    \n",
      "    3. Procedural Guidance PG-112: Implementation Examples\n",
      "       - Case studies for complex financial instruments\n",
      "       - Decision trees for classification challenges\n",
      "       - Documentation requirements for audit purposes\n",
      "    \n",
      "\n",
      "---"
     ]
    },
    {
     "name": "stderr",
     "output_type": "stream",
     "text": [
      "2025-04-04 10:19:42,654 - root - INFO - Completed database query 2/2: internal_capm\n"
     ]
    },
    {
     "name": "stdout",
     "output_type": "stream",
     "text": [
      "\n",
      "## 📊 Research Summary\n",
      "\n",
      "Completed 2 database queries.\n"
     ]
    },
    {
     "name": "stderr",
     "output_type": "stream",
     "text": [
      "2025-04-04 10:19:42,656 - root - INFO - Completed research process\n"
     ]
    },
    {
     "name": "stdout",
     "output_type": "stream",
     "text": [
      "\n",
      "\n",
      "---\n",
      "## Usage Statistics\n",
      "\n",
      "- Input tokens: 12364\n",
      "- Output tokens: 234\n",
      "- Total tokens: 12598\n",
      "- Cost: $0.000019\n",
      "\n",
      "### Database Token Usage\n",
      "\n",
      "**APG Wiki Entries**\n",
      "- Input tokens: 371\n",
      "- Output tokens: 2\n",
      "- Total tokens: 373\n",
      "- Cost: $0.000001\n",
      "\n"
     ]
    }
   ],
   "source": [
    "# Call the model function with our conversation\n",
    "result_generator = model(conversation)\n",
    "\n",
    "# Stream the response chunks directly\n",
    "for chunk in result_generator:\n",
    "    print(chunk, end=\"\", flush=True)"
   ]
  },
  {
   "cell_type": "code",
   "execution_count": null,
   "id": "23b8191d-2940-454c-8f77-2768a015a9d4",
   "metadata": {},
   "outputs": [],
   "source": []
  }
 ],
 "metadata": {
  "kernelspec": {
   "display_name": "Python 3 (ipykernel)",
   "language": "python",
   "name": "python3"
  },
  "language_info": {
   "codemirror_mode": {
    "name": "ipython",
    "version": 3
   },
   "file_extension": ".py",
   "mimetype": "text/x-python",
   "name": "python",
   "nbconvert_exporter": "python",
   "pygments_lexer": "ipython3",
   "version": "3.13.2"
  }
 },
 "nbformat": 4,
 "nbformat_minor": 5
}
