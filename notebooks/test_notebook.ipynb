{
 "cells": [
  {
   "cell_type": "code",
   "execution_count": 1,
   "id": "1169096d",
   "metadata": {},
   "outputs": [],
   "source": [
    "# This enables auto-reloading of modules\n",
    "%load_ext autoreload\n",
    "%autoreload 2\n",
    "\n",
    "# Import the model\n",
    "from iris.src.chat_model.model import model"
   ]
  },
  {
   "cell_type": "code",
   "execution_count": 4,
   "id": "f8e42f72-04cf-4a2c-88cf-c774934d1167",
   "metadata": {},
   "outputs": [],
   "source": [
    "# Define conversation for testing\n",
    "conversation = {\n",
    "    \"messages\": [\n",
    "        {\"role\": \"system\", \"content\": \"You are a helpful assistant specialized in accounting.\"},\n",
    "        {\"role\": \"user\", \"content\": \"What is the definition of a business combination under IFRS, search internal CAPM only\"}\n",
    "    ]\n",
    "}\n",
    "\n",
    "# You can modify the conversation above to test different scenarios"
   ]
  },
  {
   "cell_type": "code",
   "execution_count": 5,
   "id": "8fa7cccd",
   "metadata": {},
   "outputs": [
    {
     "name": "stderr",
     "output_type": "stream",
     "text": [
      "2025-04-01 21:52:42,465 - root - INFO - Logging system initialized\n",
      "2025-04-01 21:52:42,466 - root - INFO - Initializing model setup...\n",
      "2025-04-01 21:52:42,466 - iris.src.initial_setup.ssl.ssl - INFO - SSL certificate setup skipped in local environment\n",
      "2025-04-01 21:52:42,467 - iris.src.initial_setup.oauth.oauth - INFO - Using API key authentication from local settings\n",
      "2025-04-01 21:52:42,467 - iris.src.initial_setup.oauth.oauth - INFO - Using OpenAI API key from settings: sk-proj...\n",
      "2025-04-01 21:52:42,467 - root - INFO - Processing input conversation...\n",
      "2025-04-01 21:52:42,468 - iris.src.conversation_setup.conversation - INFO - Processed conversation: 2 messages filtered to 1 messages\n",
      "2025-04-01 21:52:42,468 - root - INFO - Conversation processed: 1 messages\n",
      "2025-04-01 21:52:42,468 - root - INFO - Getting routing decision...\n",
      "2025-04-01 21:52:42,468 - iris.src.agents.agent_router.router - INFO - Getting routing decision using model: gpt-4o-mini-2024-07-18\n",
      "2025-04-01 21:52:42,476 - iris.src.llm_connectors.rbc_openai - INFO - Using API key: sk-proj...\n",
      "2025-04-01 21:52:42,477 - iris.src.llm_connectors.rbc_openai - INFO - Using API base URL: https://api.openai.com/v1\n",
      "2025-04-01 21:52:42,477 - iris.src.llm_connectors.rbc_openai - INFO - Making non-streaming call to model: gpt-4o-mini-2024-07-18 with tools in local environment\n",
      "2025-04-01 21:52:42,478 - iris.src.llm_connectors.rbc_openai - INFO - Attempt 1/3: Sending request to OpenAI API\n",
      "2025-04-01 21:52:42,478 - iris.src.llm_connectors.rbc_openai - INFO - API call parameters (excluding message content): {'model': 'gpt-4o-mini-2024-07-18', 'max_tokens': 4096, 'temperature': 0.0, 'stream': False, 'timeout': 30}\n",
      "2025-04-01 21:52:43,302 - httpx - INFO - HTTP Request: POST https://api.openai.com/v1/chat/completions \"HTTP/1.1 200 OK\"\n",
      "2025-04-01 21:52:43,306 - iris.src.llm_connectors.rbc_openai - INFO - Received response in 0.83 seconds\n",
      "2025-04-01 21:52:43,306 - iris.src.llm_connectors.rbc_openai - INFO - Token usage - Completion: 9 ($0.0000), Prompt: 1178 ($0.0000), Total: 1187 tokens, Total Cost: $0.0000\n",
      "2025-04-01 21:52:43,307 - iris.src.agents.agent_router.router - INFO - Routing decision: research_from_database\n",
      "2025-04-01 21:52:43,307 - root - INFO - Using research path based on routing decision\n",
      "2025-04-01 21:52:43,307 - root - INFO - Clarifying research needs...\n",
      "2025-04-01 21:52:43,308 - iris.src.agents.agent_clarifier.clarifier - INFO - Clarifying research needs using model: gpt-4o-mini-2024-07-18\n",
      "2025-04-01 21:52:43,319 - iris.src.llm_connectors.rbc_openai - INFO - Using API key: sk-proj...\n",
      "2025-04-01 21:52:43,320 - iris.src.llm_connectors.rbc_openai - INFO - Using API base URL: https://api.openai.com/v1\n",
      "2025-04-01 21:52:43,320 - iris.src.llm_connectors.rbc_openai - INFO - Making non-streaming call to model: gpt-4o-mini-2024-07-18 with tools in local environment\n",
      "2025-04-01 21:52:43,321 - iris.src.llm_connectors.rbc_openai - INFO - Attempt 1/3: Sending request to OpenAI API\n",
      "2025-04-01 21:52:43,321 - iris.src.llm_connectors.rbc_openai - INFO - API call parameters (excluding message content): {'model': 'gpt-4o-mini-2024-07-18', 'max_tokens': 4096, 'temperature': 0.0, 'stream': False, 'timeout': 30}\n",
      "2025-04-01 21:52:44,352 - httpx - INFO - HTTP Request: POST https://api.openai.com/v1/chat/completions \"HTTP/1.1 200 OK\"\n",
      "2025-04-01 21:52:44,355 - iris.src.llm_connectors.rbc_openai - INFO - Received response in 1.03 seconds\n",
      "2025-04-01 21:52:44,356 - iris.src.llm_connectors.rbc_openai - INFO - Token usage - Completion: 39 ($0.0000), Prompt: 1373 ($0.0000), Total: 1412 tokens, Total Cost: $0.0000\n",
      "2025-04-01 21:52:44,357 - iris.src.agents.agent_clarifier.clarifier - INFO - Clarifier decision: create_research_statement\n",
      "2025-04-01 21:52:44,357 - iris.src.agents.agent_clarifier.clarifier - INFO - Is continuation: False\n",
      "2025-04-01 21:52:44,358 - root - INFO - Creating research statement, proceeding with research\n"
     ]
    },
    {
     "name": "stdout",
     "output_type": "stream",
     "text": [
      "Researching: Research the definition of a business combination under IFRS using the Central Accounting Policy Manual (CAPM).\n",
      "\n"
     ]
    },
    {
     "name": "stderr",
     "output_type": "stream",
     "text": [
      "2025-04-01 21:52:44,360 - root - INFO - Creating database query plan...\n",
      "2025-04-01 21:52:44,360 - iris.src.agents.agent_planner.planner - INFO - Creating query plan using model: gpt-4o-mini-2024-07-18\n",
      "2025-04-01 21:52:44,361 - iris.src.agents.agent_planner.planner - INFO - Is continuation: False\n",
      "2025-04-01 21:52:44,375 - iris.src.llm_connectors.rbc_openai - INFO - Using API key: sk-proj...\n",
      "2025-04-01 21:52:44,375 - iris.src.llm_connectors.rbc_openai - INFO - Using API base URL: https://api.openai.com/v1\n",
      "2025-04-01 21:52:44,376 - iris.src.llm_connectors.rbc_openai - INFO - Making non-streaming call to model: gpt-4o-mini-2024-07-18 with tools in local environment\n",
      "2025-04-01 21:52:44,377 - iris.src.llm_connectors.rbc_openai - INFO - Attempt 1/3: Sending request to OpenAI API\n",
      "2025-04-01 21:52:44,377 - iris.src.llm_connectors.rbc_openai - INFO - API call parameters (excluding message content): {'model': 'gpt-4o-mini-2024-07-18', 'max_tokens': 4096, 'temperature': 0.0, 'stream': False, 'timeout': 30}\n",
      "2025-04-01 21:52:45,989 - httpx - INFO - HTTP Request: POST https://api.openai.com/v1/chat/completions \"HTTP/1.1 200 OK\"\n",
      "2025-04-01 21:52:45,992 - iris.src.llm_connectors.rbc_openai - INFO - Received response in 1.62 seconds\n",
      "2025-04-01 21:52:45,993 - iris.src.llm_connectors.rbc_openai - INFO - Token usage - Completion: 89 ($0.0000), Prompt: 1877 ($0.0000), Total: 1966 tokens, Total Cost: $0.0000\n",
      "2025-04-01 21:52:45,994 - iris.src.agents.agent_planner.planner - INFO - Query plan created with 1 queries\n",
      "2025-04-01 21:52:45,995 - root - INFO - Query plan created with 1 queries\n"
     ]
    },
    {
     "name": "stdout",
     "output_type": "stream",
     "text": [
      "Research plan created with 1 queries.\n",
      "\n",
      "Query 1: internal_capm - definition of a business combination under IFRS\n",
      "\n"
     ]
    },
    {
     "name": "stderr",
     "output_type": "stream",
     "text": [
      "2025-04-01 21:52:45,996 - iris.src.agents.database_subagents.database_router - INFO - Routing query to database: internal_capm\n",
      "2025-04-01 21:52:46,002 - iris.src.agents.database_subagents.internal_capm.subagent - INFO - Querying CAPM database: definition of a business combination under IFRS\n",
      "2025-04-01 21:52:46,508 - iris.src.agents.database_subagents.internal_capm.subagent - INFO - CAPM database query completed\n"
     ]
    },
    {
     "name": "stdout",
     "output_type": "stream",
     "text": [
      "\n",
      "    CENTRAL ACCOUNTING POLICY MANUAL RESULTS\n",
      "    \n",
      "    Query: definition of a business combination under IFRS\n",
      "    \n",
      "    The following policy guidelines were found:\n",
      "    \n",
      "    1. Policy Section PR-23.4: Accounting for Financial Instruments\n",
      "       - Classification and measurement requirements\n",
      "       - Recognition criteria for derivatives and embedded derivatives\n",
      "       - De-recognition principles for financial assets and liabilities\n",
      "    \n",
      "    2. Policy Section PR-14.7: Revenue Recognition Standards\n",
      "       - Five-step revenue recognition model\n",
      "       - Contract identification and modification guidance\n",
      "       - Performance obligation identification and fulfillment criteria\n",
      "    \n",
      "    3. Procedural Guidance PG-112: Implementation Examples\n",
      "       - Case studies for complex financial instruments\n",
      "       - Decision trees for classification challenges\n",
      "       - Documentation requirements for audit purposes\n",
      "    \n",
      "\n"
     ]
    },
    {
     "name": "stderr",
     "output_type": "stream",
     "text": [
      "2025-04-01 21:52:46,510 - root - INFO - Completed database query 1/1: internal_capm\n"
     ]
    },
    {
     "name": "stdout",
     "output_type": "stream",
     "text": [
      "\n",
      "Completed 1 database queries.\n"
     ]
    },
    {
     "name": "stderr",
     "output_type": "stream",
     "text": [
      "2025-04-01 21:52:46,511 - root - INFO - Completed research process\n"
     ]
    }
   ],
   "source": [
    "# Call the model function with our conversation\n",
    "result_generator = model(conversation)\n",
    "\n",
    "# Stream the response chunks directly\n",
    "for chunk in result_generator:\n",
    "    print(chunk, end=\"\", flush=True)"
   ]
  },
  {
   "cell_type": "code",
   "execution_count": null,
   "id": "23b8191d-2940-454c-8f77-2768a015a9d4",
   "metadata": {},
   "outputs": [],
   "source": []
  }
 ],
 "metadata": {
  "kernelspec": {
   "display_name": "Python 3 (ipykernel)",
   "language": "python",
   "name": "python3"
  },
  "language_info": {
   "codemirror_mode": {
    "name": "ipython",
    "version": 3
   },
   "file_extension": ".py",
   "mimetype": "text/x-python",
   "name": "python",
   "nbconvert_exporter": "python",
   "pygments_lexer": "ipython3",
   "version": "3.13.2"
  }
 },
 "nbformat": 4,
 "nbformat_minor": 5
}
