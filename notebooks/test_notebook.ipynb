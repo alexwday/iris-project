{
 "cells": [
  {
   "cell_type": "code",
   "execution_count": 2,
   "id": "1169096d",
   "metadata": {},
   "outputs": [
    {
     "name": "stdout",
     "output_type": "stream",
     "text": [
      "The autoreload extension is already loaded. To reload it, use:\n",
      "  %reload_ext autoreload\n"
     ]
    }
   ],
   "source": [
    "# This enables auto-reloading of modules\n",
    "%load_ext autoreload\n",
    "%autoreload 2\n",
    "\n",
    "# Import the model\n",
    "from iris.src.chat_model.model import model"
   ]
  },
  {
   "cell_type": "code",
   "execution_count": 3,
   "id": "f8e42f72-04cf-4a2c-88cf-c774934d1167",
   "metadata": {},
   "outputs": [],
   "source": [
    "# Define conversation for testing\n",
    "conversation = {\n",
    "    \"messages\": [\n",
    "        {\"role\": \"system\", \"content\": \"You are a helpful assistant specialized in accounting.\"},\n",
    "        {\"role\": \"user\", \"content\": \"What is the definition of a business combination under IFRS, search internal wiki only\"}\n",
    "    ]\n",
    "}\n",
    "\n",
    "# You can modify the conversation above to test different scenarios"
   ]
  },
  {
   "cell_type": "code",
   "execution_count": 4,
   "id": "8fa7cccd",
   "metadata": {},
   "outputs": [
    {
     "name": "stderr",
     "output_type": "stream",
     "text": [
      "INFO:iris.src.chat_model.model_settings:Using small model: gpt-4o-mini-2024-07-18 in local environment\n",
      "INFO:iris.src.chat_model.model_settings:Using large model: gpt-4o-2024-08-06 in local environment\n",
      "INFO:iris.src.chat_model.model_settings:Using small model: gpt-4o-mini-2024-07-18 in local environment\n",
      "INFO:iris.src.chat_model.model_settings:Using small model: gpt-4o-mini-2024-07-18 in local environment\n",
      "INFO:iris.src.chat_model.model_settings:Using small model: gpt-4o-mini-2024-07-18 in local environment\n",
      "INFO:iris.src.chat_model.model_settings:Using large model: gpt-4o-2024-08-06 in local environment\n",
      "2025-04-04 17:17:54,136 - root - INFO - Logging system initialized\n",
      "2025-04-04 17:17:54,136 - root - INFO - Initializing model setup...\n",
      "2025-04-04 17:17:54,136 - iris.src.initial_setup.ssl.ssl - INFO - SSL certificate setup skipped in local environment\n",
      "2025-04-04 17:17:54,136 - iris.src.initial_setup.oauth.oauth - INFO - Using API key authentication from local settings\n",
      "2025-04-04 17:17:54,136 - iris.src.initial_setup.oauth.oauth - INFO - Using OpenAI API key from settings: sk-proj...\n",
      "2025-04-04 17:17:54,136 - root - INFO - Processing input conversation...\n",
      "2025-04-04 17:17:54,137 - iris.src.conversation_setup.conversation - INFO - Processed conversation: 2 messages filtered to 1 messages\n",
      "2025-04-04 17:17:54,137 - root - INFO - Conversation processed: 1 messages\n",
      "2025-04-04 17:17:54,137 - root - INFO - Getting routing decision...\n",
      "2025-04-04 17:17:54,137 - iris.src.agents.agent_router.router - INFO - Getting routing decision using model: gpt-4o-mini-2024-07-18\n",
      "2025-04-04 17:17:54,155 - iris.src.llm_connectors.rbc_openai - INFO - Using API key: sk-proj...\n",
      "2025-04-04 17:17:54,156 - iris.src.llm_connectors.rbc_openai - INFO - Using API base URL: https://api.openai.com/v1\n",
      "2025-04-04 17:17:54,156 - iris.src.llm_connectors.rbc_openai - INFO - Making non-streaming call to model: gpt-4o-mini-2024-07-18 with tools in local environment\n",
      "2025-04-04 17:17:54,156 - iris.src.llm_connectors.rbc_openai - INFO - Attempt 1/3: Sending request to OpenAI API\n",
      "2025-04-04 17:17:54,156 - iris.src.llm_connectors.rbc_openai - INFO - API call parameters (excluding message content): {'model': 'gpt-4o-mini-2024-07-18', 'max_tokens': 4096, 'temperature': 0.0, 'stream': False, 'timeout': 30}\n",
      "2025-04-04 17:17:55,305 - httpx - INFO - HTTP Request: POST https://api.openai.com/v1/chat/completions \"HTTP/1.1 200 OK\"\n",
      "2025-04-04 17:17:55,315 - iris.src.llm_connectors.rbc_openai - INFO - Received response in 1.16 seconds\n",
      "2025-04-04 17:17:55,315 - iris.src.llm_connectors.rbc_openai - INFO - Token usage - Completion: 9 ($0.0000), Prompt: 3012 ($0.0000), Total: 3021 tokens, Total Cost: $0.0000\n",
      "2025-04-04 17:17:55,316 - iris.src.agents.agent_router.router - INFO - Routing decision: research_from_database\n",
      "2025-04-04 17:17:55,316 - root - INFO - Using research path based on routing decision\n",
      "2025-04-04 17:17:55,316 - root - INFO - Clarifying research needs...\n",
      "2025-04-04 17:17:55,317 - iris.src.agents.agent_clarifier.clarifier - INFO - Clarifying research needs using model: gpt-4o-mini-2024-07-18\n",
      "2025-04-04 17:17:55,327 - iris.src.llm_connectors.rbc_openai - INFO - Using API key: sk-proj...\n",
      "2025-04-04 17:17:55,328 - iris.src.llm_connectors.rbc_openai - INFO - Using API base URL: https://api.openai.com/v1\n",
      "2025-04-04 17:17:55,329 - iris.src.llm_connectors.rbc_openai - INFO - Making non-streaming call to model: gpt-4o-mini-2024-07-18 with tools in local environment\n",
      "2025-04-04 17:17:55,329 - iris.src.llm_connectors.rbc_openai - INFO - Attempt 1/3: Sending request to OpenAI API\n",
      "2025-04-04 17:17:55,329 - iris.src.llm_connectors.rbc_openai - INFO - API call parameters (excluding message content): {'model': 'gpt-4o-mini-2024-07-18', 'max_tokens': 4096, 'temperature': 0.0, 'stream': False, 'timeout': 30}\n",
      "2025-04-04 17:17:56,950 - httpx - INFO - HTTP Request: POST https://api.openai.com/v1/chat/completions \"HTTP/1.1 200 OK\"\n",
      "2025-04-04 17:17:56,954 - iris.src.llm_connectors.rbc_openai - INFO - Received response in 1.62 seconds\n",
      "2025-04-04 17:17:56,954 - iris.src.llm_connectors.rbc_openai - INFO - Token usage - Completion: 79 ($0.0000), Prompt: 3234 ($0.0000), Total: 3313 tokens, Total Cost: $0.0000\n",
      "2025-04-04 17:17:56,955 - iris.src.agents.agent_clarifier.clarifier - INFO - Clarifier decision: create_research_statement\n",
      "2025-04-04 17:17:56,956 - iris.src.agents.agent_clarifier.clarifier - INFO - Is continuation: False\n",
      "2025-04-04 17:17:56,957 - root - INFO - Creating research statement, proceeding with research\n",
      "2025-04-04 17:17:56,957 - root - INFO - Creating database query plan...\n",
      "2025-04-04 17:17:56,958 - iris.src.agents.agent_planner.planner - INFO - Creating query plan using model: gpt-4o-mini-2024-07-18\n",
      "2025-04-04 17:17:56,958 - iris.src.agents.agent_planner.planner - INFO - Is continuation: False\n",
      "2025-04-04 17:17:56,968 - iris.src.llm_connectors.rbc_openai - INFO - Using API key: sk-proj...\n",
      "2025-04-04 17:17:56,969 - iris.src.llm_connectors.rbc_openai - INFO - Using API base URL: https://api.openai.com/v1\n",
      "2025-04-04 17:17:56,969 - iris.src.llm_connectors.rbc_openai - INFO - Making non-streaming call to model: gpt-4o-mini-2024-07-18 with tools in local environment\n",
      "2025-04-04 17:17:56,969 - iris.src.llm_connectors.rbc_openai - INFO - Attempt 1/3: Sending request to OpenAI API\n",
      "2025-04-04 17:17:56,970 - iris.src.llm_connectors.rbc_openai - INFO - API call parameters (excluding message content): {'model': 'gpt-4o-mini-2024-07-18', 'max_tokens': 4096, 'temperature': 0.0, 'stream': False, 'timeout': 30}\n",
      "2025-04-04 17:17:58,778 - httpx - INFO - HTTP Request: POST https://api.openai.com/v1/chat/completions \"HTTP/1.1 200 OK\"\n",
      "2025-04-04 17:17:58,781 - iris.src.llm_connectors.rbc_openai - INFO - Received response in 1.81 seconds\n",
      "2025-04-04 17:17:58,782 - iris.src.llm_connectors.rbc_openai - INFO - Token usage - Completion: 42 ($0.0000), Prompt: 2443 ($0.0000), Total: 2485 tokens, Total Cost: $0.0000\n",
      "2025-04-04 17:17:58,783 - iris.src.agents.agent_planner.planner - INFO - Query plan created with 2 queries\n",
      "2025-04-04 17:17:58,784 - root - INFO - Query plan created with 2 queries\n"
     ]
    },
    {
     "name": "stdout",
     "output_type": "stream",
     "text": [
      "---\n",
      "# 📋 Research Plan\n",
      "\n",
      "## Research Statement\n",
      "User requested a definition of a business combination under IFRS, specifically searching the internal wiki for RBC-specific conclusions or guides. This inquiry pertains to the accounting treatment of business combinations, which is relevant to IFRS standards. No specific fiscal year or industry context was provided, but the focus is on internal documentation.\n",
      "\n",
      "## Database Queries\n",
      "1. APG Wiki Entries: Definition of business combination under IFRS\n",
      "2. IASB Standards and Interpretations: IFRS 3 Business Combinations definition and guidance\n",
      "---\n",
      "\n",
      "\n",
      "## 🔍 Query 1: APG Wiki Entries - Definition of business combination under IFRS\n",
      "\n"
     ]
    },
    {
     "name": "stderr",
     "output_type": "stream",
     "text": [
      "2025-04-04 17:17:58,785 - iris.src.agents.database_subagents.database_router - INFO - Routing query to database: internal_wiki\n",
      "2025-04-04 17:17:58,797 - iris.src.agents.database_subagents.internal_wiki.subagent - INFO - Querying Internal Wiki database: Definition of business combination under IFRS\n",
      "2025-04-04 17:17:58,797 - iris.src.chat_model.model_settings - INFO - Using large model: gpt-4o-2024-08-06 in local environment\n",
      "2025-04-04 17:17:58,798 - iris.src.agents.database_subagents.internal_wiki.subagent - INFO - Fetching wiki catalog with query: Definition of business combination under IFRS (environment: local)\n",
      "2025-04-04 17:17:58,833 - iris.src.agents.database_subagents.internal_wiki.subagent - INFO - Retrieved 3 catalog entries from database\n",
      "2025-04-04 17:17:58,834 - iris.src.agents.database_subagents.internal_wiki.subagent - INFO - Retrieved 3 catalog entries\n",
      "2025-04-04 17:17:58,834 - iris.src.agents.database_subagents.internal_wiki.subagent - INFO - Selecting relevant documents from catalog\n",
      "2025-04-04 17:17:58,834 - iris.src.chat_model.model_settings - INFO - Using small model: gpt-4o-mini-2024-07-18 in local environment\n",
      "2025-04-04 17:17:58,845 - iris.src.llm_connectors.rbc_openai - INFO - Using API key: sk-proj...\n",
      "2025-04-04 17:17:58,845 - iris.src.llm_connectors.rbc_openai - INFO - Using API base URL: https://api.openai.com/v1\n",
      "2025-04-04 17:17:58,845 - iris.src.llm_connectors.rbc_openai - INFO - Making non-streaming call to model: gpt-4o-mini-2024-07-18 in local environment\n",
      "2025-04-04 17:17:58,846 - iris.src.llm_connectors.rbc_openai - INFO - Attempt 1/3: Sending request to OpenAI API\n",
      "2025-04-04 17:17:58,846 - iris.src.llm_connectors.rbc_openai - INFO - API call parameters (excluding message content): {'model': 'gpt-4o-mini-2024-07-18', 'max_tokens': 200, 'temperature': 0.7, 'stream': False, 'timeout': 30}\n",
      "2025-04-04 17:17:59,409 - httpx - INFO - HTTP Request: POST https://api.openai.com/v1/chat/completions \"HTTP/1.1 200 OK\"\n",
      "2025-04-04 17:17:59,412 - iris.src.llm_connectors.rbc_openai - INFO - Received response in 0.57 seconds\n",
      "2025-04-04 17:17:59,412 - iris.src.llm_connectors.rbc_openai - INFO - Token usage - Completion: 2 ($0.0000), Prompt: 368 ($0.0000), Total: 370 tokens, Total Cost: $0.0000 (Database: internal_wiki)\n",
      "2025-04-04 17:17:59,413 - iris.src.llm_connectors.rbc_openai - INFO - Updated token usage for database 'internal_wiki': 370 tokens\n",
      "2025-04-04 17:17:59,414 - iris.src.agents.database_subagents.internal_wiki.subagent - INFO - Selected document IDs: []\n",
      "2025-04-04 17:17:59,415 - iris.src.agents.database_subagents.internal_wiki.subagent - INFO - Selected 0 relevant documents\n"
     ]
    },
    {
     "name": "stdout",
     "output_type": "stream",
     "text": [
      "No relevant documents found in the Internal Wiki database. Please try refining your query or check other databases.\n",
      "\n",
      "---"
     ]
    },
    {
     "name": "stderr",
     "output_type": "stream",
     "text": [
      "2025-04-04 17:17:59,416 - root - INFO - Completed database query 1/2: internal_wiki\n",
      "2025-04-04 17:17:59,416 - iris.src.agents.agent_judge.judge - INFO - Evaluating research progress using model: gpt-4o-mini-2024-07-18\n",
      "2025-04-04 17:17:59,416 - iris.src.agents.agent_judge.judge - INFO - Completed queries: 1, Remaining queries: 1\n",
      "2025-04-04 17:17:59,427 - iris.src.llm_connectors.rbc_openai - INFO - Using API key: sk-proj...\n",
      "2025-04-04 17:17:59,427 - iris.src.llm_connectors.rbc_openai - INFO - Using API base URL: https://api.openai.com/v1\n",
      "2025-04-04 17:17:59,428 - iris.src.llm_connectors.rbc_openai - INFO - Making non-streaming call to model: gpt-4o-mini-2024-07-18 with tools in local environment\n",
      "2025-04-04 17:17:59,428 - iris.src.llm_connectors.rbc_openai - INFO - Attempt 1/3: Sending request to OpenAI API\n",
      "2025-04-04 17:17:59,429 - iris.src.llm_connectors.rbc_openai - INFO - API call parameters (excluding message content): {'model': 'gpt-4o-mini-2024-07-18', 'max_tokens': 4096, 'temperature': 0.0, 'stream': False, 'timeout': 30}\n",
      "2025-04-04 17:18:00,205 - httpx - INFO - HTTP Request: POST https://api.openai.com/v1/chat/completions \"HTTP/1.1 200 OK\"\n",
      "2025-04-04 17:18:00,209 - iris.src.llm_connectors.rbc_openai - INFO - Received response in 0.78 seconds\n",
      "2025-04-04 17:18:00,210 - iris.src.llm_connectors.rbc_openai - INFO - Token usage - Completion: 8 ($0.0000), Prompt: 2586 ($0.0000), Total: 2594 tokens, Total Cost: $0.0000\n",
      "2025-04-04 17:18:00,210 - iris.src.agents.agent_judge.judge - INFO - Research decision: continue_research\n"
     ]
    },
    {
     "name": "stdout",
     "output_type": "stream",
     "text": [
      "\n",
      "## 🔍 Query 2: IASB Standards and Interpretations - IFRS 3 Business Combinations definition and guidance\n",
      "\n"
     ]
    },
    {
     "name": "stderr",
     "output_type": "stream",
     "text": [
      "2025-04-04 17:18:00,211 - iris.src.agents.database_subagents.database_router - INFO - Routing query to database: external_iasb\n",
      "2025-04-04 17:18:00,217 - iris.src.agents.database_subagents.external_iasb.subagent - INFO - Querying database: IFRS 3 Business Combinations definition and guidance\n",
      "2025-04-04 17:18:00,721 - iris.src.agents.database_subagents.external_iasb.subagent - INFO - Database query completed\n"
     ]
    },
    {
     "name": "stdout",
     "output_type": "stream",
     "text": [
      "\n",
      "    DATABASE RESULTS\n",
      "    \n",
      "    Query: IFRS 3 Business Combinations definition and guidance\n",
      "    \n",
      "    [This is a placeholder response.]\n",
      "    [In a production environment, this would return actual search results.]\n",
      "    \n",
      "    The following resources would be returned:\n",
      "    - Relevant documentation matching your query criteria\n",
      "    - Implementation guidance and examples\n",
      "    - Technical references and specifications\n",
      "    \n",
      "\n",
      "---"
     ]
    },
    {
     "name": "stderr",
     "output_type": "stream",
     "text": [
      "2025-04-04 17:18:00,725 - root - INFO - Completed database query 2/2: external_iasb\n"
     ]
    },
    {
     "name": "stdout",
     "output_type": "stream",
     "text": [
      "\n",
      "## 📊 Research Summary\n",
      "\n",
      "Completed 2 database queries.\n"
     ]
    },
    {
     "name": "stderr",
     "output_type": "stream",
     "text": [
      "2025-04-04 17:18:00,727 - root - INFO - Completed research process\n"
     ]
    },
    {
     "name": "stdout",
     "output_type": "stream",
     "text": [
      "\n",
      "\n",
      "---\n",
      "## Agent Usage Statistics\n",
      "\n",
      "- Input tokens: 11643\n",
      "- Output tokens: 140\n",
      "- Total tokens: 11783\n",
      "- Cost: $0.000018\n",
      "\n",
      "### Database Subagent Usage\n",
      "\n",
      "**APG Wiki Entries**\n",
      "- Input tokens: 368\n",
      "- Output tokens: 2\n",
      "- Total tokens: 370\n",
      "- Cost: $0.000001\n",
      "\n",
      "### Overall Usage Statistics\n",
      "\n",
      "- Overall Input tokens: 12011\n",
      "- Overall Output tokens: 142\n",
      "- Overall Total tokens: 12153\n",
      "- Overall Cost: $0.000018\n"
     ]
    }
   ],
   "source": [
    "# Call the model function with our conversation\n",
    "result_generator = model(conversation)\n",
    "\n",
    "# Stream the response chunks directly\n",
    "for chunk in result_generator:\n",
    "    print(chunk, end=\"\", flush=True)"
   ]
  },
  {
   "cell_type": "code",
   "execution_count": null,
   "id": "23b8191d-2940-454c-8f77-2768a015a9d4",
   "metadata": {},
   "outputs": [],
   "source": []
  }
 ],
 "metadata": {
  "kernelspec": {
   "display_name": "Python 3 (ipykernel)",
   "language": "python",
   "name": "python3"
  },
  "language_info": {
   "codemirror_mode": {
    "name": "ipython",
    "version": 3
   },
   "file_extension": ".py",
   "mimetype": "text/x-python",
   "name": "python",
   "nbconvert_exporter": "python",
   "pygments_lexer": "ipython3",
   "version": "3.13.2"
  }
 },
 "nbformat": 4,
 "nbformat_minor": 5
}
