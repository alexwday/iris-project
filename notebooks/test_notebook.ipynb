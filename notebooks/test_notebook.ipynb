{
 "cells": [
  {
   "cell_type": "code",
   "execution_count": 1,
   "id": "1169096d",
   "metadata": {},
   "outputs": [
    {
     "name": "stderr",
     "output_type": "stream",
     "text": [
      "INFO:iris.src.chat_model.model_settings:Using environment: local\n",
      "INFO:iris.src.chat_model.model_settings:Using API base URL: https://api.openai.com/v1\n"
     ]
    }
   ],
   "source": [
    "# This enables auto-reloading of modules\n",
    "%load_ext autoreload\n",
    "%autoreload 2\n",
    "\n",
    "# Import the model\n",
    "from iris.src.chat_model.model import model"
   ]
  },
  {
   "cell_type": "code",
   "execution_count": 2,
   "id": "f8e42f72-04cf-4a2c-88cf-c774934d1167",
   "metadata": {},
   "outputs": [],
   "source": [
    "# Define conversation for testing\n",
    "conversation = {\n",
    "    \"messages\": [\n",
    "        {\"role\": \"system\", \"content\": \"You are a helpful assistant specialized in accounting.\"},\n",
    "        {\"role\": \"user\", \"content\": \"Research the par process\"}\n",
    "    ]\n",
    "}\n",
    "\n",
    "# You can modify the conversation above to test different scenarios"
   ]
  },
  {
   "cell_type": "code",
   "execution_count": 3,
   "id": "8fa7cccd",
   "metadata": {},
   "outputs": [
    {
     "name": "stderr",
     "output_type": "stream",
     "text": [
      "INFO:iris.src.chat_model.model_settings:Using small model: gpt-4o-mini-2024-07-18 in local environment\n",
      "INFO:iris.src.chat_model.model_settings:Using large model: gpt-4o-2024-08-06 in local environment\n",
      "INFO:iris.src.chat_model.model_settings:Using small model: gpt-4o-mini-2024-07-18 in local environment\n",
      "INFO:iris.src.chat_model.model_settings:Using small model: gpt-4o-mini-2024-07-18 in local environment\n",
      "2025-04-06 21:20:45,495 - root - INFO - Logging system initialized\n",
      "2025-04-06 21:20:45,495 - root - INFO - Initializing model setup (sync core)...\n",
      "2025-04-06 21:20:45,495 - iris.src.initial_setup.ssl.ssl - INFO - SSL certificate setup skipped in local environment\n",
      "2025-04-06 21:20:45,495 - iris.src.initial_setup.oauth.oauth - INFO - Using API key authentication from local settings\n",
      "2025-04-06 21:20:45,495 - iris.src.initial_setup.oauth.oauth - INFO - Using OpenAI API key from settings: sk-proj...\n",
      "2025-04-06 21:20:45,496 - root - INFO - Processing input conversation...\n",
      "2025-04-06 21:20:45,496 - iris.src.conversation_setup.conversation - INFO - Processed conversation: 2 messages filtered to 1 messages\n",
      "2025-04-06 21:20:45,496 - root - INFO - Conversation processed: 1 messages\n",
      "2025-04-06 21:20:45,496 - root - INFO - Getting routing decision...\n",
      "2025-04-06 21:20:45,496 - iris.src.agents.agent_router.router - INFO - Getting routing decision using model: gpt-4o-mini-2024-07-18\n",
      "2025-04-06 21:20:45,496 - iris.src.agents.agent_router.router - INFO - Initiating Router API call\n",
      "2025-04-06 21:20:45,511 - iris.src.llm_connectors.rbc_openai - INFO - Using API key: sk-proj...\n",
      "2025-04-06 21:20:45,511 - iris.src.llm_connectors.rbc_openai - INFO - Using API base URL: https://api.openai.com/v1\n",
      "2025-04-06 21:20:45,511 - iris.src.llm_connectors.rbc_openai - INFO - Making non-streaming call to model: gpt-4o-mini-2024-07-18 with tools in local environment\n",
      "2025-04-06 21:20:45,511 - iris.src.llm_connectors.rbc_openai - INFO - Attempt 1/3: Sending request to OpenAI API\n",
      "2025-04-06 21:20:45,512 - iris.src.llm_connectors.rbc_openai - INFO - API call parameters (excluding message content): {'model': 'gpt-4o-mini-2024-07-18', 'max_tokens': 4096, 'temperature': 0.0, 'stream': False, 'timeout': 30}\n",
      "2025-04-06 21:20:46,103 - httpx - INFO - HTTP Request: POST https://api.openai.com/v1/chat/completions \"HTTP/1.1 200 OK\"\n",
      "2025-04-06 21:20:46,111 - iris.src.llm_connectors.rbc_openai - INFO - Received response in 0.60 seconds\n",
      "2025-04-06 21:20:46,112 - iris.src.llm_connectors.rbc_openai - INFO - Token usage - Completion: 9 ($0.0000), Prompt: 3138 ($0.0000), Total: 3147 tokens, Total Cost: $0.0000\n",
      "2025-04-06 21:20:46,112 - iris.src.agents.agent_router.router - INFO - Routing decision: research_from_database\n",
      "2025-04-06 21:20:46,112 - root - INFO - Using research path based on routing decision\n",
      "2025-04-06 21:20:46,113 - root - INFO - Clarifying research needs...\n",
      "2025-04-06 21:20:46,113 - iris.src.agents.agent_clarifier.clarifier - INFO - Clarifying research needs using model: gpt-4o-mini-2024-07-18\n",
      "2025-04-06 21:20:46,114 - iris.src.agents.agent_clarifier.clarifier - INFO - Initiating Clarifier API call\n",
      "2025-04-06 21:20:46,124 - iris.src.llm_connectors.rbc_openai - INFO - Using API key: sk-proj...\n",
      "2025-04-06 21:20:46,124 - iris.src.llm_connectors.rbc_openai - INFO - Using API base URL: https://api.openai.com/v1\n",
      "2025-04-06 21:20:46,125 - iris.src.llm_connectors.rbc_openai - INFO - Making non-streaming call to model: gpt-4o-mini-2024-07-18 with tools in local environment\n",
      "2025-04-06 21:20:46,125 - iris.src.llm_connectors.rbc_openai - INFO - Attempt 1/3: Sending request to OpenAI API\n",
      "2025-04-06 21:20:46,125 - iris.src.llm_connectors.rbc_openai - INFO - API call parameters (excluding message content): {'model': 'gpt-4o-mini-2024-07-18', 'max_tokens': 4096, 'temperature': 0.0, 'stream': False, 'timeout': 30}\n",
      "2025-04-06 21:20:48,512 - httpx - INFO - HTTP Request: POST https://api.openai.com/v1/chat/completions \"HTTP/1.1 200 OK\"\n",
      "2025-04-06 21:20:48,516 - iris.src.llm_connectors.rbc_openai - INFO - Received response in 2.39 seconds\n",
      "2025-04-06 21:20:48,516 - iris.src.llm_connectors.rbc_openai - INFO - Token usage - Completion: 78 ($0.0000), Prompt: 4238 ($0.0000), Total: 4316 tokens, Total Cost: $0.0000\n",
      "2025-04-06 21:20:48,517 - iris.src.agents.agent_clarifier.clarifier - INFO - Clarifier decision: create_research_statement\n",
      "2025-04-06 21:20:48,518 - iris.src.agents.agent_clarifier.clarifier - INFO - Determined scope: research\n",
      "2025-04-06 21:20:48,518 - iris.src.agents.agent_clarifier.clarifier - INFO - Is continuation: False\n",
      "2025-04-06 21:20:48,519 - root - INFO - Creating research statement, proceeding with research\n",
      "2025-04-06 21:20:48,519 - root - INFO - Research scope determined: research\n",
      "2025-04-06 21:20:48,520 - root - INFO - Creating database query plan...\n",
      "2025-04-06 21:20:48,520 - iris.src.agents.agent_planner.planner - INFO - Creating query plan using model: gpt-4o-mini-2024-07-18\n",
      "2025-04-06 21:20:48,521 - iris.src.agents.agent_planner.planner - INFO - Is continuation: False\n",
      "2025-04-06 21:20:48,521 - iris.src.agents.agent_planner.planner - INFO - Initiating Planner API call\n",
      "2025-04-06 21:20:48,531 - iris.src.llm_connectors.rbc_openai - INFO - Using API key: sk-proj...\n",
      "2025-04-06 21:20:48,532 - iris.src.llm_connectors.rbc_openai - INFO - Using API base URL: https://api.openai.com/v1\n",
      "2025-04-06 21:20:48,533 - iris.src.llm_connectors.rbc_openai - INFO - Making non-streaming call to model: gpt-4o-mini-2024-07-18 with tools in local environment\n",
      "2025-04-06 21:20:48,533 - iris.src.llm_connectors.rbc_openai - INFO - Attempt 1/3: Sending request to OpenAI API\n",
      "2025-04-06 21:20:48,534 - iris.src.llm_connectors.rbc_openai - INFO - API call parameters (excluding message content): {'model': 'gpt-4o-mini-2024-07-18', 'max_tokens': 4096, 'temperature': 0.0, 'stream': False, 'timeout': 30}\n",
      "2025-04-06 21:20:49,747 - httpx - INFO - HTTP Request: POST https://api.openai.com/v1/chat/completions \"HTTP/1.1 200 OK\"\n",
      "2025-04-06 21:20:49,751 - iris.src.llm_connectors.rbc_openai - INFO - Received response in 1.22 seconds\n",
      "2025-04-06 21:20:49,751 - iris.src.llm_connectors.rbc_openai - INFO - Token usage - Completion: 53 ($0.0000), Prompt: 2438 ($0.0000), Total: 2491 tokens, Total Cost: $0.0000\n",
      "2025-04-06 21:20:49,752 - iris.src.agents.agent_planner.planner - INFO - Query plan created with 3 queries\n",
      "2025-04-06 21:20:49,752 - root - INFO - Query plan created with 3 queries\n"
     ]
    },
    {
     "name": "stdout",
     "output_type": "stream",
     "text": [
      "---\n",
      "# 📋 Research Plan\n",
      "\n",
      "## Research Statement\n",
      "Research the Project Approval Request (PAR) process, focusing on internal RBC policy guidance and interpretations. This includes understanding the steps involved, documentation requirements, and any specific criteria that must be met according to RBC's internal policies. The research will primarily reference the Project Approval Request Guidance database.\n",
      "\n",
      "Searching the following databases: Project Approval Request Guidance, Project Approval Request Guidance, and Project Approval Request Guidance.\n",
      "\n",
      "---\n"
     ]
    },
    {
     "name": "stderr",
     "output_type": "stream",
     "text": [
      "2025-04-06 21:20:49,754 - root - INFO - Displayed simplified research plan.\n",
      "2025-04-06 21:20:49,754 - root - INFO - Starting 3 database queries concurrently...\n",
      "2025-04-06 21:20:49,755 - iris.src.chat_model.model - INFO - Thread executing query 1/3 for database: internal_par\n",
      "2025-04-06 21:20:49,756 - iris.src.chat_model.model - INFO - Thread executing query 2/3 for database: internal_par\n",
      "2025-04-06 21:20:49,756 - iris.src.chat_model.model - INFO - Thread executing query 3/3 for database: internal_par\n",
      "2025-04-06 21:20:49,756 - root - INFO - Submitted 3 queries to thread pool.\n",
      "2025-04-06 21:20:49,756 - iris.src.agents.database_subagents.database_router - INFO - Routing query (sync) to database: internal_par with scope: research\n",
      "2025-04-06 21:20:49,757 - iris.src.agents.database_subagents.database_router - INFO - Routing query (sync) to database: internal_par with scope: research\n",
      "2025-04-06 21:20:49,757 - iris.src.agents.database_subagents.database_router - INFO - Routing query (sync) to database: internal_par with scope: research\n",
      "2025-04-06 21:20:49,762 - iris.src.agents.database_subagents.internal_par.subagent - INFO - Querying Internal PAR database (sync): 'Project Approval Request process steps and documentation requirements' with scope: research\n",
      "2025-04-06 21:20:49,763 - iris.src.agents.database_subagents.internal_par.subagent - INFO - Querying Internal PAR database (sync): 'criteria for Project Approval Requests under RBC policy' with scope: research\n",
      "2025-04-06 21:20:49,763 - iris.src.agents.database_subagents.internal_par.subagent - INFO - Querying Internal PAR database (sync): 'interpretations of Project Approval Request guidelines' with scope: research\n",
      "2025-04-06 21:20:49,763 - iris.src.agents.database_subagents.internal_par.subagent - INFO - Fetching full PAR catalog (environment: local)\n",
      "2025-04-06 21:20:49,763 - iris.src.agents.database_subagents.internal_par.subagent - INFO - Fetching full PAR catalog (environment: local)\n",
      "2025-04-06 21:20:49,764 - iris.src.agents.database_subagents.internal_par.subagent - INFO - Fetching full PAR catalog (environment: local)\n",
      "2025-04-06 21:20:49,781 - iris.src.agents.database_subagents.internal_par.subagent - INFO - Retrieved 3 PAR catalog entries from database\n",
      "2025-04-06 21:20:49,781 - iris.src.agents.database_subagents.internal_par.subagent - INFO - Retrieved 3 PAR catalog entries from database\n",
      "2025-04-06 21:20:49,782 - iris.src.agents.database_subagents.internal_par.subagent - INFO - Retrieved 3 total PAR catalog entries\n",
      "2025-04-06 21:20:49,782 - iris.src.agents.database_subagents.internal_par.subagent - INFO - Retrieved 3 total PAR catalog entries\n",
      "2025-04-06 21:20:49,783 - iris.src.agents.database_subagents.internal_par.subagent - INFO - Selecting relevant PAR documents from catalog\n",
      "2025-04-06 21:20:49,783 - iris.src.agents.database_subagents.internal_par.subagent - INFO - Selecting relevant PAR documents from catalog\n",
      "2025-04-06 21:20:49,783 - iris.src.agents.database_subagents.internal_par.subagent - INFO - Initiating PAR Document Selection API call (DB: internal_par)\n",
      "2025-04-06 21:20:49,784 - iris.src.agents.database_subagents.internal_par.subagent - INFO - Initiating PAR Document Selection API call (DB: internal_par)\n",
      "2025-04-06 21:20:49,784 - iris.src.chat_model.model_settings - INFO - Using small model: gpt-4o-mini-2024-07-18 in local environment\n",
      "2025-04-06 21:20:49,784 - iris.src.chat_model.model_settings - INFO - Using small model: gpt-4o-mini-2024-07-18 in local environment\n",
      "2025-04-06 21:20:49,785 - iris.src.agents.database_subagents.internal_par.subagent - INFO - Retrieved 3 PAR catalog entries from database\n",
      "2025-04-06 21:20:49,787 - iris.src.agents.database_subagents.internal_par.subagent - INFO - Retrieved 3 total PAR catalog entries\n",
      "2025-04-06 21:20:49,787 - iris.src.agents.database_subagents.internal_par.subagent - INFO - Selecting relevant PAR documents from catalog\n",
      "2025-04-06 21:20:49,787 - iris.src.agents.database_subagents.internal_par.subagent - INFO - Initiating PAR Document Selection API call (DB: internal_par)\n",
      "2025-04-06 21:20:49,787 - iris.src.chat_model.model_settings - INFO - Using small model: gpt-4o-mini-2024-07-18 in local environment\n",
      "2025-04-06 21:20:49,794 - iris.src.llm_connectors.rbc_openai - INFO - Using API key: sk-proj...\n",
      "2025-04-06 21:20:49,795 - iris.src.llm_connectors.rbc_openai - INFO - Using API key: sk-proj...\n",
      "2025-04-06 21:20:49,795 - iris.src.llm_connectors.rbc_openai - INFO - Using API base URL: https://api.openai.com/v1\n",
      "2025-04-06 21:20:49,795 - iris.src.llm_connectors.rbc_openai - INFO - Using API base URL: https://api.openai.com/v1\n",
      "2025-04-06 21:20:49,796 - iris.src.llm_connectors.rbc_openai - INFO - Making non-streaming call to model: gpt-4o-mini-2024-07-18 in local environment\n",
      "2025-04-06 21:20:49,796 - iris.src.llm_connectors.rbc_openai - INFO - Making non-streaming call to model: gpt-4o-mini-2024-07-18 in local environment\n",
      "2025-04-06 21:20:49,796 - iris.src.llm_connectors.rbc_openai - INFO - Using API key: sk-proj...\n",
      "2025-04-06 21:20:49,797 - iris.src.llm_connectors.rbc_openai - INFO - Attempt 1/3: Sending request to OpenAI API\n",
      "2025-04-06 21:20:49,797 - iris.src.llm_connectors.rbc_openai - INFO - Attempt 1/3: Sending request to OpenAI API\n",
      "2025-04-06 21:20:49,797 - iris.src.llm_connectors.rbc_openai - INFO - Using API base URL: https://api.openai.com/v1\n",
      "2025-04-06 21:20:49,798 - iris.src.llm_connectors.rbc_openai - INFO - API call parameters (excluding message content): {'model': 'gpt-4o-mini-2024-07-18', 'max_tokens': 200, 'temperature': 0.7, 'stream': False, 'timeout': 30}\n",
      "2025-04-06 21:20:49,798 - iris.src.llm_connectors.rbc_openai - INFO - API call parameters (excluding message content): {'model': 'gpt-4o-mini-2024-07-18', 'max_tokens': 200, 'temperature': 0.7, 'stream': False, 'timeout': 30}\n",
      "2025-04-06 21:20:49,798 - iris.src.llm_connectors.rbc_openai - INFO - Making non-streaming call to model: gpt-4o-mini-2024-07-18 in local environment\n",
      "2025-04-06 21:20:49,804 - iris.src.llm_connectors.rbc_openai - INFO - Attempt 1/3: Sending request to OpenAI API\n",
      "2025-04-06 21:20:49,805 - iris.src.llm_connectors.rbc_openai - INFO - API call parameters (excluding message content): {'model': 'gpt-4o-mini-2024-07-18', 'max_tokens': 200, 'temperature': 0.7, 'stream': False, 'timeout': 30}\n",
      "2025-04-06 21:20:50,318 - httpx - INFO - HTTP Request: POST https://api.openai.com/v1/chat/completions \"HTTP/1.1 200 OK\"\n",
      "2025-04-06 21:20:50,321 - httpx - INFO - HTTP Request: POST https://api.openai.com/v1/chat/completions \"HTTP/1.1 200 OK\"\n",
      "2025-04-06 21:20:50,323 - iris.src.llm_connectors.rbc_openai - INFO - Received response in 0.52 seconds\n",
      "2025-04-06 21:20:50,325 - iris.src.llm_connectors.rbc_openai - INFO - Token usage - Completion: 7 ($0.0000), Prompt: 360 ($0.0000), Total: 367 tokens, Total Cost: $0.0000 (Database: internal_par)\n",
      "2025-04-06 21:20:50,325 - iris.src.llm_connectors.rbc_openai - INFO - Received response in 0.53 seconds\n",
      "2025-04-06 21:20:50,326 - iris.src.agents.database_subagents.internal_par.subagent - INFO - LLM selected PAR document IDs: ['4', '6']\n",
      "2025-04-06 21:20:50,327 - iris.src.agents.database_subagents.internal_par.subagent - INFO - LLM selected 2 relevant PAR document IDs: ['4', '6']\n",
      "2025-04-06 21:20:50,326 - iris.src.llm_connectors.rbc_openai - INFO - Token usage - Completion: 7 ($0.0000), Prompt: 360 ($0.0000), Total: 367 tokens, Total Cost: $0.0000 (Database: internal_par)\n",
      "2025-04-06 21:20:50,328 - iris.src.agents.database_subagents.internal_par.subagent - INFO - Fetching PAR content for documents: ['4', '6']\n",
      "2025-04-06 21:20:50,328 - iris.src.agents.database_subagents.internal_par.subagent - INFO - LLM selected PAR document IDs: ['5', '4']\n",
      "2025-04-06 21:20:50,330 - iris.src.agents.database_subagents.internal_par.subagent - INFO - LLM selected 2 relevant PAR document IDs: ['5', '4']\n",
      "2025-04-06 21:20:50,330 - iris.src.agents.database_subagents.internal_par.subagent - INFO - Fetching PAR content for documents: ['5', '4']\n",
      "2025-04-06 21:20:50,339 - iris.src.agents.database_subagents.internal_par.subagent - INFO - Found 2 PAR documents for IDs: ['5', '4']\n",
      "2025-04-06 21:20:50,339 - iris.src.agents.database_subagents.internal_par.subagent - INFO - Found 2 PAR documents for IDs: ['4', '6']\n",
      "2025-04-06 21:20:50,340 - iris.src.agents.database_subagents.internal_par.subagent - INFO - Retrieved PAR content for 2 documents from database\n",
      "2025-04-06 21:20:50,341 - iris.src.agents.database_subagents.internal_par.subagent - INFO - Retrieved PAR content for 2 documents from database\n",
      "2025-04-06 21:20:50,341 - iris.src.agents.database_subagents.internal_par.subagent - INFO - Retrieved content for 2 PAR documents for research.\n",
      "2025-04-06 21:20:50,342 - iris.src.agents.database_subagents.internal_par.subagent - INFO - Retrieved content for 2 PAR documents for research.\n",
      "2025-04-06 21:20:50,344 - iris.src.agents.database_subagents.internal_par.subagent - INFO - Synthesizing response and status for internal_par using tool call.\n",
      "2025-04-06 21:20:50,344 - iris.src.agents.database_subagents.internal_par.subagent - INFO - Synthesizing response and status for internal_par using tool call.\n",
      "2025-04-06 21:20:50,345 - iris.src.agents.database_subagents.internal_par.subagent - INFO - Initiating PAR Synthesis API call (DB: internal_par)\n",
      "2025-04-06 21:20:50,345 - iris.src.agents.database_subagents.internal_par.subagent - INFO - Initiating PAR Synthesis API call (DB: internal_par)\n",
      "2025-04-06 21:20:50,346 - iris.src.chat_model.model_settings - INFO - Using large model: gpt-4o-2024-08-06 in local environment\n",
      "2025-04-06 21:20:50,346 - iris.src.chat_model.model_settings - INFO - Using large model: gpt-4o-2024-08-06 in local environment\n",
      "2025-04-06 21:20:50,346 - iris.src.agents.database_subagents.internal_par.subagent - INFO - Forcing non-streaming mode for tool call.\n",
      "2025-04-06 21:20:50,347 - iris.src.agents.database_subagents.internal_par.subagent - INFO - Forcing non-streaming mode for tool call.\n",
      "2025-04-06 21:20:50,355 - iris.src.llm_connectors.rbc_openai - INFO - Using API key: sk-proj...\n",
      "2025-04-06 21:20:50,355 - iris.src.llm_connectors.rbc_openai - INFO - Using API key: sk-proj...\n",
      "2025-04-06 21:20:50,356 - iris.src.llm_connectors.rbc_openai - INFO - Using API base URL: https://api.openai.com/v1\n",
      "2025-04-06 21:20:50,356 - iris.src.llm_connectors.rbc_openai - INFO - Using API base URL: https://api.openai.com/v1\n",
      "2025-04-06 21:20:50,357 - iris.src.llm_connectors.rbc_openai - INFO - Making non-streaming call to model: gpt-4o-2024-08-06 with tools in local environment\n",
      "2025-04-06 21:20:50,357 - iris.src.llm_connectors.rbc_openai - INFO - Making non-streaming call to model: gpt-4o-2024-08-06 with tools in local environment\n",
      "2025-04-06 21:20:50,357 - iris.src.llm_connectors.rbc_openai - INFO - Attempt 1/3: Sending request to OpenAI API\n",
      "2025-04-06 21:20:50,358 - iris.src.llm_connectors.rbc_openai - INFO - Attempt 1/3: Sending request to OpenAI API\n",
      "2025-04-06 21:20:50,358 - iris.src.llm_connectors.rbc_openai - INFO - API call parameters (excluding message content): {'model': 'gpt-4o-2024-08-06', 'max_tokens': 2500, 'temperature': 0.2, 'stream': False, 'timeout': 30}\n",
      "2025-04-06 21:20:50,359 - iris.src.llm_connectors.rbc_openai - INFO - API call parameters (excluding message content): {'model': 'gpt-4o-2024-08-06', 'max_tokens': 2500, 'temperature': 0.2, 'stream': False, 'timeout': 30}\n",
      "2025-04-06 21:20:50,363 - httpx - INFO - HTTP Request: POST https://api.openai.com/v1/chat/completions \"HTTP/1.1 200 OK\"\n",
      "2025-04-06 21:20:50,368 - iris.src.llm_connectors.rbc_openai - INFO - Received response in 0.57 seconds\n",
      "2025-04-06 21:20:50,369 - iris.src.llm_connectors.rbc_openai - INFO - Token usage - Completion: 7 ($0.0000), Prompt: 359 ($0.0000), Total: 366 tokens, Total Cost: $0.0000 (Database: internal_par)\n",
      "2025-04-06 21:20:50,369 - iris.src.agents.database_subagents.internal_par.subagent - INFO - LLM selected PAR document IDs: ['4', '6']\n",
      "2025-04-06 21:20:50,369 - iris.src.agents.database_subagents.internal_par.subagent - INFO - LLM selected 2 relevant PAR document IDs: ['4', '6']\n",
      "2025-04-06 21:20:50,369 - iris.src.agents.database_subagents.internal_par.subagent - INFO - Fetching PAR content for documents: ['4', '6']\n",
      "2025-04-06 21:20:50,376 - iris.src.agents.database_subagents.internal_par.subagent - INFO - Found 2 PAR documents for IDs: ['4', '6']\n",
      "2025-04-06 21:20:50,378 - iris.src.agents.database_subagents.internal_par.subagent - INFO - Retrieved PAR content for 2 documents from database\n",
      "2025-04-06 21:20:50,378 - iris.src.agents.database_subagents.internal_par.subagent - INFO - Retrieved content for 2 PAR documents for research.\n",
      "2025-04-06 21:20:50,378 - iris.src.agents.database_subagents.internal_par.subagent - INFO - Synthesizing response and status for internal_par using tool call.\n",
      "2025-04-06 21:20:50,378 - iris.src.agents.database_subagents.internal_par.subagent - INFO - Initiating PAR Synthesis API call (DB: internal_par)\n",
      "2025-04-06 21:20:50,379 - iris.src.chat_model.model_settings - INFO - Using large model: gpt-4o-2024-08-06 in local environment\n",
      "2025-04-06 21:20:50,379 - iris.src.agents.database_subagents.internal_par.subagent - INFO - Forcing non-streaming mode for tool call.\n",
      "2025-04-06 21:20:50,385 - iris.src.llm_connectors.rbc_openai - INFO - Using API key: sk-proj...\n",
      "2025-04-06 21:20:50,386 - iris.src.llm_connectors.rbc_openai - INFO - Using API base URL: https://api.openai.com/v1\n",
      "2025-04-06 21:20:50,386 - iris.src.llm_connectors.rbc_openai - INFO - Making non-streaming call to model: gpt-4o-2024-08-06 with tools in local environment\n",
      "2025-04-06 21:20:50,386 - iris.src.llm_connectors.rbc_openai - INFO - Attempt 1/3: Sending request to OpenAI API\n",
      "2025-04-06 21:20:50,386 - iris.src.llm_connectors.rbc_openai - INFO - API call parameters (excluding message content): {'model': 'gpt-4o-2024-08-06', 'max_tokens': 2500, 'temperature': 0.2, 'stream': False, 'timeout': 30}\n",
      "2025-04-06 21:20:56,499 - httpx - INFO - HTTP Request: POST https://api.openai.com/v1/chat/completions \"HTTP/1.1 200 OK\"\n",
      "2025-04-06 21:20:56,502 - iris.src.llm_connectors.rbc_openai - INFO - Received response in 6.12 seconds\n",
      "2025-04-06 21:20:56,503 - iris.src.llm_connectors.rbc_openai - INFO - Token usage - Completion: 481 ($0.0000), Prompt: 1235 ($0.0000), Total: 1716 tokens, Total Cost: $0.0000 (Database: internal_par)\n",
      "2025-04-06 21:20:56,504 - iris.src.agents.database_subagents.internal_par.subagent - INFO - Successfully parsed synthesis tool call for internal_par.\n",
      "2025-04-06 21:20:56,505 - iris.src.chat_model.model - INFO - Thread completed query for database: internal_par in 6.75s\n"
     ]
    },
    {
     "name": "stdout",
     "output_type": "stream",
     "text": [
      "\n",
      "\n",
      "---\n",
      "**Database:** Project Approval Request Guidance\n",
      "**Query:** `interpretations of Project Approval Request guidelines`\n",
      "**Status:** ℹ️ Found related contextual information, but not a direct answer.\n",
      "---"
     ]
    },
    {
     "name": "stderr",
     "output_type": "stream",
     "text": [
      "2025-04-06 21:20:57,421 - httpx - INFO - HTTP Request: POST https://api.openai.com/v1/chat/completions \"HTTP/1.1 200 OK\"\n",
      "2025-04-06 21:20:57,424 - iris.src.llm_connectors.rbc_openai - INFO - Received response in 7.07 seconds\n",
      "2025-04-06 21:20:57,425 - iris.src.llm_connectors.rbc_openai - INFO - Token usage - Completion: 654 ($0.0000), Prompt: 1236 ($0.0000), Total: 1890 tokens, Total Cost: $0.0000 (Database: internal_par)\n",
      "2025-04-06 21:20:57,426 - iris.src.agents.database_subagents.internal_par.subagent - INFO - Successfully parsed synthesis tool call for internal_par.\n",
      "2025-04-06 21:20:57,426 - iris.src.chat_model.model - INFO - Thread completed query for database: internal_par in 7.67s\n"
     ]
    },
    {
     "name": "stdout",
     "output_type": "stream",
     "text": [
      "\n",
      "\n",
      "---\n",
      "**Database:** Project Approval Request Guidance\n",
      "**Query:** `Project Approval Request process steps and documentation requirements`\n",
      "**Status:** ✅ Found information directly addressing the query.\n",
      "---"
     ]
    },
    {
     "name": "stderr",
     "output_type": "stream",
     "text": [
      "2025-04-06 21:20:57,452 - httpx - INFO - HTTP Request: POST https://api.openai.com/v1/chat/completions \"HTTP/1.1 200 OK\"\n",
      "2025-04-06 21:20:57,466 - iris.src.llm_connectors.rbc_openai - INFO - Received response in 7.11 seconds\n",
      "2025-04-06 21:20:57,467 - iris.src.llm_connectors.rbc_openai - INFO - Token usage - Completion: 561 ($0.0000), Prompt: 1187 ($0.0000), Total: 1748 tokens, Total Cost: $0.0000 (Database: internal_par)\n",
      "2025-04-06 21:20:57,468 - iris.src.agents.database_subagents.internal_par.subagent - INFO - Successfully parsed synthesis tool call for internal_par.\n",
      "2025-04-06 21:20:57,468 - iris.src.chat_model.model - INFO - Thread completed query for database: internal_par in 7.71s\n"
     ]
    },
    {
     "name": "stdout",
     "output_type": "stream",
     "text": [
      "\n",
      "\n",
      "---\n",
      "**Database:** Project Approval Request Guidance\n",
      "**Query:** `criteria for Project Approval Requests under RBC policy`\n",
      "**Status:** ✅ Found information directly addressing the query.\n",
      "---"
     ]
    },
    {
     "name": "stderr",
     "output_type": "stream",
     "text": [
      "2025-04-06 21:20:57,471 - root - INFO - All concurrent database queries completed processing.\n"
     ]
    },
    {
     "name": "stdout",
     "output_type": "stream",
     "text": [
      "\n",
      "\n",
      "## 📊 Research Summary\n"
     ]
    },
    {
     "name": "stderr",
     "output_type": "stream",
     "text": [
      "2025-04-06 21:20:57,472 - root - INFO - Calling generate_streaming_summary (assuming sync generator)\n",
      "2025-04-06 21:20:57,473 - iris.src.agents.agent_summarizer.summarizer - INFO - Generating final summary for scope: research\n",
      "2025-04-06 21:20:57,473 - iris.src.chat_model.model_settings - INFO - Using large model: gpt-4o-2024-08-06 in local environment\n",
      "2025-04-06 21:20:57,474 - iris.src.agents.agent_summarizer.summarizer - INFO - Generating streaming research summary using model: gpt-4o-2024-08-06\n",
      "2025-04-06 21:20:57,475 - iris.src.agents.agent_summarizer.summarizer - INFO - Summarizing detailed research from 1 databases.\n",
      "2025-04-06 21:20:57,475 - iris.src.agents.agent_summarizer.summarizer - INFO - Initiating Summarizer stream API call\n",
      "2025-04-06 21:20:57,486 - iris.src.llm_connectors.rbc_openai - INFO - Using API key: sk-proj...\n",
      "2025-04-06 21:20:57,487 - iris.src.llm_connectors.rbc_openai - INFO - Using API base URL: https://api.openai.com/v1\n",
      "2025-04-06 21:20:57,487 - iris.src.llm_connectors.rbc_openai - INFO - Making streaming call to model: gpt-4o-2024-08-06 in local environment\n",
      "2025-04-06 21:20:57,488 - iris.src.llm_connectors.rbc_openai - INFO - Attempt 1/3: Sending request to OpenAI API\n",
      "2025-04-06 21:20:57,488 - iris.src.llm_connectors.rbc_openai - INFO - API call parameters (excluding message content): {'model': 'gpt-4o-2024-08-06', 'max_tokens': 4096, 'temperature': 0.1, 'stream': True, 'timeout': 30, 'stream_options': {'include_usage': True}}\n",
      "2025-04-06 21:20:58,239 - httpx - INFO - HTTP Request: POST https://api.openai.com/v1/chat/completions \"HTTP/1.1 200 OK\"\n",
      "2025-04-06 21:20:58,240 - iris.src.llm_connectors.rbc_openai - INFO - Received initial stream chunk in 0.75 seconds\n"
     ]
    },
    {
     "name": "stdout",
     "output_type": "stream",
     "text": [
      "## Key Findings\n",
      "\n",
      "The research focused on the Project Approval Request (PAR) process within RBC, detailing the procedural steps, financial thresholds, and documentation requirements necessary for project approval. The findings are primarily drawn from the Project Approval Request Guidance database, which outlines the structured approach RBC employs to ensure projects align with corporate strategy and financial governance.\n",
      "\n",
      "### PAR Process Overview\n",
      "\n",
      "The PAR process is a multi-stage procedure designed to evaluate and approve projects based on their strategic alignment and financial viability. The process begins with the **Initial Proposal**, where a high-level project concept is developed. This includes defining the scope, objectives, business case, cost estimates, timeline, and conducting a preliminary risk assessment. This stage sets the foundation for further detailed analysis and is crucial for determining the project's potential impact and alignment with RBC's strategic goals.\n",
      "\n",
      "Following the initial proposal, the **Detailed PAR Development** phase involves creating a comprehensive business case. This includes a thorough financial analysis, detailed project planning, resource allocation, risk mitigation strategies, and technical feasibility evaluations. This stage ensures that all aspects of the project are meticulously planned and assessed for potential risks and benefits.\n",
      "\n",
      "The **Review and Recommendation** stage involves a multi-faceted evaluation by various departments, including business unit reviews, finance department validation, risk and compliance assessments, and technology reviews if applicable. This collaborative approach ensures that all relevant stakeholders have input into the project's viability and alignment with RBC's standards.\n",
      "\n",
      "The **Final Approval** stage requires submission to the appropriate authority based on financial thresholds. This involves presenting the project to an approval committee, which makes the final decision on whether to proceed. The decision-making process is rigorous, ensuring that only projects meeting all criteria are approved.\n",
      "\n",
      "Finally, the **Post-Approval** phase involves the release of funding, regular status reporting, change management, and a post-implementation review to assess the project's success and areas for improvement.\n",
      "\n",
      "### Financial Approval Thresholds\n",
      "\n",
      "The financial approval thresholds are a critical component of the PAR process, determining the level of authority required for project approval. These thresholds are based on the total project value:\n",
      "\n",
      "- Projects under $100,000 require approval from the Business Unit Leader and a simplified PAR form.\n",
      "- Projects between $100,000 and $500,000 require approval from the Group Head/EVP and a standard PAR package.\n",
      "- Projects between $500,000 and $2,000,000 require approval from the Senior EVP/CFO/CRO and an enhanced PAR package.\n",
      "- Projects between $2,000,000 and $5,000,000 require approval from the Executive Committee, along with a full PAR package and presentation.\n",
      "- Projects exceeding $5,000,000 require Board of Directors approval, a full PAR package, and a board presentation.\n",
      "\n",
      "Multi-year projects are evaluated based on their total value, and technology projects have additional review requirements to ensure compliance with RBC's technological standards.\n",
      "\n",
      "## Conclusion\n",
      "\n",
      "The Project Approval Request process at RBC is a comprehensive framework designed to ensure that projects are strategically aligned and financially sound. The multi-stage process, combined with clearly defined financial thresholds, ensures that all projects undergo rigorous evaluation before approval. This structured approach helps RBC maintain its strategic objectives while managing financial risks effectively. The detailed guidance provided by the Project Approval Request Guidance database is instrumental in navigating this complex process, ensuring that all stakeholders are aligned and informed throughout the project lifecycle."
     ]
    },
    {
     "name": "stderr",
     "output_type": "stream",
     "text": [
      "2025-04-06 21:21:08,926 - iris.src.llm_connectors.rbc_openai - INFO - Stream finished. Logging usage from final chunk.\n",
      "2025-04-06 21:21:08,927 - iris.src.llm_connectors.rbc_openai - INFO - Token usage - Completion: 669 ($0.0000), Prompt: 3249 ($0.0000), Total: 3918 tokens, Total Cost: $0.0001\n"
     ]
    },
    {
     "name": "stdout",
     "output_type": "stream",
     "text": [
      "\n",
      "\n",
      "---\n",
      "Completed processing 3 database queries for scope 'research'.\n"
     ]
    },
    {
     "name": "stderr",
     "output_type": "stream",
     "text": [
      "2025-04-06 21:21:08,928 - root - INFO - Completed process for scope 'research'\n"
     ]
    },
    {
     "name": "stdout",
     "output_type": "stream",
     "text": [
      "\n",
      "\n",
      "---\n",
      "## Agent Usage Statistics\n",
      "\n",
      "- Overall Input tokens: 7986\n",
      "- Overall Output tokens: 2386\n",
      "- Overall Total tokens: 10372\n",
      "- Overall Cost: $0.000142\n"
     ]
    }
   ],
   "source": [
    "# Call the model function with our conversation\n",
    "result_generator = model(conversation)\n",
    "\n",
    "# Stream the response chunks directly\n",
    "for chunk in result_generator:\n",
    "    print(chunk, end=\"\", flush=True)"
   ]
  },
  {
   "cell_type": "code",
   "execution_count": null,
   "id": "23b8191d-2940-454c-8f77-2768a015a9d4",
   "metadata": {},
   "outputs": [],
   "source": []
  }
 ],
 "metadata": {
  "kernelspec": {
   "display_name": "Python 3 (ipykernel)",
   "language": "python",
   "name": "python3"
  },
  "language_info": {
   "codemirror_mode": {
    "name": "ipython",
    "version": 3
   },
   "file_extension": ".py",
   "mimetype": "text/x-python",
   "name": "python",
   "nbconvert_exporter": "python",
   "pygments_lexer": "ipython3",
   "version": "3.13.2"
  }
 },
 "nbformat": 4,
 "nbformat_minor": 5
}
