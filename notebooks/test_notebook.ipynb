{
 "cells": [
  {
   "cell_type": "code",
   "execution_count": 1,
   "id": "1169096d",
   "metadata": {},
   "outputs": [
    {
     "name": "stderr",
     "output_type": "stream",
     "text": [
      "INFO:iris.src.chat_model.model_settings:Using environment: local\n",
      "INFO:iris.src.chat_model.model_settings:Using API base URL: https://api.openai.com/v1\n"
     ]
    }
   ],
   "source": [
    "# This enables auto-reloading of modules\n",
    "%load_ext autoreload\n",
    "%autoreload 2\n",
    "\n",
    "# Import the model\n",
    "from iris.src.chat_model.model import model"
   ]
  },
  {
   "cell_type": "code",
   "execution_count": 2,
   "id": "f8e42f72-04cf-4a2c-88cf-c774934d1167",
   "metadata": {},
   "outputs": [],
   "source": [
    "# Define conversation for testing\n",
    "conversation = {\n",
    "    \"messages\": [\n",
    "        {\"role\": \"system\", \"content\": \"You are a helpful assistant specialized in accounting.\"},\n",
    "        {\"role\": \"user\", \"content\": \"What is the definition of a business combination under IFRS, search internal CAPM only\"}\n",
    "    ]\n",
    "}\n",
    "\n",
    "# You can modify the conversation above to test different scenarios"
   ]
  },
  {
   "cell_type": "code",
   "execution_count": 3,
   "id": "8fa7cccd",
   "metadata": {},
   "outputs": [
    {
     "name": "stderr",
     "output_type": "stream",
     "text": [
      "INFO:iris.src.chat_model.model_settings:Using small model: gpt-4o-mini-2024-07-18 in local environment\n",
      "INFO:iris.src.chat_model.model_settings:Using large model: gpt-4o-2024-08-06 in local environment\n",
      "INFO:iris.src.chat_model.model_settings:Using small model: gpt-4o-mini-2024-07-18 in local environment\n",
      "INFO:iris.src.chat_model.model_settings:Using small model: gpt-4o-mini-2024-07-18 in local environment\n",
      "INFO:iris.src.chat_model.model_settings:Using small model: gpt-4o-mini-2024-07-18 in local environment\n",
      "2025-04-02 16:39:28,516 - root - INFO - Logging system initialized\n",
      "2025-04-02 16:39:28,516 - root - INFO - Initializing model setup...\n",
      "2025-04-02 16:39:28,516 - iris.src.initial_setup.ssl.ssl - INFO - SSL certificate setup skipped in local environment\n",
      "2025-04-02 16:39:28,516 - iris.src.initial_setup.oauth.oauth - INFO - Using API key authentication from local settings\n",
      "2025-04-02 16:39:28,516 - iris.src.initial_setup.oauth.oauth - INFO - Using OpenAI API key from settings: sk-proj...\n",
      "2025-04-02 16:39:28,516 - root - INFO - Processing input conversation...\n",
      "2025-04-02 16:39:28,517 - iris.src.conversation_setup.conversation - INFO - Processed conversation: 2 messages filtered to 1 messages\n",
      "2025-04-02 16:39:28,517 - root - INFO - Conversation processed: 1 messages\n",
      "2025-04-02 16:39:28,517 - root - INFO - Getting routing decision...\n",
      "2025-04-02 16:39:28,517 - iris.src.agents.agent_router.router - INFO - Getting routing decision using model: gpt-4o-mini-2024-07-18\n",
      "2025-04-02 16:39:28,533 - iris.src.llm_connectors.rbc_openai - INFO - Using API key: sk-proj...\n",
      "2025-04-02 16:39:28,533 - iris.src.llm_connectors.rbc_openai - INFO - Using API base URL: https://api.openai.com/v1\n",
      "2025-04-02 16:39:28,533 - iris.src.llm_connectors.rbc_openai - INFO - Making non-streaming call to model: gpt-4o-mini-2024-07-18 with tools in local environment\n",
      "2025-04-02 16:39:28,533 - iris.src.llm_connectors.rbc_openai - INFO - Attempt 1/3: Sending request to OpenAI API\n",
      "2025-04-02 16:39:28,534 - iris.src.llm_connectors.rbc_openai - INFO - API call parameters (excluding message content): {'model': 'gpt-4o-mini-2024-07-18', 'max_tokens': 4096, 'temperature': 0.0, 'stream': False, 'timeout': 30}\n",
      "2025-04-02 16:39:29,561 - httpx - INFO - HTTP Request: POST https://api.openai.com/v1/chat/completions \"HTTP/1.1 200 OK\"\n",
      "2025-04-02 16:39:29,569 - iris.src.llm_connectors.rbc_openai - INFO - Received response in 1.04 seconds\n",
      "2025-04-02 16:39:29,570 - iris.src.llm_connectors.rbc_openai - INFO - Token usage - Completion: 9 ($0.0000), Prompt: 2195 ($0.0000), Total: 2204 tokens, Total Cost: $0.0000\n",
      "2025-04-02 16:39:29,571 - iris.src.agents.agent_router.router - INFO - Routing decision: research_from_database\n",
      "2025-04-02 16:39:29,571 - root - INFO - Using research path based on routing decision\n",
      "2025-04-02 16:39:29,572 - root - INFO - Clarifying research needs...\n",
      "2025-04-02 16:39:29,572 - iris.src.agents.agent_clarifier.clarifier - INFO - Clarifying research needs using model: gpt-4o-mini-2024-07-18\n",
      "2025-04-02 16:39:29,583 - iris.src.llm_connectors.rbc_openai - INFO - Using API key: sk-proj...\n",
      "2025-04-02 16:39:29,584 - iris.src.llm_connectors.rbc_openai - INFO - Using API base URL: https://api.openai.com/v1\n",
      "2025-04-02 16:39:29,584 - iris.src.llm_connectors.rbc_openai - INFO - Making non-streaming call to model: gpt-4o-mini-2024-07-18 with tools in local environment\n",
      "2025-04-02 16:39:29,585 - iris.src.llm_connectors.rbc_openai - INFO - Attempt 1/3: Sending request to OpenAI API\n",
      "2025-04-02 16:39:29,585 - iris.src.llm_connectors.rbc_openai - INFO - API call parameters (excluding message content): {'model': 'gpt-4o-mini-2024-07-18', 'max_tokens': 4096, 'temperature': 0.0, 'stream': False, 'timeout': 30}\n",
      "2025-04-02 16:39:30,791 - httpx - INFO - HTTP Request: POST https://api.openai.com/v1/chat/completions \"HTTP/1.1 200 OK\"\n",
      "2025-04-02 16:39:30,794 - iris.src.llm_connectors.rbc_openai - INFO - Received response in 1.21 seconds\n",
      "2025-04-02 16:39:30,795 - iris.src.llm_connectors.rbc_openai - INFO - Token usage - Completion: 41 ($0.0000), Prompt: 2742 ($0.0000), Total: 2783 tokens, Total Cost: $0.0000\n",
      "2025-04-02 16:39:30,796 - iris.src.agents.agent_clarifier.clarifier - INFO - Clarifier decision: create_research_statement\n",
      "2025-04-02 16:39:30,796 - iris.src.agents.agent_clarifier.clarifier - INFO - Is continuation: False\n",
      "2025-04-02 16:39:30,797 - root - INFO - Creating research statement, proceeding with research\n",
      "2025-04-02 16:39:30,797 - root - INFO - Creating database query plan...\n",
      "2025-04-02 16:39:30,798 - iris.src.agents.agent_planner.planner - INFO - Creating query plan using model: gpt-4o-mini-2024-07-18\n",
      "2025-04-02 16:39:30,798 - iris.src.agents.agent_planner.planner - INFO - Is continuation: False\n",
      "2025-04-02 16:39:30,811 - iris.src.llm_connectors.rbc_openai - INFO - Using API key: sk-proj...\n",
      "2025-04-02 16:39:30,811 - iris.src.llm_connectors.rbc_openai - INFO - Using API base URL: https://api.openai.com/v1\n",
      "2025-04-02 16:39:30,812 - iris.src.llm_connectors.rbc_openai - INFO - Making non-streaming call to model: gpt-4o-mini-2024-07-18 with tools in local environment\n",
      "2025-04-02 16:39:30,812 - iris.src.llm_connectors.rbc_openai - INFO - Attempt 1/3: Sending request to OpenAI API\n",
      "2025-04-02 16:39:30,812 - iris.src.llm_connectors.rbc_openai - INFO - API call parameters (excluding message content): {'model': 'gpt-4o-mini-2024-07-18', 'max_tokens': 4096, 'temperature': 0.0, 'stream': False, 'timeout': 30}\n",
      "2025-04-02 16:39:32,632 - httpx - INFO - HTTP Request: POST https://api.openai.com/v1/chat/completions \"HTTP/1.1 200 OK\"\n",
      "2025-04-02 16:39:32,635 - iris.src.llm_connectors.rbc_openai - INFO - Received response in 1.82 seconds\n",
      "2025-04-02 16:39:32,636 - iris.src.llm_connectors.rbc_openai - INFO - Token usage - Completion: 85 ($0.0000), Prompt: 2920 ($0.0000), Total: 3005 tokens, Total Cost: $0.0000\n",
      "2025-04-02 16:39:32,636 - iris.src.agents.agent_planner.planner - INFO - Query plan created with 2 queries\n",
      "2025-04-02 16:39:32,637 - root - INFO - Query plan created with 2 queries\n"
     ]
    },
    {
     "name": "stdout",
     "output_type": "stream",
     "text": [
      "---\n",
      "# 📋 Research Plan\n",
      "\n",
      "## Research Statement\n",
      "Research the definition of a business combination under IFRS as outlined in the Central Accounting Policy Manual (CAPM).\n",
      "\n",
      "## Database Queries\n",
      "1. Central Accounting Policy Manual: definition of business combination\n",
      "2. IASB Publications: IFRS 3 business combination definition\n",
      "---\n",
      "\n",
      "\n",
      "## 🔍 Query 1: Central Accounting Policy Manual - definition of business combination\n",
      "\n"
     ]
    },
    {
     "name": "stderr",
     "output_type": "stream",
     "text": [
      "2025-04-02 16:39:32,639 - iris.src.agents.database_subagents.database_router - INFO - Routing query to database: internal_capm\n",
      "2025-04-02 16:39:32,643 - iris.src.agents.database_subagents.internal_capm.subagent - INFO - Querying CAPM database: definition of business combination\n",
      "2025-04-02 16:39:33,148 - iris.src.agents.database_subagents.internal_capm.subagent - INFO - CAPM database query completed\n"
     ]
    },
    {
     "name": "stdout",
     "output_type": "stream",
     "text": [
      "\n",
      "    CENTRAL ACCOUNTING POLICY MANUAL RESULTS\n",
      "    \n",
      "    Query: definition of business combination\n",
      "    \n",
      "    The following policy guidelines were found:\n",
      "    \n",
      "    1. Policy Section PR-23.4: Accounting for Financial Instruments\n",
      "       - Classification and measurement requirements\n",
      "       - Recognition criteria for derivatives and embedded derivatives\n",
      "       - De-recognition principles for financial assets and liabilities\n",
      "    \n",
      "    2. Policy Section PR-14.7: Revenue Recognition Standards\n",
      "       - Five-step revenue recognition model\n",
      "       - Contract identification and modification guidance\n",
      "       - Performance obligation identification and fulfillment criteria\n",
      "    \n",
      "    3. Procedural Guidance PG-112: Implementation Examples\n",
      "       - Case studies for complex financial instruments\n",
      "       - Decision trees for classification challenges\n",
      "       - Documentation requirements for audit purposes\n",
      "    \n",
      "\n",
      "---"
     ]
    },
    {
     "name": "stderr",
     "output_type": "stream",
     "text": [
      "2025-04-02 16:39:33,150 - root - INFO - Completed database query 1/2: internal_capm\n",
      "2025-04-02 16:39:33,151 - iris.src.agents.agent_judge.judge - INFO - Evaluating research progress using model: gpt-4o-mini-2024-07-18\n",
      "2025-04-02 16:39:33,152 - iris.src.agents.agent_judge.judge - INFO - Completed queries: 1, Remaining queries: 1\n",
      "2025-04-02 16:39:33,166 - iris.src.llm_connectors.rbc_openai - INFO - Using API key: sk-proj...\n",
      "2025-04-02 16:39:33,167 - iris.src.llm_connectors.rbc_openai - INFO - Using API base URL: https://api.openai.com/v1\n",
      "2025-04-02 16:39:33,167 - iris.src.llm_connectors.rbc_openai - INFO - Making non-streaming call to model: gpt-4o-mini-2024-07-18 with tools in local environment\n",
      "2025-04-02 16:39:33,167 - iris.src.llm_connectors.rbc_openai - INFO - Attempt 1/3: Sending request to OpenAI API\n",
      "2025-04-02 16:39:33,168 - iris.src.llm_connectors.rbc_openai - INFO - API call parameters (excluding message content): {'model': 'gpt-4o-mini-2024-07-18', 'max_tokens': 4096, 'temperature': 0.0, 'stream': False, 'timeout': 30}\n",
      "2025-04-02 16:39:35,398 - httpx - INFO - HTTP Request: POST https://api.openai.com/v1/chat/completions \"HTTP/1.1 200 OK\"\n",
      "2025-04-02 16:39:35,401 - iris.src.llm_connectors.rbc_openai - INFO - Received response in 2.23 seconds\n",
      "2025-04-02 16:39:35,402 - iris.src.llm_connectors.rbc_openai - INFO - Token usage - Completion: 118 ($0.0000), Prompt: 3612 ($0.0000), Total: 3730 tokens, Total Cost: $0.0000\n",
      "2025-04-02 16:39:35,403 - iris.src.agents.agent_judge.judge - INFO - Research judgment: continue_research\n",
      "2025-04-02 16:39:35,403 - iris.src.agents.agent_judge.judge - INFO - Reason: The completed queries did not yield a definition of a business combination under IFRS, which is the primary focus of the research statement. The results from the internal CAPM did not address the specific inquiry about business combinations, as they pertained to financial instruments and revenue recognition instead. The remaining query targeting the IASB database is essential, as it is expected to provide the authoritative definition from IFRS 3, which is critical for a comprehensive understanding of the topic. Therefore, continuing research is necessary to obtain the relevant information....\n"
     ]
    },
    {
     "name": "stdout",
     "output_type": "stream",
     "text": [
      "\n",
      "## 🔍 Query 2: IASB Publications - IFRS 3 business combination definition\n",
      "\n"
     ]
    },
    {
     "name": "stderr",
     "output_type": "stream",
     "text": [
      "2025-04-02 16:39:35,404 - iris.src.agents.database_subagents.database_router - INFO - Routing query to database: external_iasb\n",
      "2025-04-02 16:39:35,408 - iris.src.agents.database_subagents.external_iasb.subagent - INFO - Querying database: IFRS 3 business combination definition\n",
      "2025-04-02 16:39:35,912 - iris.src.agents.database_subagents.external_iasb.subagent - INFO - Database query completed\n"
     ]
    },
    {
     "name": "stdout",
     "output_type": "stream",
     "text": [
      "\n",
      "    DATABASE RESULTS\n",
      "    \n",
      "    Query: IFRS 3 business combination definition\n",
      "    \n",
      "    [This is a placeholder response.]\n",
      "    [In a production environment, this would return actual search results.]\n",
      "    \n",
      "    The following resources would be returned:\n",
      "    - Relevant documentation matching your query criteria\n",
      "    - Implementation guidance and examples\n",
      "    - Technical references and specifications\n",
      "    \n",
      "\n",
      "---"
     ]
    },
    {
     "name": "stderr",
     "output_type": "stream",
     "text": [
      "2025-04-02 16:39:35,914 - root - INFO - Completed database query 2/2: external_iasb\n"
     ]
    },
    {
     "name": "stdout",
     "output_type": "stream",
     "text": [
      "\n",
      "## 📊 Research Summary\n"
     ]
    },
    {
     "name": "stderr",
     "output_type": "stream",
     "text": [
      "2025-04-02 16:39:35,916 - iris.src.agents.agent_judge.judge - INFO - Generating streaming research summary using model: gpt-4o-mini-2024-07-18\n",
      "2025-04-02 16:39:35,916 - iris.src.agents.agent_judge.judge - INFO - Summarizing 2 completed queries\n",
      "2025-04-02 16:39:35,928 - iris.src.llm_connectors.rbc_openai - INFO - Using API key: sk-proj...\n",
      "2025-04-02 16:39:35,928 - iris.src.llm_connectors.rbc_openai - INFO - Using API base URL: https://api.openai.com/v1\n",
      "2025-04-02 16:39:35,929 - iris.src.llm_connectors.rbc_openai - INFO - Making streaming call to model: gpt-4o-mini-2024-07-18 in local environment\n",
      "2025-04-02 16:39:35,929 - iris.src.llm_connectors.rbc_openai - INFO - Attempt 1/3: Sending request to OpenAI API\n",
      "2025-04-02 16:39:35,929 - iris.src.llm_connectors.rbc_openai - INFO - API call parameters (excluding message content): {'model': 'gpt-4o-mini-2024-07-18', 'max_tokens': 4096, 'temperature': 0.0, 'stream': True, 'timeout': 30, 'stream_options': {'include_usage': True}}\n",
      "2025-04-02 16:39:36,504 - httpx - INFO - HTTP Request: POST https://api.openai.com/v1/chat/completions \"HTTP/1.1 200 OK\"\n",
      "2025-04-02 16:39:36,506 - iris.src.llm_connectors.rbc_openai - INFO - Received response in 0.58 seconds\n"
     ]
    },
    {
     "name": "stdout",
     "output_type": "stream",
     "text": [
      "# Research Summary: Definition of a Business Combination under IFRS\n",
      "\n",
      "## Introduction\n",
      "This summary provides an overview of the research conducted on the definition of a business combination as outlined in the Central Accounting Policy Manual (CAPM) and relevant IFRS standards. The goal is to guide users to the most pertinent information while highlighting any inconsistencies or gaps in the data retrieved.\n",
      "\n",
      "## Research Process Overview\n",
      "The research involved querying two primary databases: the **Central Accounting Policy Manual (internal_capm)** and the **IASB Publications (external_iasb)**. The queries aimed to extract authoritative definitions and guidelines regarding business combinations under IFRS, specifically referencing IFRS 3.\n",
      "\n",
      "### Key Queries\n",
      "1. **Query 1**: Searched the internal CAPM for the definition of a business combination.\n",
      "2. **Query 2**: Searched the IASB database for the definition of a business combination under IFRS 3.\n",
      "\n",
      "## Findings\n",
      "\n",
      "### Query Results\n",
      "- **Query 1 (internal_capm)**:\n",
      "  - The results provided relevant policy guidelines but did not directly define a business combination. Instead, it included sections on financial instruments and revenue recognition, which may indirectly relate to business combinations but do not provide a clear definition.\n",
      "  \n",
      "- **Query 2 (external_iasb)**:\n",
      "  - This query returned a placeholder response, indicating that the expected documentation and definitions were not accessible at this time. This lack of information is a significant gap, as it prevents a comprehensive understanding of the IFRS 3 definition.\n",
      "\n",
      "### Relevant Sections from Query 1\n",
      "While Query 1 did not yield a direct definition, it highlighted sections that may be useful for understanding the broader context of business combinations:\n",
      "- **Policy Section PR-23.4**: Discusses accounting for financial instruments, which can be relevant when considering the financial implications of business combinations.\n",
      "- **Policy Section PR-14.7**: Covers revenue recognition, which is crucial when evaluating the performance of a combined entity.\n",
      "\n",
      "## Conflicts and Gaps\n",
      "- **Lack of Direct Definition**: The absence of a clear definition from both queries indicates a potential gap in the available resources. Users should be aware that while related policies are available, they do not substitute for the specific definition of a business combination.\n",
      "- **Placeholder Response**: The placeholder response from the IASB database suggests that further investigation may be necessary to obtain the official IFRS 3 definition.\n",
      "\n",
      "## Important Considerations\n",
      "- **Contextual Understanding**: Users should consider the broader implications of business combinations as outlined in related sections of the CAPM, even if a direct definition is not provided.\n",
      "- **Further Research Needed**: Given the gaps in the current findings, users may need to explore additional databases such as **Technical Memos (internal_memos)** or **EY Accounting Resources (external_ey)** for more nuanced interpretations or external guidance.\n",
      "\n",
      "## Conclusion\n",
      "In summary, while the research did not yield a direct definition of a business combination under IFRS, it provided insights into related accounting policies. Users are encouraged to refer to **Query 1** for relevant policy sections and consider further exploration of additional resources to fill the gaps identified in the current findings. The lack of a clear definition highlights the importance of comprehensive research in accounting standards and the need for continuous updates from authoritative sources."
     ]
    },
    {
     "name": "stderr",
     "output_type": "stream",
     "text": [
      "2025-04-02 16:39:45,728 - iris.src.llm_connectors.rbc_openai - INFO - Token usage - Completion: 669 ($0.0000), Prompt: 973 ($0.0000), Total: 1642 tokens, Total Cost: $0.0000\n"
     ]
    },
    {
     "name": "stdout",
     "output_type": "stream",
     "text": [
      "\n",
      "\n",
      "---\n",
      "Completed 2 database queries.\n"
     ]
    },
    {
     "name": "stderr",
     "output_type": "stream",
     "text": [
      "2025-04-02 16:39:45,733 - root - INFO - Completed research process\n"
     ]
    },
    {
     "name": "stdout",
     "output_type": "stream",
     "text": [
      "\n",
      "\n",
      "---\n",
      "## Usage Statistics\n",
      "\n",
      "- Input tokens: 12442\n",
      "- Output tokens: 922\n",
      "- Total tokens: 13364\n",
      "- Cost: $0.000021\n"
     ]
    }
   ],
   "source": [
    "# Call the model function with our conversation\n",
    "result_generator = model(conversation)\n",
    "\n",
    "# Stream the response chunks directly\n",
    "for chunk in result_generator:\n",
    "    print(chunk, end=\"\", flush=True)"
   ]
  },
  {
   "cell_type": "code",
   "execution_count": null,
   "id": "23b8191d-2940-454c-8f77-2768a015a9d4",
   "metadata": {},
   "outputs": [],
   "source": []
  }
 ],
 "metadata": {
  "kernelspec": {
   "display_name": "Python 3 (ipykernel)",
   "language": "python",
   "name": "python3"
  },
  "language_info": {
   "codemirror_mode": {
    "name": "ipython",
    "version": 3
   },
   "file_extension": ".py",
   "mimetype": "text/x-python",
   "name": "python",
   "nbconvert_exporter": "python",
   "pygments_lexer": "ipython3",
   "version": "3.13.2"
  }
 },
 "nbformat": 4,
 "nbformat_minor": 5
}
