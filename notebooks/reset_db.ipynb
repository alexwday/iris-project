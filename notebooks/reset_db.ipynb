{
 "cells": [
  {
   "cell_type": "markdown",
   "metadata": {},
   "source": [
    "# Database Reset and Test Data Insertion\\n\\nThis notebook resets the database and inserts test data for `internal_wiki` documents.\\n\\n> **Note:** This notebook uses the local PostgreSQL installation, not Docker."
   ]
  },
  {
   "cell_type": "code",
   "execution_count": 4,
   "metadata": {},
   "outputs": [
    {
     "name": "stdout",
     "output_type": "stream",
     "text": [
      "Connecting to maven-finance at localhost:5432...\n",
      "Connected successfully! 🎉\n"
     ]
    }
   ],
   "source": [
    "# Import required modules\n",
    "import sys\n",
    "import os\n",
    "from datetime import datetime\n",
    "\n",
    "# Add the project root to the path if needed\n",
    "project_root = os.path.abspath(os.path.join(os.getcwd(), '..'))\n",
    "if project_root not in sys.path:\n",
    "    sys.path.append(project_root)\n",
    "\n",
    "# Import directly from the module to avoid the __init__.py import chain\n",
    "import iris.src.initial_setup.db_config as db_config\n",
    "\n",
    "# Connect to the database\n",
    "conn = db_config.connect_to_db(\"local\")"
   ]
  },
  {
   "cell_type": "code",
   "execution_count": 5,
   "metadata": {},
   "outputs": [
    {
     "name": "stdout",
     "output_type": "stream",
     "text": [
      "Current apg_catalog record count: 3\n",
      "Current apg_content record count: 6\n",
      "\n",
      "Document sources in apg_catalog:\n",
      "  - internal_wiki: 3 records\n"
     ]
    }
   ],
   "source": [
    "# Check current data\n",
    "if conn:\n",
    "    with conn.cursor() as cur:\n",
    "        # Check catalog records\n",
    "        cur.execute(\"SELECT COUNT(*) FROM apg_catalog\")\n",
    "        catalog_count = cur.fetchone()[0]\n",
    "        print(f\"Current apg_catalog record count: {catalog_count}\")\n",
    "        \n",
    "        # Check content records\n",
    "        cur.execute(\"SELECT COUNT(*) FROM apg_content\")\n",
    "        content_count = cur.fetchone()[0]\n",
    "        print(f\"Current apg_content record count: {content_count}\")\n",
    "        \n",
    "        # Show summary of document sources\n",
    "        cur.execute(\"SELECT document_source, COUNT(*) FROM apg_catalog GROUP BY document_source\")\n",
    "        sources = cur.fetchall()\n",
    "        print(\"\\nDocument sources in apg_catalog:\")\n",
    "        for source, count in sources:\n",
    "            print(f\"  - {source}: {count} records\")"
   ]
  },
  {
   "cell_type": "code",
   "execution_count": 6,
   "metadata": {},
   "outputs": [
    {
     "name": "stdout",
     "output_type": "stream",
     "text": [
      "Clearing existing data...\n",
      "All data cleared.\n"
     ]
    }
   ],
   "source": [
    "# Clear all existing data\n",
    "if conn:\n",
    "    with conn.cursor() as cur:\n",
    "        print(\"Clearing existing data...\")\n",
    "        cur.execute(\"TRUNCATE TABLE apg_catalog, apg_content RESTART IDENTITY CASCADE;\")\n",
    "        conn.commit()\n",
    "        print(\"All data cleared.\")"
   ]
  },
  {
   "cell_type": "code",
   "execution_count": 7,
   "metadata": {},
   "outputs": [
    {
     "name": "stdout",
     "output_type": "stream",
     "text": [
      "Inserting catalog records...\n",
      "Catalog records inserted.\n"
     ]
    }
   ],
   "source": [
    "# Insert catalog records\n",
    "if conn:\n",
    "    with conn.cursor() as cur:\n",
    "        print(\"Inserting catalog records...\")\n",
    "        \n",
    "        catalog_records = [\n",
    "            (\n",
    "                'internal_wiki', \n",
    "                'ifrs_standard', \n",
    "                'IFRS_15_Revenue', \n",
    "                'IFRS 15 Revenue from Contracts with Customers: Addresses the principles for recognizing revenue from contracts with customers. Establishes a five-step model for revenue recognition.',\n",
    "                datetime.fromisoformat('2025-03-27 13:52:12-04:00'),\n",
    "                datetime.fromisoformat('2025-03-27 13:52:12-04:00'),\n",
    "                'IFRS_15_Revenue.md',\n",
    "                '.md',\n",
    "                '//wiki/finance/standards/',\n",
    "            ),\n",
    "            (\n",
    "                'internal_wiki', \n",
    "                'ifrs_standard', \n",
    "                'IAS_12_IncomeTaxes', \n",
    "                'IAS 12 Income Taxes: Prescribes the accounting treatment for income taxes. Addresses the current and future tax consequences of transactions and events.',\n",
    "                datetime.fromisoformat('2025-03-27 13:52:12-04:00'),\n",
    "                datetime.fromisoformat('2025-03-27 13:52:12-04:00'),\n",
    "                'IAS_12_IncomeTaxes.md',\n",
    "                '.md',\n",
    "                '//wiki/finance/standards/',\n",
    "            ),\n",
    "            (\n",
    "                'internal_wiki', \n",
    "                'internal_memo', \n",
    "                'Q1_2025_Financial_Analysis', \n",
    "                'Internal analysis of Q1 2025 financial performance across business units. Includes variance analysis and forecasting adjustments.',\n",
    "                datetime.fromisoformat('2025-03-27 13:52:12-04:00'),\n",
    "                datetime.fromisoformat('2025-03-27 13:52:12-04:00'),\n",
    "                'Q1_2025_Financial_Analysis.md',\n",
    "                '.md',\n",
    "                '//wiki/finance/memos/',\n",
    "            ),\n",
    "        ]\n",
    "        \n",
    "        for record in catalog_records:\n",
    "            cur.execute(\"\"\"\n",
    "                INSERT INTO apg_catalog \n",
    "                (document_source, document_type, document_name, document_description, \n",
    "                date_created, date_last_modified, file_name, file_type, file_path)\n",
    "                VALUES (%s, %s, %s, %s, %s, %s, %s, %s, %s)\n",
    "            \"\"\", record)\n",
    "        \n",
    "        conn.commit()\n",
    "        print(\"Catalog records inserted.\")"
   ]
  },
  {
   "cell_type": "code",
   "execution_count": 8,
   "metadata": {},
   "outputs": [
    {
     "name": "stdout",
     "output_type": "stream",
     "text": [
      "Inserting content records...\n",
      "Content records inserted.\n"
     ]
    }
   ],
   "source": [
    "# Insert content records\n",
    "if conn:\n",
    "    with conn.cursor() as cur:\n",
    "        print(\"Inserting content records...\")\n",
    "        \n",
    "        content_records = [\n",
    "            # IFRS 15 Records\n",
    "            (\n",
    "                'internal_wiki', 'ifrs_standard', 'IFRS_15_Revenue', 0, None, None,\n",
    "                \"\"\"# Record Information\n",
    "\n",
    "- **Year:** 15\n",
    "- **Published:** 2014\n",
    "\n",
    "# Standards and Classification\n",
    "\n",
    "- **IFRS Standard 15**: Revenue from Contracts with Customers\n",
    "\n",
    "This standard establishes a comprehensive framework for determining when to recognize revenue and how much revenue to recognize. The core principle is that an entity should recognize revenue to depict the transfer of promised goods or services to customers in an amount that reflects the consideration to which the entity expects to be entitled in exchange for those goods or services.\"\"\"\n",
    "            ),\n",
    "            (\n",
    "                'internal_wiki', 'ifrs_standard', 'IFRS_15_Revenue', 1, 'Five-Step Model', \n",
    "                'The five-step model for revenue recognition under IFRS 15',\n",
    "                \"\"\"# Five-Step Model for Revenue Recognition\n",
    "\n",
    "1. **Identify the contract(s) with a customer**\n",
    "2. **Identify the performance obligations in the contract**\n",
    "3. **Determine the transaction price**\n",
    "4. **Allocate the transaction price to the performance obligations**\n",
    "5. **Recognize revenue when (or as) the entity satisfies a performance obligation**\n",
    "\n",
    "This model applies to all contracts with customers except leases, insurance contracts, financial instruments, and certain non-monetary exchanges.\"\"\"\n",
    "            ),\n",
    "            \n",
    "            # IAS 12 Records\n",
    "            (\n",
    "                'internal_wiki', 'ifrs_standard', 'IAS_12_IncomeTaxes', 0, None, None,\n",
    "                \"\"\"# Record Information\n",
    "\n",
    "- **Year:** 12\n",
    "- **Revised:** 2023\n",
    "\n",
    "# Standards and Classification\n",
    "\n",
    "- **IAS 12**: Income Taxes\n",
    "\n",
    "This standard prescribes the accounting treatment for income taxes. It addresses both current tax and deferred tax consequences.\"\"\"\n",
    "            ),\n",
    "            \n",
    "            # Q1 2025 Financial Analysis Records\n",
    "            (\n",
    "                'internal_wiki', 'internal_memo', 'Q1_2025_Financial_Analysis', 0, None, None,\n",
    "                \"\"\"# Record Information\n",
    "\n",
    "- **Quarter:** Q1\n",
    "- **Year:** 2025\n",
    "- **Department:** Finance\n",
    "\n",
    "# Executive Summary\n",
    "\n",
    "This document presents the financial analysis for Q1 2025. Key performance indicators show a 12% increase in revenue compared to the previous quarter, with operating margin improving by 2.5 percentage points.\"\"\"\n",
    "            ),\n",
    "            (\n",
    "                'internal_wiki', 'internal_memo', 'Q1_2025_Financial_Analysis', 1, 'Revenue Analysis', \n",
    "                'Breakdown of Q1 2025 revenue by business unit and product line',\n",
    "                \"\"\"# Revenue Analysis\n",
    "\n",
    "## Business Unit Performance\n",
    "- **North America**: $245.6M (+15.2% YoY)\n",
    "- **EMEA**: $198.3M (+8.7% YoY)\n",
    "- **APAC**: $156.9M (+22.3% YoY)\n",
    "\n",
    "## Product Line Performance\n",
    "- **Enterprise Solutions**: $312.4M (+18.1% YoY)\n",
    "- **Consumer Products**: $189.5M (+5.3% YoY)\n",
    "- **Professional Services**: $98.9M (+12.8% YoY)\"\"\"\n",
    "            ),\n",
    "            (\n",
    "                'internal_wiki', 'internal_memo', 'Q1_2025_Financial_Analysis', 2, 'Cost Structure', \n",
    "                'Analysis of Q1 2025 cost structure and efficiency metrics',\n",
    "                \"\"\"# Cost Structure Analysis\n",
    "\n",
    "## Operating Expenses\n",
    "- **Cost of Goods Sold**: $285.3M (47.5% of revenue)\n",
    "- **R&D**: $84.7M (14.1% of revenue)\n",
    "- **Sales & Marketing**: $95.2M (15.8% of revenue)\n",
    "- **G&A**: $42.6M (7.1% of revenue)\n",
    "\n",
    "## Efficiency Metrics\n",
    "- **Gross Margin**: 52.5% (+1.8pp YoY)\n",
    "- **Operating Margin**: 15.5% (+2.5pp YoY)\n",
    "- **Net Margin**: 12.3% (+1.9pp YoY)\"\"\"\n",
    "            ),\n",
    "        ]\n",
    "        \n",
    "        for record in content_records:\n",
    "            cur.execute(\"\"\"\n",
    "                INSERT INTO apg_content\n",
    "                (document_source, document_type, document_name, section_id, section_name, section_summary, section_content)\n",
    "                VALUES (%s, %s, %s, %s, %s, %s, %s)\n",
    "            \"\"\", record)\n",
    "        \n",
    "        conn.commit()\n",
    "        print(\"Content records inserted.\")"
   ]
  },
  {
   "cell_type": "code",
   "execution_count": 9,
   "metadata": {},
   "outputs": [
    {
     "name": "stdout",
     "output_type": "stream",
     "text": [
      "Final apg_catalog record count: 3\n",
      "Final apg_content record count: 6\n",
      "\n",
      "Apg_catalog records:\n",
      "  - ID 1: internal_wiki / ifrs_standard / IFRS_15_Revenue\n",
      "  - ID 2: internal_wiki / ifrs_standard / IAS_12_IncomeTaxes\n",
      "  - ID 3: internal_wiki / internal_memo / Q1_2025_Financial_Analysis\n",
      "\n",
      "Apg_content records:\n",
      "  - IAS_12_IncomeTaxes: 1 sections\n",
      "  - IFRS_15_Revenue: 2 sections\n",
      "  - Q1_2025_Financial_Analysis: 3 sections\n"
     ]
    }
   ],
   "source": [
    "# Verify the inserted data\n",
    "if conn:\n",
    "    with conn.cursor() as cur:\n",
    "        # Check catalog records\n",
    "        cur.execute(\"SELECT COUNT(*) FROM apg_catalog\")\n",
    "        catalog_count = cur.fetchone()[0]\n",
    "        print(f\"Final apg_catalog record count: {catalog_count}\")\n",
    "        \n",
    "        # Check content records\n",
    "        cur.execute(\"SELECT COUNT(*) FROM apg_content\")\n",
    "        content_count = cur.fetchone()[0]\n",
    "        print(f\"Final apg_content record count: {content_count}\")\n",
    "        \n",
    "        # Show catalog records\n",
    "        print(\"\\nApg_catalog records:\")\n",
    "        cur.execute(\"SELECT id, document_source, document_type, document_name FROM apg_catalog\")\n",
    "        for row in cur.fetchall():\n",
    "            print(f\"  - ID {row[0]}: {row[1]} / {row[2]} / {row[3]}\")\n",
    "            \n",
    "        # Show content records summary\n",
    "        print(\"\\nApg_content records:\")\n",
    "        cur.execute(\"\"\"\n",
    "            SELECT c.document_name, count(ct.id)\n",
    "            FROM apg_catalog c\n",
    "            JOIN apg_content ct ON c.document_source = ct.document_source \n",
    "                AND c.document_type = ct.document_type \n",
    "                AND c.document_name = ct.document_name\n",
    "            GROUP BY c.document_name\n",
    "        \"\"\")\n",
    "        for doc_name, section_count in cur.fetchall():\n",
    "            print(f\"  - {doc_name}: {section_count} sections\")"
   ]
  },
  {
   "cell_type": "code",
   "execution_count": 10,
   "metadata": {},
   "outputs": [
    {
     "name": "stdout",
     "output_type": "stream",
     "text": [
      "Database connection closed.\n"
     ]
    }
   ],
   "source": [
    "# Close the connection when done\n",
    "if conn:\n",
    "    conn.close()\n",
    "    print(\"Database connection closed.\")"
   ]
  },
  {
   "cell_type": "code",
   "execution_count": null,
   "metadata": {},
   "outputs": [],
   "source": []
  }
 ],
 "metadata": {
  "kernelspec": {
   "display_name": "Python 3 (ipykernel)",
   "language": "python",
   "name": "python3"
  },
  "language_info": {
   "codemirror_mode": {
    "name": "ipython",
    "version": 3
   },
   "file_extension": ".py",
   "mimetype": "text/x-python",
   "name": "python",
   "nbconvert_exporter": "python",
   "pygments_lexer": "ipython3",
   "version": "3.13.2"
  }
 },
 "nbformat": 4,
 "nbformat_minor": 4
}
