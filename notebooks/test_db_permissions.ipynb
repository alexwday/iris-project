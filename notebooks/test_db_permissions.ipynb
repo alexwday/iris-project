{
 "cells": [
  {
   "cell_type": "markdown",
   "metadata": {},
   "source": [
    "# Database Privileges Test Notebook\n",
    "\n",
    "This notebook tests whether your database user has the necessary privileges to alter tables without actually making any changes."
   ]
  },
  {
   "cell_type": "code",
   "execution_count": 5,
   "metadata": {},
   "outputs": [],
   "source": [
    "import sys\n",
    "import os\n",
    "import psycopg2\n",
    "from psycopg2 import sql\n",
    "\n",
    "# Add project root to path\n",
    "project_root = os.path.abspath(os.path.join(os.path.dirname(\"__file__\"), \"..\"))\n",
    "sys.path.append(project_root)\n",
    "\n",
    "from iris.src.initial_setup.db_config import get_db_params, connect_to_db"
   ]
  },
  {
   "cell_type": "markdown",
   "metadata": {},
   "source": [
    "## 1. Connect to Database"
   ]
  },
  {
   "cell_type": "code",
   "execution_count": 6,
   "metadata": {},
   "outputs": [
    {
     "name": "stdout",
     "output_type": "stream",
     "text": [
      "Connecting to maven-finance at localhost:5432 as user iris_dev...\n",
      "Connected successfully! 🎉\n"
     ]
    }
   ],
   "source": [
    "# Get database parameters\n",
    "db_params = get_db_params(\"local\")\n",
    "print(f\"Connecting to {db_params['dbname']} at {db_params['host']}:{db_params['port']} as user {db_params['user']}...\")\n",
    "\n",
    "# Connect to database\n",
    "conn = connect_to_db(\"local\")\n",
    "if conn:\n",
    "    print(\"Connected successfully! 🎉\")\n",
    "else:\n",
    "    print(\"Failed to connect to database.\")"
   ]
  },
  {
   "cell_type": "markdown",
   "metadata": {},
   "source": [
    "## 2. Check User Privileges"
   ]
  },
  {
   "cell_type": "code",
   "execution_count": 7,
   "metadata": {},
   "outputs": [
    {
     "name": "stdout",
     "output_type": "stream",
     "text": [
      "Current database user: iris_dev\n",
      "\n",
      "No explicit privileges found for your user on the target tables.\n",
      "This might be because privileges are granted through a role or group.\n",
      "\n",
      "✅ You are a superuser, which means you have all privileges.\n"
     ]
    }
   ],
   "source": [
    "def check_user_privileges(conn):\n",
    "    \"\"\"Check the current user's privileges on database objects.\"\"\"\n",
    "    with conn.cursor() as cur:\n",
    "        # Get current user\n",
    "        cur.execute(\"SELECT current_user;\")\n",
    "        current_user = cur.fetchone()[0]\n",
    "        print(f\"Current database user: {current_user}\")\n",
    "        \n",
    "        # Check table privileges\n",
    "        cur.execute(\"\"\"\n",
    "            SELECT table_name, privilege_type\n",
    "            FROM information_schema.table_privileges\n",
    "            WHERE grantee = current_user\n",
    "              AND table_schema = 'public'\n",
    "              AND table_name IN ('apg_catalog', 'apg_content')\n",
    "            ORDER BY table_name, privilege_type;\n",
    "        \"\"\")\n",
    "        \n",
    "        privileges = cur.fetchall()\n",
    "        if privileges:\n",
    "            print(\"\\nYour privileges on the tables:\")\n",
    "            for table_name, privilege in privileges:\n",
    "                print(f\"- {table_name}: {privilege}\")\n",
    "        else:\n",
    "            print(\"\\nNo explicit privileges found for your user on the target tables.\")\n",
    "            print(\"This might be because privileges are granted through a role or group.\")\n",
    "        \n",
    "        # Check if user is a superuser\n",
    "        cur.execute(\"\"\"SELECT usesuper FROM pg_user WHERE usename = current_user;\"\"\")\n",
    "        is_superuser = cur.fetchone()[0]\n",
    "        if is_superuser:\n",
    "            print(\"\\n✅ You are a superuser, which means you have all privileges.\")\n",
    "        else:\n",
    "            print(\"\\nYou are not a superuser.\")\n",
    "\n",
    "if conn:\n",
    "    check_user_privileges(conn)"
   ]
  },
  {
   "cell_type": "markdown",
   "metadata": {},
   "source": [
    "## 3. Test ALTER TABLE Permissions (with Rollback)"
   ]
  },
  {
   "cell_type": "code",
   "execution_count": 8,
   "metadata": {},
   "outputs": [
    {
     "name": "stdout",
     "output_type": "stream",
     "text": [
      "Testing ALTER TABLE permission...\n",
      "NOTE: No actual changes will be made - we'll roll back the transaction.\n",
      "\n",
      "✅ ALTER TABLE permission test successful! You have permission to alter tables.\n",
      "\n",
      "Transaction rolled back - no changes were made to the database.\n"
     ]
    }
   ],
   "source": [
    "def test_alter_table_permission(conn):\n",
    "    \"\"\"Test ALTER TABLE permission using a transaction that will be rolled back.\"\"\"\n",
    "    if not conn:\n",
    "        return\n",
    "    \n",
    "    print(\"Testing ALTER TABLE permission...\")\n",
    "    print(\"NOTE: No actual changes will be made - we'll roll back the transaction.\")\n",
    "    \n",
    "    # Create a new connection for this test to avoid transaction issues\n",
    "    test_conn = None\n",
    "    try:\n",
    "        # Connect with a fresh connection\n",
    "        db_params = get_db_params(\"local\")\n",
    "        test_conn = psycopg2.connect(**db_params)\n",
    "        test_conn.autocommit = False  # Start in transaction mode\n",
    "        \n",
    "        with test_conn.cursor() as cur:\n",
    "            # Try to add a test column to apg_catalog\n",
    "            cur.execute(\"\"\"\n",
    "                ALTER TABLE apg_catalog \n",
    "                ADD COLUMN _test_permission_column TEXT;\n",
    "            \"\"\")\n",
    "            print(\"\\n✅ ALTER TABLE permission test successful! You have permission to alter tables.\")\n",
    "    except Exception as e:\n",
    "        print(f\"\\n❌ ALTER TABLE permission test failed: {str(e)}\")\n",
    "        print(\"You may not have permission to alter tables.\")\n",
    "    finally:\n",
    "        # Roll back the transaction - no actual changes are made\n",
    "        if test_conn:\n",
    "            test_conn.rollback()\n",
    "            print(\"\\nTransaction rolled back - no changes were made to the database.\")\n",
    "            test_conn.close()\n",
    "\n",
    "if conn:\n",
    "    test_alter_table_permission(conn)"
   ]
  },
  {
   "cell_type": "markdown",
   "metadata": {},
   "source": [
    "## 4. Check for pgvector Extension"
   ]
  },
  {
   "cell_type": "code",
   "execution_count": 9,
   "metadata": {},
   "outputs": [
    {
     "name": "stdout",
     "output_type": "stream",
     "text": [
      "Checking for pgvector extension...\n",
      "\n",
      "❌ pgvector extension is not available on this PostgreSQL server.\n",
      "You'll need to install the pgvector extension on the server before using vector columns.\n"
     ]
    }
   ],
   "source": [
    "def check_pgvector_extension(conn):\n",
    "    \"\"\"Check if the pgvector extension is available and installed.\"\"\"\n",
    "    if not conn:\n",
    "        return\n",
    "    \n",
    "    print(\"Checking for pgvector extension...\")\n",
    "    \n",
    "    with conn.cursor() as cur:\n",
    "        # Check if pgvector is available\n",
    "        cur.execute(\"\"\"\n",
    "            SELECT name, default_version, installed_version\n",
    "            FROM pg_available_extensions\n",
    "            WHERE name = 'vector';\n",
    "        \"\"\")\n",
    "        \n",
    "        result = cur.fetchone()\n",
    "        if result:\n",
    "            name, default_version, installed_version = result\n",
    "            print(f\"\\n✅ pgvector extension is available:\")\n",
    "            print(f\"   - Name: {name}\")\n",
    "            print(f\"   - Default version: {default_version}\")\n",
    "            \n",
    "            if installed_version:\n",
    "                print(f\"   - Installed version: {installed_version}\")\n",
    "                print(\"   - Status: INSTALLED\")\n",
    "            else:\n",
    "                print(\"   - Status: AVAILABLE BUT NOT INSTALLED\")\n",
    "                print(\"   - You'll need to install it with: CREATE EXTENSION vector;\")\n",
    "                \n",
    "            # Test if you have permission to create extensions\n",
    "            # Create a new connection for this test to avoid transaction issues\n",
    "            test_conn = None\n",
    "            try:\n",
    "                # Connect with a fresh connection\n",
    "                db_params = get_db_params(\"local\")\n",
    "                test_conn = psycopg2.connect(**db_params)\n",
    "                test_conn.autocommit = False  # Start in transaction mode\n",
    "                \n",
    "                with test_conn.cursor() as test_cur:\n",
    "                    # Try to create the extension\n",
    "                    test_cur.execute(\"\"\"CREATE EXTENSION IF NOT EXISTS vector;\"\"\")\n",
    "                    print(\"\\n✅ You have permission to create/manage extensions.\")\n",
    "            except Exception as e:\n",
    "                print(f\"\\n❌ Extension creation test failed: {str(e)}\")\n",
    "                print(\"You may not have permission to create extensions.\")\n",
    "            finally:\n",
    "                # Roll back the transaction - no actual changes are made\n",
    "                if test_conn:\n",
    "                    test_conn.rollback()\n",
    "                    print(\"Transaction rolled back - no changes were made to the database.\")\n",
    "                    test_conn.close()\n",
    "        else:\n",
    "            print(\"\\n❌ pgvector extension is not available on this PostgreSQL server.\")\n",
    "            print(\"You'll need to install the pgvector extension on the server before using vector columns.\")\n",
    "\n",
    "if conn:\n",
    "    check_pgvector_extension(conn)"
   ]
  },
  {
   "cell_type": "markdown",
   "metadata": {},
   "source": [
    "## 5. Test Vector Column Creation (with Rollback)"
   ]
  },
  {
   "cell_type": "code",
   "execution_count": 10,
   "metadata": {},
   "outputs": [
    {
     "name": "stdout",
     "output_type": "stream",
     "text": [
      "Testing vector column creation...\n",
      "NOTE: No actual changes will be made - we'll roll back the transaction.\n",
      "\n",
      "❓ Cannot test vector column creation because the vector extension is not installed.\n",
      "You'll need to install the extension first with: CREATE EXTENSION vector;\n"
     ]
    }
   ],
   "source": [
    "def test_vector_column_creation(conn):\n",
    "    \"\"\"Test if we can create a vector column (with rollback).\"\"\"\n",
    "    if not conn:\n",
    "        return\n",
    "    \n",
    "    print(\"Testing vector column creation...\")\n",
    "    print(\"NOTE: No actual changes will be made - we'll roll back the transaction.\")\n",
    "    \n",
    "    # First check if vector extension is installed\n",
    "    with conn.cursor() as cur:\n",
    "        cur.execute(\"\"\"\n",
    "            SELECT installed_version FROM pg_available_extensions WHERE name = 'vector';\n",
    "        \"\"\")\n",
    "        result = cur.fetchone()\n",
    "    \n",
    "    if not result or not result[0]:\n",
    "        print(\"\\n❓ Cannot test vector column creation because the vector extension is not installed.\")\n",
    "        print(\"You'll need to install the extension first with: CREATE EXTENSION vector;\")\n",
    "        return\n",
    "    \n",
    "    # Create a new connection for this test to avoid transaction issues\n",
    "    test_conn = None\n",
    "    try:\n",
    "        # Connect with a fresh connection\n",
    "        db_params = get_db_params(\"local\")\n",
    "        test_conn = psycopg2.connect(**db_params)\n",
    "        test_conn.autocommit = False  # Start in transaction mode\n",
    "        \n",
    "        with test_conn.cursor() as cur:\n",
    "            # Try to add a vector column\n",
    "            cur.execute(\"\"\"\n",
    "                ALTER TABLE apg_catalog \n",
    "                ADD COLUMN _test_vector_column vector(2000);\n",
    "            \"\"\")\n",
    "            print(\"\\n✅ Vector column creation test successful!\")\n",
    "            print(\"You can create vector columns in your database.\")\n",
    "    except Exception as e:\n",
    "        print(f\"\\n❌ Vector column creation test failed: {str(e)}\")\n",
    "    finally:\n",
    "        # Roll back the transaction - no actual changes are made\n",
    "        if test_conn:\n",
    "            test_conn.rollback()\n",
    "            print(\"\\nTransaction rolled back - no changes were made to the database.\")\n",
    "            test_conn.close()\n",
    "\n",
    "if conn:\n",
    "    test_vector_column_creation(conn)"
   ]
  },
  {
   "cell_type": "markdown",
   "metadata": {},
   "source": [
    "## 6. Summary"
   ]
  },
  {
   "cell_type": "code",
   "execution_count": 11,
   "metadata": {},
   "outputs": [
    {
     "name": "stdout",
     "output_type": "stream",
     "text": [
      "\n",
      "=== SUMMARY ===\n",
      "\n",
      "This notebook has tested your database permissions without making any actual changes.\n",
      "Review the output above to determine if you have the necessary permissions to:\n",
      "1. Alter tables\n",
      "2. Create/manage extensions (if needed for pgvector)\n",
      "3. Create vector columns (if pgvector is installed)\n",
      "\n",
      "Database connection closed.\n"
     ]
    }
   ],
   "source": [
    "print(\"\\n=== SUMMARY ===\\n\")\n",
    "print(\"This notebook has tested your database permissions without making any actual changes.\")\n",
    "print(\"Review the output above to determine if you have the necessary permissions to:\")\n",
    "print(\"1. Alter tables\")\n",
    "print(\"2. Create/manage extensions (if needed for pgvector)\")\n",
    "print(\"3. Create vector columns (if pgvector is installed)\")\n",
    "\n",
    "# Close the connection\n",
    "if conn:\n",
    "    conn.close()\n",
    "    print(\"\\nDatabase connection closed.\")"
   ]
  },
  {
   "cell_type": "code",
   "execution_count": null,
   "metadata": {},
   "outputs": [],
   "source": []
  }
 ],
 "metadata": {
  "kernelspec": {
   "display_name": "Python 3 (ipykernel)",
   "language": "python",
   "name": "python3"
  },
  "language_info": {
   "codemirror_mode": {
    "name": "ipython",
    "version": 3
   },
   "file_extension": ".py",
   "mimetype": "text/x-python",
   "name": "python",
   "nbconvert_exporter": "python",
   "pygments_lexer": "ipython3",
   "version": "3.13.2"
  }
 },
 "nbformat": 4,
 "nbformat_minor": 4
}
